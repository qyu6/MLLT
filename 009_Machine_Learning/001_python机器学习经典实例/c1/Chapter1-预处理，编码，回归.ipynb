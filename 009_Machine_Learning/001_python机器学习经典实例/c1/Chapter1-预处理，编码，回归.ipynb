{
 "cells": [
  {
   "cell_type": "markdown",
   "metadata": {
    "application/vnd.databricks.v1+cell": {
     "cellMetadata": {},
     "inputWidgets": {},
     "nuid": "fe7c278c-0ffd-4249-88a2-44a4e08304e3",
     "showTitle": false,
     "title": ""
    }
   },
   "source": [
    "Agenda:\n",
    "- 预处理\n",
    "- 标记编码，one-hot编码\n",
    "- 线性回归\n",
    "- 岭回归\n",
    "- 多项式回归\n",
    "- 随机梯度下降回归\n",
    "- Decision Tree\n",
    "- AdaBoost Decision Tree - 预测房价\n",
    "- Random Forest Regressor - 评估共享单车的需求分布"
   ]
  },
  {
   "cell_type": "markdown",
   "metadata": {
    "application/vnd.databricks.v1+cell": {
     "cellMetadata": {},
     "inputWidgets": {},
     "nuid": "401ba3ed-3be3-414c-82ff-925d5710e7f4",
     "showTitle": false,
     "title": ""
    }
   },
   "source": [
    "#### 数据预处理技术"
   ]
  },
  {
   "cell_type": "code",
   "execution_count": 0,
   "metadata": {
    "application/vnd.databricks.v1+cell": {
     "cellMetadata": {},
     "inputWidgets": {},
     "nuid": "b89b2575-4650-4c65-9d0e-cab10fd8fca4",
     "showTitle": false,
     "title": ""
    }
   },
   "outputs": [],
   "source": [
    "import numpy as np\n",
    "from sklearn import preprocessing\n",
    "# import mlflow.sklearn\n",
    "# mlflow.sklearn.autolog()"
   ]
  },
  {
   "cell_type": "code",
   "execution_count": 0,
   "metadata": {
    "application/vnd.databricks.v1+cell": {
     "cellMetadata": {},
     "inputWidgets": {},
     "nuid": "a5854a70-af34-4344-a8f2-080ffb111d74",
     "showTitle": false,
     "title": ""
    }
   },
   "outputs": [
    {
     "data": {
      "text/plain": [
       "Out[140]: array([[ 3. , -1.5,  2. , -5.4],\n",
       "       [ 0. ,  4. , -0.3,  2.1],\n",
       "       [ 1. ,  3.3, -1.9, -4.3]])"
      ]
     },
     "metadata": {
      "application/vnd.databricks.v1+output": {
       "addedWidgets": {},
       "arguments": {},
       "data": "Out[140]: array([[ 3. , -1.5,  2. , -5.4],\n       [ 0. ,  4. , -0.3,  2.1],\n       [ 1. ,  3.3, -1.9, -4.3]])",
       "datasetInfos": [],
       "metadata": {},
       "removedWidgets": [],
       "type": "ansi"
      }
     },
     "output_type": "display_data"
    }
   ],
   "source": [
    "data = np.array([[ 3, -1.5,  2, -5.4],\n",
    "                 [ 0,  4,  -0.3, 2.1],\n",
    "                 [ 1,  3.3, -1.9, -4.3]])\n",
    "data"
   ]
  },
  {
   "cell_type": "code",
   "execution_count": 0,
   "metadata": {
    "application/vnd.databricks.v1+cell": {
     "cellMetadata": {},
     "inputWidgets": {},
     "nuid": "da9a8437-8aa0-4038-ac83-e0e7f93633d5",
     "showTitle": false,
     "title": ""
    }
   },
   "outputs": [
    {
     "data": {
      "text/plain": [
       "[[ 1.33630621 -1.40451644  1.29110641 -0.86687558]\n",
       " [-1.06904497  0.84543708 -0.14577008  1.40111286]\n",
       " [-0.26726124  0.55907936 -1.14533633 -0.53423728]]\n",
       "\n",
       "Mean = [ 5.55111512e-17 -1.11022302e-16 -7.40148683e-17 -7.40148683e-17]\n",
       "Std deviation = [1. 1. 1. 1.]\n"
      ]
     },
     "metadata": {
      "application/vnd.databricks.v1+output": {
       "addedWidgets": {},
       "arguments": {},
       "data": "[[ 1.33630621 -1.40451644  1.29110641 -0.86687558]\n [-1.06904497  0.84543708 -0.14577008  1.40111286]\n [-0.26726124  0.55907936 -1.14533633 -0.53423728]]\n\nMean = [ 5.55111512e-17 -1.11022302e-16 -7.40148683e-17 -7.40148683e-17]\nStd deviation = [1. 1. 1. 1.]\n",
       "datasetInfos": [],
       "metadata": {},
       "removedWidgets": [],
       "type": "ansi"
      }
     },
     "output_type": "display_data"
    }
   ],
   "source": [
    "# 特征标准化(Z-score标准化，0-1标准化)，变为均值为0，标准差为1的标准正态分布形式。消除量纲，减少特征之间的偏差\n",
    "data_standardized = preprocessing.scale(data)\n",
    "\n",
    "print(data_standardized)\n",
    "print(\"\\nMean =\", data_standardized.mean(axis=0))\n",
    "print(\"Std deviation =\", data_standardized.std(axis=0))"
   ]
  },
  {
   "cell_type": "code",
   "execution_count": 0,
   "metadata": {
    "application/vnd.databricks.v1+cell": {
     "cellMetadata": {},
     "inputWidgets": {},
     "nuid": "448f076d-9cd8-43b8-9798-0d287ddcbeb1",
     "showTitle": false,
     "title": ""
    }
   },
   "outputs": [
    {
     "data": {
      "text/plain": [
       "\n",
       "Min max scaled data:\n",
       " [[1.         0.         1.         0.        ]\n",
       " [0.         1.         0.41025641 1.        ]\n",
       " [0.33333333 0.87272727 0.         0.14666667]]\n"
      ]
     },
     "metadata": {
      "application/vnd.databricks.v1+output": {
       "addedWidgets": {},
       "arguments": {},
       "data": "\nMin max scaled data:\n [[1.         0.         1.         0.        ]\n [0.         1.         0.41025641 1.        ]\n [0.33333333 0.87272727 0.         0.14666667]]\n",
       "datasetInfos": [],
       "metadata": {},
       "removedWidgets": [],
       "type": "ansi"
      }
     },
     "output_type": "display_data"
    }
   ],
   "source": [
    "# 范围缩放(Scaling) - 将特征缩放到数据范围\n",
    "data_scaler = preprocessing.MinMaxScaler(feature_range=(0, 1))\n",
    "data_scaled = data_scaler.fit_transform(data)\n",
    "print(\"\\nMin max scaled data:\\n\", data_scaled)"
   ]
  },
  {
   "cell_type": "code",
   "execution_count": 0,
   "metadata": {
    "application/vnd.databricks.v1+cell": {
     "cellMetadata": {},
     "inputWidgets": {},
     "nuid": "38a22ec7-58e5-497f-8bd5-113bb508a5e3",
     "showTitle": false,
     "title": ""
    }
   },
   "outputs": [
    {
     "data": {
      "text/plain": [
       "\n",
       "L1 normalized data:\n",
       " [[ 0.25210084 -0.12605042  0.16806723 -0.45378151]\n",
       " [ 0.          0.625      -0.046875    0.328125  ]\n",
       " [ 0.0952381   0.31428571 -0.18095238 -0.40952381]]\n"
      ]
     },
     "metadata": {
      "application/vnd.databricks.v1+output": {
       "addedWidgets": {},
       "arguments": {},
       "data": "\nL1 normalized data:\n [[ 0.25210084 -0.12605042  0.16806723 -0.45378151]\n [ 0.          0.625      -0.046875    0.328125  ]\n [ 0.0952381   0.31428571 -0.18095238 -0.40952381]]\n",
       "datasetInfos": [],
       "metadata": {},
       "removedWidgets": [],
       "type": "ansi"
      }
     },
     "output_type": "display_data"
    }
   ],
   "source": [
    "# normalization - 归一化，如下按照特征向量L1范数来转换\n",
    "data_normalized = preprocessing.normalize(data, norm='l1')\n",
    "print(\"\\nL1 normalized data:\\n\", data_normalized)"
   ]
  },
  {
   "cell_type": "code",
   "execution_count": 0,
   "metadata": {
    "application/vnd.databricks.v1+cell": {
     "cellMetadata": {},
     "inputWidgets": {},
     "nuid": "02d7c2cc-ba45-4f90-b766-ff65aca0b453",
     "showTitle": false,
     "title": ""
    }
   },
   "outputs": [
    {
     "data": {
      "text/plain": [
       "\n",
       "Binarized data:\n",
       " [[1. 0. 1. 0.]\n",
       " [0. 1. 0. 1.]\n",
       " [0. 1. 0. 0.]]\n"
      ]
     },
     "metadata": {
      "application/vnd.databricks.v1+output": {
       "addedWidgets": {},
       "arguments": {},
       "data": "\nBinarized data:\n [[1. 0. 1. 0.]\n [0. 1. 0. 1.]\n [0. 1. 0. 0.]]\n",
       "datasetInfos": [],
       "metadata": {},
       "removedWidgets": [],
       "type": "ansi"
      }
     },
     "output_type": "display_data"
    }
   ],
   "source": [
    "# binarization - 二值化，将特征向量转化为布尔类型向量\n",
    "data_binarized = preprocessing.Binarizer(threshold=1.4).transform(data)\n",
    "print(\"\\nBinarized data:\\n\", data_binarized)"
   ]
  },
  {
   "cell_type": "code",
   "execution_count": 0,
   "metadata": {
    "application/vnd.databricks.v1+cell": {
     "cellMetadata": {},
     "inputWidgets": {},
     "nuid": "3eb96bb6-dc3b-44b5-a30a-6e54ea4d828b",
     "showTitle": false,
     "title": ""
    }
   },
   "outputs": [
    {
     "data": {
      "text/plain": [
       "\n",
       "Encoded vector:\n",
       " [[0. 0. 1. 0. 1. 0. 0. 0. 1. 1. 0.]]\n"
      ]
     },
     "metadata": {
      "application/vnd.databricks.v1+output": {
       "addedWidgets": {},
       "arguments": {},
       "data": "\nEncoded vector:\n [[0. 0. 1. 0. 1. 0. 0. 0. 1. 1. 0.]]\n",
       "datasetInfos": [],
       "metadata": {},
       "removedWidgets": [],
       "type": "ansi"
      }
     },
     "output_type": "display_data"
    }
   ],
   "source": [
    "# one hot encoding - 独特编码，是一种收紧特征向量的工具. 它把特征向量的每个特征与特征的非重复总数相对应，通过one-of-k的形式对每个值进行编码。\n",
    "# 特征向量的每个值都按照这种方式编码，这样可以更佳有效的表示空间\n",
    "encoder = preprocessing.OneHotEncoder()\n",
    "encoder.fit([[0, 2, 1, 12], [1, 3, 5, 3], [2, 3, 2, 12], [1, 2, 4, 3]])\n",
    "encoded_vector = encoder.transform([[2, 3, 5, 3]]).toarray()\n",
    "print(\"\\nEncoded vector:\\n\", encoded_vector)"
   ]
  },
  {
   "cell_type": "markdown",
   "metadata": {
    "application/vnd.databricks.v1+cell": {
     "cellMetadata": {},
     "inputWidgets": {},
     "nuid": "d6a72df3-780f-4bbf-9be9-046d95e1d2f5",
     "showTitle": false,
     "title": ""
    }
   },
   "source": [
    "#### 标记编码技术"
   ]
  },
  {
   "cell_type": "code",
   "execution_count": 0,
   "metadata": {
    "application/vnd.databricks.v1+cell": {
     "cellMetadata": {},
     "inputWidgets": {},
     "nuid": "ed02fb69-040f-4faa-910f-6eaedf8e9b50",
     "showTitle": false,
     "title": ""
    }
   },
   "outputs": [
    {
     "data": {
      "text/plain": [
       "\n",
       "Class mapping:\n",
       "audi --> 0\n",
       "bmw --> 1\n",
       "ford --> 2\n",
       "toyota --> 3\n",
       "\n",
       "Labels = ['toyota', 'ford', 'audi']\n",
       "Encoded labels = [3, 2, 0]\n",
       "\n",
       "Encoded labels = [2, 1, 0, 3, 1]\n",
       "Decoded labels = ['ford', 'bmw', 'audi', 'toyota', 'bmw']\n"
      ]
     },
     "metadata": {
      "application/vnd.databricks.v1+output": {
       "addedWidgets": {},
       "arguments": {},
       "data": "\nClass mapping:\naudi --> 0\nbmw --> 1\nford --> 2\ntoyota --> 3\n\nLabels = ['toyota', 'ford', 'audi']\nEncoded labels = [3, 2, 0]\n\nEncoded labels = [2, 1, 0, 3, 1]\nDecoded labels = ['ford', 'bmw', 'audi', 'toyota', 'bmw']\n",
       "datasetInfos": [],
       "metadata": {},
       "removedWidgets": [],
       "type": "ansi"
      }
     },
     "output_type": "display_data"
    }
   ],
   "source": [
    "import numpy as np\n",
    "from sklearn import preprocessing\n",
    "\n",
    "label_encoder = preprocessing.LabelEncoder()\n",
    "input_classes = ['audi', 'ford', 'audi', 'toyota', 'ford', 'bmw']\n",
    "label_encoder.fit(input_classes)\n",
    "\n",
    "# print classes\n",
    "print(\"\\nClass mapping:\")\n",
    "for i, item in enumerate(label_encoder.classes_):\n",
    "    print(item, '-->', i)\n",
    "\n",
    "# transform a set of classes\n",
    "labels = ['toyota', 'ford', 'audi']\n",
    "encoded_labels = label_encoder.transform(labels)\n",
    "print(\"\\nLabels =\", labels) \n",
    "print(\"Encoded labels =\", list(encoded_labels))\n",
    "\n",
    "# inverse transform\n",
    "encoded_labels = [2, 1, 0, 3, 1]\n",
    "decoded_labels = label_encoder.inverse_transform(encoded_labels)\n",
    "print(\"\\nEncoded labels =\", encoded_labels)\n",
    "print(\"Decoded labels =\", list(decoded_labels))"
   ]
  },
  {
   "cell_type": "markdown",
   "metadata": {
    "application/vnd.databricks.v1+cell": {
     "cellMetadata": {},
     "inputWidgets": {},
     "nuid": "ae8810c1-56c1-46c0-a4fc-d9094d2c925f",
     "showTitle": false,
     "title": ""
    }
   },
   "source": [
    "#### OLS-Ordinary Least Square，普通最小二乘法构建线性回归器，目标最小化残差平方和(sum of squares of differences)"
   ]
  },
  {
   "cell_type": "code",
   "execution_count": 0,
   "metadata": {
    "application/vnd.databricks.v1+cell": {
     "cellMetadata": {},
     "inputWidgets": {},
     "nuid": "391bcce9-f995-4950-aea4-dda612dc4327",
     "showTitle": false,
     "title": ""
    }
   },
   "outputs": [],
   "source": [
    "%python\n",
    "# df = spark.read.text('/FileStore/tables/data_singlevar.txt', header=\"true\", inferSchema=\"true\")\n",
    "df = spark.read.text('/FileStore/tables/data_singlevar.txt')"
   ]
  },
  {
   "cell_type": "code",
   "execution_count": 0,
   "metadata": {
    "application/vnd.databricks.v1+cell": {
     "cellMetadata": {},
     "inputWidgets": {},
     "nuid": "86fe3cbf-ea94-441f-b343-1e3258321cd1",
     "showTitle": false,
     "title": ""
    }
   },
   "outputs": [
    {
     "data": {
      "text/plain": [
       "<command-1060668381130967>:2: FutureWarning: Columnar iteration over characters will be deprecated in future releases.\n",
       "  df1['x'], df1['y'] = df1['value'].str.split(',', 1).str\n"
      ]
     },
     "metadata": {
      "application/vnd.databricks.v1+output": {
       "addedWidgets": {},
       "arguments": {},
       "data": "<command-1060668381130967>:2: FutureWarning: Columnar iteration over characters will be deprecated in future releases.\n  df1['x'], df1['y'] = df1['value'].str.split(',', 1).str\n",
       "datasetInfos": [],
       "metadata": {},
       "removedWidgets": [],
       "type": "ansi"
      }
     },
     "output_type": "display_data"
    },
    {
     "data": {
      "text/html": [
       "<div>\n",
       "<style scoped>\n",
       "    .dataframe tbody tr th:only-of-type {\n",
       "        vertical-align: middle;\n",
       "    }\n",
       "\n",
       "    .dataframe tbody tr th {\n",
       "        vertical-align: top;\n",
       "    }\n",
       "\n",
       "    .dataframe thead th {\n",
       "        text-align: right;\n",
       "    }\n",
       "</style>\n",
       "<table border=\"1\" class=\"dataframe\">\n",
       "  <thead>\n",
       "    <tr style=\"text-align: right;\">\n",
       "      <th></th>\n",
       "      <th>value</th>\n",
       "      <th>x</th>\n",
       "      <th>y</th>\n",
       "    </tr>\n",
       "  </thead>\n",
       "  <tbody>\n",
       "    <tr>\n",
       "      <th>0</th>\n",
       "      <td>4.94,4.37</td>\n",
       "      <td>4.94</td>\n",
       "      <td>4.37</td>\n",
       "    </tr>\n",
       "    <tr>\n",
       "      <th>1</th>\n",
       "      <td>-1.58,1.7</td>\n",
       "      <td>-1.58</td>\n",
       "      <td>1.7</td>\n",
       "    </tr>\n",
       "    <tr>\n",
       "      <th>2</th>\n",
       "      <td>-4.45,1.88</td>\n",
       "      <td>-4.45</td>\n",
       "      <td>1.88</td>\n",
       "    </tr>\n",
       "    <tr>\n",
       "      <th>3</th>\n",
       "      <td>-6.06,0.56</td>\n",
       "      <td>-6.06</td>\n",
       "      <td>0.56</td>\n",
       "    </tr>\n",
       "    <tr>\n",
       "      <th>4</th>\n",
       "      <td>-1.22,2.23</td>\n",
       "      <td>-1.22</td>\n",
       "      <td>2.23</td>\n",
       "    </tr>\n",
       "  </tbody>\n",
       "</table>\n",
       "</div>"
      ]
     },
     "metadata": {
      "application/vnd.databricks.v1+output": {
       "addedWidgets": {},
       "arguments": {},
       "data": "<div>\n<style scoped>\n    .dataframe tbody tr th:only-of-type {\n        vertical-align: middle;\n    }\n\n    .dataframe tbody tr th {\n        vertical-align: top;\n    }\n\n    .dataframe thead th {\n        text-align: right;\n    }\n</style>\n<table border=\"1\" class=\"dataframe\">\n  <thead>\n    <tr style=\"text-align: right;\">\n      <th></th>\n      <th>value</th>\n      <th>x</th>\n      <th>y</th>\n    </tr>\n  </thead>\n  <tbody>\n    <tr>\n      <th>0</th>\n      <td>4.94,4.37</td>\n      <td>4.94</td>\n      <td>4.37</td>\n    </tr>\n    <tr>\n      <th>1</th>\n      <td>-1.58,1.7</td>\n      <td>-1.58</td>\n      <td>1.7</td>\n    </tr>\n    <tr>\n      <th>2</th>\n      <td>-4.45,1.88</td>\n      <td>-4.45</td>\n      <td>1.88</td>\n    </tr>\n    <tr>\n      <th>3</th>\n      <td>-6.06,0.56</td>\n      <td>-6.06</td>\n      <td>0.56</td>\n    </tr>\n    <tr>\n      <th>4</th>\n      <td>-1.22,2.23</td>\n      <td>-1.22</td>\n      <td>2.23</td>\n    </tr>\n  </tbody>\n</table>\n</div>",
       "datasetInfos": [],
       "metadata": {},
       "removedWidgets": [],
       "textData": null,
       "type": "htmlSandbox"
      }
     },
     "output_type": "display_data"
    }
   ],
   "source": [
    "df1 = df.toPandas()\n",
    "df1['x'], df1['y'] = df1['value'].str.split(',', 1).str\n",
    "df1.head()"
   ]
  },
  {
   "cell_type": "code",
   "execution_count": 0,
   "metadata": {
    "application/vnd.databricks.v1+cell": {
     "cellMetadata": {},
     "inputWidgets": {},
     "nuid": "f504a05a-5b5b-4247-9e14-5c0306de6070",
     "showTitle": false,
     "title": ""
    }
   },
   "outputs": [
    {
     "data": {
      "image/png": "[encoded data removed]"
     },
     "metadata": {
      "application/vnd.databricks.v1+output": {
       "addedWidgets": {},
       "arguments": {},
       "data": "data:image/png;base64,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\n",
       "datasetInfos": [],
       "metadata": {},
       "removedWidgets": [],
       "type": "image"
      }
     },
     "output_type": "display_data"
    },
    {
     "data": {
      "text/plain": [
       "Mean absolute error = 0.54\n",
       "Mean squared error = 0.38\n",
       "Median absolute error = 0.54\n",
       "Explain variance score = 0.68\n",
       "R2 score = 0.68\n"
      ]
     },
     "metadata": {
      "application/vnd.databricks.v1+output": {
       "addedWidgets": {},
       "arguments": {},
       "data": "Mean absolute error = 0.54\nMean squared error = 0.38\nMedian absolute error = 0.54\nExplain variance score = 0.68\nR2 score = 0.68\n",
       "datasetInfos": [],
       "metadata": {},
       "removedWidgets": [],
       "type": "ansi"
      }
     },
     "output_type": "display_data"
    }
   ],
   "source": [
    "X=df1['x'].astype('float')\n",
    "y=df1['y'].astype('float')\n",
    "\n",
    "# Train/test split\n",
    "num_training = int(0.8 * len(X))\n",
    "num_test = len(X) - num_training\n",
    "\n",
    "# Training data\n",
    "X_train = np.array(X[:num_training]).reshape((num_training,1)) # 将数据转化为一维数组\n",
    "y_train = np.array(y[:num_training])\n",
    "\n",
    "# Test data\n",
    "X_test = np.array(X[num_training:]).reshape((num_test,1))\n",
    "y_test = np.array(y[num_training:])\n",
    "\n",
    "# Create linear regression object\n",
    "from sklearn import linear_model\n",
    "linear_regressor = linear_model.LinearRegression()\n",
    "\n",
    "# Train the model using the training sets\n",
    "linear_regressor.fit(X_train, y_train)\n",
    "\n",
    "# Predict the output\n",
    "y_test_pred = linear_regressor.predict(X_test)\n",
    "\n",
    "# Plot outputs\n",
    "import matplotlib.pyplot as plt\n",
    "\n",
    "plt.scatter(X[num_training:], y[num_training:], color='green')\n",
    "plt.plot(X[num_training:], y_test_pred, color='black', linewidth=2)\n",
    "plt.xticks(())\n",
    "plt.yticks(())\n",
    "plt.show()\n",
    "\n",
    "# Measure performance - 通常做法是保证均方误差最低，解释方差最高。\n",
    "import sklearn.metrics as sm\n",
    "\n",
    "print(\"Mean absolute error =\", round(sm.mean_absolute_error(y_test, y_test_pred), 2)) # 平均绝对误差\n",
    "print(\"Mean squared error =\", round(sm.mean_squared_error(y_test, y_test_pred), 2)) # 均方误差\n",
    "print(\"Median absolute error =\", round(sm.median_absolute_error(y_test, y_test_pred), 2)) # 中位数绝对误差\n",
    "print(\"Explain variance score =\", round(sm.explained_variance_score(y_test, y_test_pred), 2)) # 解释方差分\n",
    "print(\"R2 score =\", round(sm.r2_score(y_test, y_test_pred), 2)) # 确定性相关系数\n",
    "\n",
    "\n",
    "# Model persistence - 模型保存为pkl格式，再次加载并使用\n",
    "# import cPickle as pickle\n",
    "\n",
    "# output_model_file = '3_model_linear_regr.pkl'\n",
    "\n",
    "# with open(output_model_file, 'w') as f:\n",
    "#     pickle.dump(linear_regressor, f)\n",
    "\n",
    "# with open(output_model_file, 'r') as f:\n",
    "#     model_linregr = pickle.load(f)\n",
    "\n",
    "# y_test_pred_new = model_linregr.predict(X_test)\n",
    "# print (\"\\nNew mean absolute error =\", round(sm.mean_absolute_error(y_test, y_test_pred_new), 2))"
   ]
  },
  {
   "cell_type": "markdown",
   "metadata": {
    "application/vnd.databricks.v1+cell": {
     "cellMetadata": {},
     "inputWidgets": {},
     "nuid": "74cd3a2b-2672-43b6-b7ef-a19095ef7b8a",
     "showTitle": false,
     "title": ""
    }
   },
   "source": [
    "#### 岭回归(Ridge Regression)\n",
    "- 普通最小二乘法OLS的线性回归，对异常值敏感。引入正则化项系数作为阈值来消除异常值的影响，这种方法叫做岭回归"
   ]
  },
  {
   "cell_type": "code",
   "execution_count": 0,
   "metadata": {
    "application/vnd.databricks.v1+cell": {
     "cellMetadata": {},
     "inputWidgets": {},
     "nuid": "87de6a5e-42ad-4475-ac4e-fe7662b4c5c1",
     "showTitle": false,
     "title": ""
    }
   },
   "outputs": [
    {
     "data": {
      "text/plain": [
       "+--------------------+\n",
       "|               value|\n",
       "+--------------------+\n",
       "|0.39,2.78,7.11,-8.07|\n",
       "| 1.65,6.7,2.42,12.24|\n",
       "|5.67,6.38,3.79,23.96|\n",
       "|  2.31,6.27,4.8,4.29|\n",
       "|3.67,6.67,2.38,16.37|\n",
       "|3.64,3.14,2.38,12.44|\n",
       "| 7.0,3.85,8.39,13.45|\n",
       "| 8.9,1.44,3.99,24.24|\n",
       "|4.11,6.75,4.87,11.23|\n",
       "|5.44,4.57,3.15,25.81|\n",
       "|3.27,5.41,2.52,13.09|\n",
       "| 2.68,2.14,5.75,0.63|\n",
       "|   1.7,3.19,2.4,3.22|\n",
       "| 1.25,5.44,2.54,3.32|\n",
       "|1.06,4.38,4.78,-0.02|\n",
       "|1.55,7.69,2.33,17.48|\n",
       "|6.11,-0.74,4.08,2...|\n",
       "| 3.47,4.41,5.34,5.34|\n",
       "|4.99,2.43,0.79,21.84|\n",
       "| 1.39,4.5,-0.3,11.88|\n",
       "+--------------------+\n",
       "only showing top 20 rows\n",
       "\n"
      ]
     },
     "metadata": {
      "application/vnd.databricks.v1+output": {
       "addedWidgets": {},
       "arguments": {},
       "data": "+--------------------+\n|               value|\n+--------------------+\n|0.39,2.78,7.11,-8.07|\n| 1.65,6.7,2.42,12.24|\n|5.67,6.38,3.79,23.96|\n|  2.31,6.27,4.8,4.29|\n|3.67,6.67,2.38,16.37|\n|3.64,3.14,2.38,12.44|\n| 7.0,3.85,8.39,13.45|\n| 8.9,1.44,3.99,24.24|\n|4.11,6.75,4.87,11.23|\n|5.44,4.57,3.15,25.81|\n|3.27,5.41,2.52,13.09|\n| 2.68,2.14,5.75,0.63|\n|   1.7,3.19,2.4,3.22|\n| 1.25,5.44,2.54,3.32|\n|1.06,4.38,4.78,-0.02|\n|1.55,7.69,2.33,17.48|\n|6.11,-0.74,4.08,2...|\n| 3.47,4.41,5.34,5.34|\n|4.99,2.43,0.79,21.84|\n| 1.39,4.5,-0.3,11.88|\n+--------------------+\nonly showing top 20 rows\n\n",
       "datasetInfos": [],
       "metadata": {},
       "removedWidgets": [],
       "type": "ansi"
      }
     },
     "output_type": "display_data"
    }
   ],
   "source": [
    "%python\n",
    "spark.read.text('/FileStore/tables/data_multivar.txt').show()"
   ]
  },
  {
   "cell_type": "code",
   "execution_count": 0,
   "metadata": {
    "application/vnd.databricks.v1+cell": {
     "cellMetadata": {},
     "inputWidgets": {},
     "nuid": "2173e1d9-425c-4ff9-bd81-3fde55fe1d65",
     "showTitle": false,
     "title": ""
    }
   },
   "outputs": [
    {
     "data": {
      "text/plain": [
       "<command-3707389951849727>:3: FutureWarning: Columnar iteration over characters will be deprecated in future releases.\n",
       "  df1['a'], df1['b'], df1['c'], df1['y'] = df1['value'].str.split(',', 3).str\n"
      ]
     },
     "metadata": {
      "application/vnd.databricks.v1+output": {
       "addedWidgets": {},
       "arguments": {},
       "data": "<command-3707389951849727>:3: FutureWarning: Columnar iteration over characters will be deprecated in future releases.\n  df1['a'], df1['b'], df1['c'], df1['y'] = df1['value'].str.split(',', 3).str\n",
       "datasetInfos": [],
       "metadata": {},
       "removedWidgets": [],
       "type": "ansi"
      }
     },
     "output_type": "display_data"
    }
   ],
   "source": [
    "df = spark.read.text('/FileStore/tables/data_multivar.txt')\n",
    "df1 = df.toPandas()\n",
    "df1['a'], df1['b'], df1['c'], df1['y'] = df1['value'].str.split(',', 3).str\n",
    "df1.head()\n",
    "df1 = df1.drop('value',axis=1)"
   ]
  },
  {
   "cell_type": "code",
   "execution_count": 0,
   "metadata": {
    "application/vnd.databricks.v1+cell": {
     "cellMetadata": {},
     "inputWidgets": {},
     "nuid": "7ceac82d-07e2-4117-a8b6-3e6847020146",
     "showTitle": false,
     "title": ""
    }
   },
   "outputs": [
    {
     "data": {
      "text/plain": [
       "LINEAR-线性回归:\n",
       "Mean absolute error = 3.95\n",
       "Mean squared error = 23.15\n",
       "Median absolute error = 3.69\n",
       "Explained variance score = 0.84\n",
       "R2 score = 0.83\n",
       "\n",
       "RIDGE-岭回归:\n",
       "Mean absolute error = 3.91\n",
       "Mean squared error = 22.67\n",
       "Median absolute error = 3.58\n",
       "Explained variance score = 0.84\n",
       "R2 score = 0.84\n"
      ]
     },
     "metadata": {
      "application/vnd.databricks.v1+output": {
       "addedWidgets": {},
       "arguments": {},
       "data": "LINEAR-线性回归:\nMean absolute error = 3.95\nMean squared error = 23.15\nMedian absolute error = 3.69\nExplained variance score = 0.84\nR2 score = 0.83\n\nRIDGE-岭回归:\nMean absolute error = 3.91\nMean squared error = 22.67\nMedian absolute error = 3.58\nExplained variance score = 0.84\nR2 score = 0.84\n",
       "datasetInfos": [],
       "metadata": {},
       "removedWidgets": [],
       "type": "ansi"
      }
     },
     "output_type": "display_data"
    }
   ],
   "source": [
    "df1[['a','b','c','y']] = df1[['a','b','c','y']].astype('float')\n",
    "df1.dtypes\n",
    "\n",
    "X = df1.iloc[:,:-1]\n",
    "y = df1.iloc[:,-1:]\n",
    "\n",
    "\n",
    "# Train/test split\n",
    "num_training = int(0.8 * len(X))\n",
    "num_test = len(X) - num_training\n",
    "\n",
    "# Training data\n",
    "#X_train = np.array(X[:num_training]).reshape((num_training,1))\n",
    "X_train = np.array(X[:num_training])\n",
    "y_train = np.array(y[:num_training])\n",
    "\n",
    "# Test data\n",
    "#X_test = np.array(X[num_training:]).reshape((num_test,1))\n",
    "X_test = np.array(X[num_training:])\n",
    "y_test = np.array(y[num_training:])\n",
    "\n",
    "# Create linear regression object\n",
    "from sklearn import linear_model\n",
    "\n",
    "linear_regressor = linear_model.LinearRegression()\n",
    "ridge_regressor = linear_model.Ridge(alpha=50, fit_intercept=True, solver='auto', max_iter=None) \n",
    "# https://scikit-learn.org/stable/modules/generated/sklearn.linear_model.Ridge.html\n",
    "\n",
    "\n",
    "# Train the model using the training sets\n",
    "linear_regressor.fit(X_train, y_train)\n",
    "ridge_regressor.fit(X_train, y_train)\n",
    "\n",
    "# Predict the output\n",
    "y_test_pred = linear_regressor.predict(X_test)\n",
    "y_test_pred_ridge = ridge_regressor.predict(X_test)\n",
    "\n",
    "# Measure performance\n",
    "import sklearn.metrics as sm\n",
    "\n",
    "print(\"LINEAR-线性回归:\")\n",
    "print(\"Mean absolute error =\", round(sm.mean_absolute_error(y_test, y_test_pred), 2))\n",
    "print(\"Mean squared error =\", round(sm.mean_squared_error(y_test, y_test_pred), 2))\n",
    "print(\"Median absolute error =\", round(sm.median_absolute_error(y_test, y_test_pred), 2))\n",
    "print(\"Explained variance score =\", round(sm.explained_variance_score(y_test, y_test_pred), 2))\n",
    "print(\"R2 score =\", round(sm.r2_score(y_test, y_test_pred), 2))\n",
    "\n",
    "print(\"\\nRIDGE-岭回归:\")\n",
    "print(\"Mean absolute error =\", round(sm.mean_absolute_error(y_test, y_test_pred_ridge), 2))\n",
    "print(\"Mean squared error =\", round(sm.mean_squared_error(y_test, y_test_pred_ridge), 2))\n",
    "print(\"Median absolute error =\", round(sm.median_absolute_error(y_test, y_test_pred_ridge), 2))\n",
    "print(\"Explained variance score =\", round(sm.explained_variance_score(y_test, y_test_pred_ridge), 2))\n",
    "print(\"R2 score =\", round(sm.r2_score(y_test, y_test_pred_ridge), 2))"
   ]
  },
  {
   "cell_type": "markdown",
   "metadata": {
    "application/vnd.databricks.v1+cell": {
     "cellMetadata": {},
     "inputWidgets": {},
     "nuid": "03b1b059-2524-45e1-8c8e-450aecd2b35e",
     "showTitle": false,
     "title": ""
    }
   },
   "source": [
    "#### 多项式回归(Polynomial Regression)，随机梯度下降回归(SGD-Stochastic Gradient Descent Regressor)\n",
    "- 克服了线性模型只能把数据拟合成直线的局限"
   ]
  },
  {
   "cell_type": "code",
   "execution_count": 0,
   "metadata": {
    "application/vnd.databricks.v1+cell": {
     "cellMetadata": {},
     "inputWidgets": {},
     "nuid": "433b123b-ba86-42d6-a147-0ea5b69f35cb",
     "showTitle": false,
     "title": ""
    }
   },
   "outputs": [
    {
     "data": {
      "text/plain": [
       "\n",
       "Polynomial regression:\n",
       " [[-10.94807821]]\n",
       "\n",
       "Linear regression:\n",
       " [[-11.0587295]]\n",
       "\n",
       "SGD regressor:\n",
       " [-10.29989232]\n",
       "\n",
       "Actual value(y):\n",
       " [-8.07]\n",
       "/databricks/python/lib/python3.8/site-packages/sklearn/utils/validation.py:63: DataConversionWarning: A column-vector y was passed when a 1d array was expected. Please change the shape of y to (n_samples, ), for example using ravel().\n",
       "  return f(*args, **kwargs)\n"
      ]
     },
     "metadata": {
      "application/vnd.databricks.v1+output": {
       "addedWidgets": {},
       "arguments": {},
       "data": "\nPolynomial regression:\n [[-10.94807821]]\n\nLinear regression:\n [[-11.0587295]]\n\nSGD regressor:\n [-10.29989232]\n\nActual value(y):\n [-8.07]\n/databricks/python/lib/python3.8/site-packages/sklearn/utils/validation.py:63: DataConversionWarning: A column-vector y was passed when a 1d array was expected. Please change the shape of y to (n_samples, ), for example using ravel().\n  return f(*args, **kwargs)\n",
       "datasetInfos": [],
       "metadata": {},
       "removedWidgets": [],
       "type": "ansi"
      }
     },
     "output_type": "display_data"
    }
   ],
   "source": [
    "# Polynomial regression - 多项式回归\n",
    "from sklearn.preprocessing import PolynomialFeatures\n",
    "\n",
    "# 训练多项式回归\n",
    "polynomial = PolynomialFeatures(degree=3) # (通过更改多项式的degree，来比较和真实值的拟合程度)\n",
    "X_train_transformed = polynomial.fit_transform(X_train) # 这里表示多项式形式的输入\n",
    "\n",
    "# 用训练集第一个点来做模型验证\n",
    "datapoint = X_train[0].reshape(1,3)\n",
    "poly_datapoint = polynomial.fit_transform(datapoint)\n",
    "\n",
    "# 多项式回归\n",
    "poly_linear_model = linear_model.LinearRegression()\n",
    "poly_linear_model.fit(X_train_transformed, y_train)\n",
    "print(\"\\nPolynomial regression:\\n\", poly_linear_model.predict(poly_datapoint))\n",
    "\n",
    "# 比较多项式回归和线性回归的结果差异。线性回归\n",
    "linear_regressor = linear_model.LinearRegression()\n",
    "linear_regressor.fit(X_train, y_train)\n",
    "print(\"\\nLinear regression:\\n\", linear_regressor.predict([X_train[0]]))\n",
    "\n",
    "# 随机梯度下降回归 - SGD:Stochastic Gradient Descent regressor\n",
    "sgd_regressor = linear_model.SGDRegressor(loss='huber', max_iter=100)\n",
    "sgd_regressor.fit(X_train, y_train)\n",
    "print(\"\\nSGD regressor:\\n\", sgd_regressor.predict(datapoint))\n",
    "\n",
    "# 真实值 \n",
    "print(\"\\nActual value(y):\\n\",y_train[0])"
   ]
  },
  {
   "cell_type": "markdown",
   "metadata": {
    "application/vnd.databricks.v1+cell": {
     "cellMetadata": {},
     "inputWidgets": {},
     "nuid": "c4c11e86-0eeb-4032-91f6-472f0535a8d9",
     "showTitle": false,
     "title": ""
    }
   },
   "source": [
    "#### 用AdaBoost算法决策树回归器预测房价\n",
    "- 决策树是一个树状模型，每个节点作出一个决策，从而影响最终结果\n",
    "- AdaBoost算法指的是 adaptive boosting 算法，是一种利用其他系统增强模型准确性的技术。将不同版本的算法结果进行组合，用加权组合的方式获得最终结果，被称为弱学习器。\n",
    "- AdaBoost算法在每个阶段获取的信息都会反馈到模型中，这样学习器在后一阶段重点训练难以分类的样本。这种方式可以增强系统的准确性\n",
    "- 先用AdaBoost算法对数据集进行回归拟合，在计算误差，根据误差评估结果，再用同样的数据集重新拟合。这个过程可看作回归器的调优过程"
   ]
  },
  {
   "cell_type": "code",
   "execution_count": 0,
   "metadata": {
    "application/vnd.databricks.v1+cell": {
     "cellMetadata": {},
     "inputWidgets": {},
     "nuid": "aabe5f37-5c74-431c-a180-7014e43e31d4",
     "showTitle": false,
     "title": ""
    }
   },
   "outputs": [],
   "source": [
    "import numpy as np\n",
    "from sklearn.ensemble import RandomForestRegressor, AdaBoostRegressor\n",
    "from sklearn.tree import DecisionTreeRegressor\n",
    "from sklearn import datasets\n",
    "from sklearn.metrics import mean_squared_error, explained_variance_score\n",
    "from sklearn.utils import shuffle\n",
    "import matplotlib.pyplot as plt"
   ]
  },
  {
   "cell_type": "code",
   "execution_count": 0,
   "metadata": {
    "application/vnd.databricks.v1+cell": {
     "cellMetadata": {},
     "inputWidgets": {},
     "nuid": "cd645a3e-91aa-44fb-8ab3-8ecd4952d46e",
     "showTitle": false,
     "title": ""
    }
   },
   "outputs": [
    {
     "data": {
      "text/plain": [
       "Out[155]: {'data': array([[6.3200e-03, 1.8000e+01, 2.3100e+00, ..., 1.5300e+01, 3.9690e+02,\n",
       "         4.9800e+00],\n",
       "        [2.7310e-02, 0.0000e+00, 7.0700e+00, ..., 1.7800e+01, 3.9690e+02,\n",
       "         9.1400e+00],\n",
       "        [2.7290e-02, 0.0000e+00, 7.0700e+00, ..., 1.7800e+01, 3.9283e+02,\n",
       "         4.0300e+00],\n",
       "        ...,\n",
       "        [6.0760e-02, 0.0000e+00, 1.1930e+01, ..., 2.1000e+01, 3.9690e+02,\n",
       "         5.6400e+00],\n",
       "        [1.0959e-01, 0.0000e+00, 1.1930e+01, ..., 2.1000e+01, 3.9345e+02,\n",
       "         6.4800e+00],\n",
       "        [4.7410e-02, 0.0000e+00, 1.1930e+01, ..., 2.1000e+01, 3.9690e+02,\n",
       "         7.8800e+00]]),\n",
       " 'target': array([24. , 21.6, 34.7, 33.4, 36.2, 28.7, 22.9, 27.1, 16.5, 18.9, 15. ,\n",
       "        18.9, 21.7, 20.4, 18.2, 19.9, 23.1, 17.5, 20.2, 18.2, 13.6, 19.6,\n",
       "        15.2, 14.5, 15.6, 13.9, 16.6, 14.8, 18.4, 21. , 12.7, 14.5, 13.2,\n",
       "        13.1, 13.5, 18.9, 20. , 21. , 24.7, 30.8, 34.9, 26.6, 25.3, 24.7,\n",
       "        21.2, 19.3, 20. , 16.6, 14.4, 19.4, 19.7, 20.5, 25. , 23.4, 18.9,\n",
       "        35.4, 24.7, 31.6, 23.3, 19.6, 18.7, 16. , 22.2, 25. , 33. , 23.5,\n",
       "        19.4, 22. , 17.4, 20.9, 24.2, 21.7, 22.8, 23.4, 24.1, 21.4, 20. ,\n",
       "        20.8, 21.2, 20.3, 28. , 23.9, 24.8, 22.9, 23.9, 26.6, 22.5, 22.2,\n",
       "        23.6, 28.7, 22.6, 22. , 22.9, 25. , 20.6, 28.4, 21.4, 38.7, 43.8,\n",
       "        33.2, 27.5, 26.5, 18.6, 19.3, 20.1, 19.5, 19.5, 20.4, 19.8, 19.4,\n",
       "        21.7, 22.8, 18.8, 18.7, 18.5, 18.3, 21.2, 19.2, 20.4, 19.3, 22. ,\n",
       "        20.3, 20.5, 17.3, 18.8, 21.4, 15.7, 16.2, 18. , 14.3, 19.2, 19.6,\n",
       "        23. , 18.4, 15.6, 18.1, 17.4, 17.1, 13.3, 17.8, 14. , 14.4, 13.4,\n",
       "        15.6, 11.8, 13.8, 15.6, 14.6, 17.8, 15.4, 21.5, 19.6, 15.3, 19.4,\n",
       "        17. , 15.6, 13.1, 41.3, 24.3, 23.3, 27. , 50. , 50. , 50. , 22.7,\n",
       "        25. , 50. , 23.8, 23.8, 22.3, 17.4, 19.1, 23.1, 23.6, 22.6, 29.4,\n",
       "        23.2, 24.6, 29.9, 37.2, 39.8, 36.2, 37.9, 32.5, 26.4, 29.6, 50. ,\n",
       "        32. , 29.8, 34.9, 37. , 30.5, 36.4, 31.1, 29.1, 50. , 33.3, 30.3,\n",
       "        34.6, 34.9, 32.9, 24.1, 42.3, 48.5, 50. , 22.6, 24.4, 22.5, 24.4,\n",
       "        20. , 21.7, 19.3, 22.4, 28.1, 23.7, 25. , 23.3, 28.7, 21.5, 23. ,\n",
       "        26.7, 21.7, 27.5, 30.1, 44.8, 50. , 37.6, 31.6, 46.7, 31.5, 24.3,\n",
       "        31.7, 41.7, 48.3, 29. , 24. , 25.1, 31.5, 23.7, 23.3, 22. , 20.1,\n",
       "        22.2, 23.7, 17.6, 18.5, 24.3, 20.5, 24.5, 26.2, 24.4, 24.8, 29.6,\n",
       "        42.8, 21.9, 20.9, 44. , 50. , 36. , 30.1, 33.8, 43.1, 48.8, 31. ,\n",
       "        36.5, 22.8, 30.7, 50. , 43.5, 20.7, 21.1, 25.2, 24.4, 35.2, 32.4,\n",
       "        32. , 33.2, 33.1, 29.1, 35.1, 45.4, 35.4, 46. , 50. , 32.2, 22. ,\n",
       "        20.1, 23.2, 22.3, 24.8, 28.5, 37.3, 27.9, 23.9, 21.7, 28.6, 27.1,\n",
       "        20.3, 22.5, 29. , 24.8, 22. , 26.4, 33.1, 36.1, 28.4, 33.4, 28.2,\n",
       "        22.8, 20.3, 16.1, 22.1, 19.4, 21.6, 23.8, 16.2, 17.8, 19.8, 23.1,\n",
       "        21. , 23.8, 23.1, 20.4, 18.5, 25. , 24.6, 23. , 22.2, 19.3, 22.6,\n",
       "        19.8, 17.1, 19.4, 22.2, 20.7, 21.1, 19.5, 18.5, 20.6, 19. , 18.7,\n",
       "        32.7, 16.5, 23.9, 31.2, 17.5, 17.2, 23.1, 24.5, 26.6, 22.9, 24.1,\n",
       "        18.6, 30.1, 18.2, 20.6, 17.8, 21.7, 22.7, 22.6, 25. , 19.9, 20.8,\n",
       "        16.8, 21.9, 27.5, 21.9, 23.1, 50. , 50. , 50. , 50. , 50. , 13.8,\n",
       "        13.8, 15. , 13.9, 13.3, 13.1, 10.2, 10.4, 10.9, 11.3, 12.3,  8.8,\n",
       "         7.2, 10.5,  7.4, 10.2, 11.5, 15.1, 23.2,  9.7, 13.8, 12.7, 13.1,\n",
       "        12.5,  8.5,  5. ,  6.3,  5.6,  7.2, 12.1,  8.3,  8.5,  5. , 11.9,\n",
       "        27.9, 17.2, 27.5, 15. , 17.2, 17.9, 16.3,  7. ,  7.2,  7.5, 10.4,\n",
       "         8.8,  8.4, 16.7, 14.2, 20.8, 13.4, 11.7,  8.3, 10.2, 10.9, 11. ,\n",
       "         9.5, 14.5, 14.1, 16.1, 14.3, 11.7, 13.4,  9.6,  8.7,  8.4, 12.8,\n",
       "        10.5, 17.1, 18.4, 15.4, 10.8, 11.8, 14.9, 12.6, 14.1, 13. , 13.4,\n",
       "        15.2, 16.1, 17.8, 14.9, 14.1, 12.7, 13.5, 14.9, 20. , 16.4, 17.7,\n",
       "        19.5, 20.2, 21.4, 19.9, 19. , 19.1, 19.1, 20.1, 19.9, 19.6, 23.2,\n",
       "        29.8, 13.8, 13.3, 16.7, 12. , 14.6, 21.4, 23. , 23.7, 25. , 21.8,\n",
       "        20.6, 21.2, 19.1, 20.6, 15.2,  7. ,  8.1, 13.6, 20.1, 21.8, 24.5,\n",
       "        23.1, 19.7, 18.3, 21.2, 17.5, 16.8, 22.4, 20.6, 23.9, 22. , 11.9]),\n",
       " 'feature_names': array(['CRIM', 'ZN', 'INDUS', 'CHAS', 'NOX', 'RM', 'AGE', 'DIS', 'RAD',\n",
       "        'TAX', 'PTRATIO', 'B', 'LSTAT'], dtype='<U7'),\n",
       " 'DESCR': \".. _boston_dataset:\\n\\nBoston house prices dataset\\n---------------------------\\n\\n**Data Set Characteristics:**  \\n\\n    :Number of Instances: 506 \\n\\n    :Number of Attributes: 13 numeric/categorical predictive. Median Value (attribute 14) is usually the target.\\n\\n    :Attribute Information (in order):\\n        - CRIM     per capita crime rate by town\\n        - ZN       proportion of residential land zoned for lots over 25,000 sq.ft.\\n        - INDUS    proportion of non-retail business acres per town\\n        - CHAS     Charles River dummy variable (= 1 if tract bounds river; 0 otherwise)\\n        - NOX      nitric oxides concentration (parts per 10 million)\\n        - RM       average number of rooms per dwelling\\n        - AGE      proportion of owner-occupied units built prior to 1940\\n        - DIS      weighted distances to five Boston employment centres\\n        - RAD      index of accessibility to radial highways\\n        - TAX      full-value property-tax rate per $10,000\\n        - PTRATIO  pupil-teacher ratio by town\\n        - B        1000(Bk - 0.63)^2 where Bk is the proportion of blacks by town\\n        - LSTAT    % lower status of the population\\n        - MEDV     Median value of owner-occupied homes in $1000's\\n\\n    :Missing Attribute Values: None\\n\\n    :Creator: Harrison, D. and Rubinfeld, D.L.\\n\\nThis is a copy of UCI ML housing dataset.\\nhttps://archive.ics.uci.edu/ml/machine-learning-databases/housing/\\n\\n\\nThis dataset was taken from the StatLib library which is maintained at Carnegie Mellon University.\\n\\nThe Boston house-price data of Harrison, D. and Rubinfeld, D.L. 'Hedonic\\nprices and the demand for clean air', J. Environ. Economics & Management,\\nvol.5, 81-102, 1978.   Used in Belsley, Kuh & Welsch, 'Regression diagnostics\\n...', Wiley, 1980.   N.B. Various transformations are used in the table on\\npages 244-261 of the latter.\\n\\nThe Boston house-price data has been used in many machine learning papers that address regression\\nproblems.   \\n     \\n.. topic:: References\\n\\n   - Belsley, Kuh & Welsch, 'Regression diagnostics: Identifying Influential Data and Sources of Collinearity', Wiley, 1980. 244-261.\\n   - Quinlan,R. (1993). Combining Instance-Based and Model-Based Learning. In Proceedings on the Tenth International Conference of Machine Learning, 236-243, University of Massachusetts, Amherst. Morgan Kaufmann.\\n\",\n",
       " 'filename': '/databricks/python/lib/python3.8/site-packages/sklearn/datasets/data/boston_house_prices.csv'}"
      ]
     },
     "metadata": {
      "application/vnd.databricks.v1+output": {
       "addedWidgets": {},
       "arguments": {},
       "data": "Out[155]: {'data': array([[6.3200e-03, 1.8000e+01, 2.3100e+00, ..., 1.5300e+01, 3.9690e+02,\n         4.9800e+00],\n        [2.7310e-02, 0.0000e+00, 7.0700e+00, ..., 1.7800e+01, 3.9690e+02,\n         9.1400e+00],\n        [2.7290e-02, 0.0000e+00, 7.0700e+00, ..., 1.7800e+01, 3.9283e+02,\n         4.0300e+00],\n        ...,\n        [6.0760e-02, 0.0000e+00, 1.1930e+01, ..., 2.1000e+01, 3.9690e+02,\n         5.6400e+00],\n        [1.0959e-01, 0.0000e+00, 1.1930e+01, ..., 2.1000e+01, 3.9345e+02,\n         6.4800e+00],\n        [4.7410e-02, 0.0000e+00, 1.1930e+01, ..., 2.1000e+01, 3.9690e+02,\n         7.8800e+00]]),\n 'target': array([24. , 21.6, 34.7, 33.4, 36.2, 28.7, 22.9, 27.1, 16.5, 18.9, 15. ,\n        18.9, 21.7, 20.4, 18.2, 19.9, 23.1, 17.5, 20.2, 18.2, 13.6, 19.6,\n        15.2, 14.5, 15.6, 13.9, 16.6, 14.8, 18.4, 21. , 12.7, 14.5, 13.2,\n        13.1, 13.5, 18.9, 20. , 21. , 24.7, 30.8, 34.9, 26.6, 25.3, 24.7,\n        21.2, 19.3, 20. , 16.6, 14.4, 19.4, 19.7, 20.5, 25. , 23.4, 18.9,\n        35.4, 24.7, 31.6, 23.3, 19.6, 18.7, 16. , 22.2, 25. , 33. , 23.5,\n        19.4, 22. , 17.4, 20.9, 24.2, 21.7, 22.8, 23.4, 24.1, 21.4, 20. ,\n        20.8, 21.2, 20.3, 28. , 23.9, 24.8, 22.9, 23.9, 26.6, 22.5, 22.2,\n        23.6, 28.7, 22.6, 22. , 22.9, 25. , 20.6, 28.4, 21.4, 38.7, 43.8,\n        33.2, 27.5, 26.5, 18.6, 19.3, 20.1, 19.5, 19.5, 20.4, 19.8, 19.4,\n        21.7, 22.8, 18.8, 18.7, 18.5, 18.3, 21.2, 19.2, 20.4, 19.3, 22. ,\n        20.3, 20.5, 17.3, 18.8, 21.4, 15.7, 16.2, 18. , 14.3, 19.2, 19.6,\n        23. , 18.4, 15.6, 18.1, 17.4, 17.1, 13.3, 17.8, 14. , 14.4, 13.4,\n        15.6, 11.8, 13.8, 15.6, 14.6, 17.8, 15.4, 21.5, 19.6, 15.3, 19.4,\n        17. , 15.6, 13.1, 41.3, 24.3, 23.3, 27. , 50. , 50. , 50. , 22.7,\n        25. , 50. , 23.8, 23.8, 22.3, 17.4, 19.1, 23.1, 23.6, 22.6, 29.4,\n        23.2, 24.6, 29.9, 37.2, 39.8, 36.2, 37.9, 32.5, 26.4, 29.6, 50. ,\n        32. , 29.8, 34.9, 37. , 30.5, 36.4, 31.1, 29.1, 50. , 33.3, 30.3,\n        34.6, 34.9, 32.9, 24.1, 42.3, 48.5, 50. , 22.6, 24.4, 22.5, 24.4,\n        20. , 21.7, 19.3, 22.4, 28.1, 23.7, 25. , 23.3, 28.7, 21.5, 23. ,\n        26.7, 21.7, 27.5, 30.1, 44.8, 50. , 37.6, 31.6, 46.7, 31.5, 24.3,\n        31.7, 41.7, 48.3, 29. , 24. , 25.1, 31.5, 23.7, 23.3, 22. , 20.1,\n        22.2, 23.7, 17.6, 18.5, 24.3, 20.5, 24.5, 26.2, 24.4, 24.8, 29.6,\n        42.8, 21.9, 20.9, 44. , 50. , 36. , 30.1, 33.8, 43.1, 48.8, 31. ,\n        36.5, 22.8, 30.7, 50. , 43.5, 20.7, 21.1, 25.2, 24.4, 35.2, 32.4,\n        32. , 33.2, 33.1, 29.1, 35.1, 45.4, 35.4, 46. , 50. , 32.2, 22. ,\n        20.1, 23.2, 22.3, 24.8, 28.5, 37.3, 27.9, 23.9, 21.7, 28.6, 27.1,\n        20.3, 22.5, 29. , 24.8, 22. , 26.4, 33.1, 36.1, 28.4, 33.4, 28.2,\n        22.8, 20.3, 16.1, 22.1, 19.4, 21.6, 23.8, 16.2, 17.8, 19.8, 23.1,\n        21. , 23.8, 23.1, 20.4, 18.5, 25. , 24.6, 23. , 22.2, 19.3, 22.6,\n        19.8, 17.1, 19.4, 22.2, 20.7, 21.1, 19.5, 18.5, 20.6, 19. , 18.7,\n        32.7, 16.5, 23.9, 31.2, 17.5, 17.2, 23.1, 24.5, 26.6, 22.9, 24.1,\n        18.6, 30.1, 18.2, 20.6, 17.8, 21.7, 22.7, 22.6, 25. , 19.9, 20.8,\n        16.8, 21.9, 27.5, 21.9, 23.1, 50. , 50. , 50. , 50. , 50. , 13.8,\n        13.8, 15. , 13.9, 13.3, 13.1, 10.2, 10.4, 10.9, 11.3, 12.3,  8.8,\n         7.2, 10.5,  7.4, 10.2, 11.5, 15.1, 23.2,  9.7, 13.8, 12.7, 13.1,\n        12.5,  8.5,  5. ,  6.3,  5.6,  7.2, 12.1,  8.3,  8.5,  5. , 11.9,\n        27.9, 17.2, 27.5, 15. , 17.2, 17.9, 16.3,  7. ,  7.2,  7.5, 10.4,\n         8.8,  8.4, 16.7, 14.2, 20.8, 13.4, 11.7,  8.3, 10.2, 10.9, 11. ,\n         9.5, 14.5, 14.1, 16.1, 14.3, 11.7, 13.4,  9.6,  8.7,  8.4, 12.8,\n        10.5, 17.1, 18.4, 15.4, 10.8, 11.8, 14.9, 12.6, 14.1, 13. , 13.4,\n        15.2, 16.1, 17.8, 14.9, 14.1, 12.7, 13.5, 14.9, 20. , 16.4, 17.7,\n        19.5, 20.2, 21.4, 19.9, 19. , 19.1, 19.1, 20.1, 19.9, 19.6, 23.2,\n        29.8, 13.8, 13.3, 16.7, 12. , 14.6, 21.4, 23. , 23.7, 25. , 21.8,\n        20.6, 21.2, 19.1, 20.6, 15.2,  7. ,  8.1, 13.6, 20.1, 21.8, 24.5,\n        23.1, 19.7, 18.3, 21.2, 17.5, 16.8, 22.4, 20.6, 23.9, 22. , 11.9]),\n 'feature_names': array(['CRIM', 'ZN', 'INDUS', 'CHAS', 'NOX', 'RM', 'AGE', 'DIS', 'RAD',\n        'TAX', 'PTRATIO', 'B', 'LSTAT'], dtype='<U7'),\n 'DESCR': \".. _boston_dataset:\\n\\nBoston house prices dataset\\n---------------------------\\n\\n**Data Set Characteristics:**  \\n\\n    :Number of Instances: 506 \\n\\n    :Number of Attributes: 13 numeric/categorical predictive. Median Value (attribute 14) is usually the target.\\n\\n    :Attribute Information (in order):\\n        - CRIM     per capita crime rate by town\\n        - ZN       proportion of residential land zoned for lots over 25,000 sq.ft.\\n        - INDUS    proportion of non-retail business acres per town\\n        - CHAS     Charles River dummy variable (= 1 if tract bounds river; 0 otherwise)\\n        - NOX      nitric oxides concentration (parts per 10 million)\\n        - RM       average number of rooms per dwelling\\n        - AGE      proportion of owner-occupied units built prior to 1940\\n        - DIS      weighted distances to five Boston employment centres\\n        - RAD      index of accessibility to radial highways\\n        - TAX      full-value property-tax rate per $10,000\\n        - PTRATIO  pupil-teacher ratio by town\\n        - B        1000(Bk - 0.63)^2 where Bk is the proportion of blacks by town\\n        - LSTAT    % lower status of the population\\n        - MEDV     Median value of owner-occupied homes in $1000's\\n\\n    :Missing Attribute Values: None\\n\\n    :Creator: Harrison, D. and Rubinfeld, D.L.\\n\\nThis is a copy of UCI ML housing dataset.\\nhttps://archive.ics.uci.edu/ml/machine-learning-databases/housing/\\n\\n\\nThis dataset was taken from the StatLib library which is maintained at Carnegie Mellon University.\\n\\nThe Boston house-price data of Harrison, D. and Rubinfeld, D.L. 'Hedonic\\nprices and the demand for clean air', J. Environ. Economics & Management,\\nvol.5, 81-102, 1978.   Used in Belsley, Kuh & Welsch, 'Regression diagnostics\\n...', Wiley, 1980.   N.B. Various transformations are used in the table on\\npages 244-261 of the latter.\\n\\nThe Boston house-price data has been used in many machine learning papers that address regression\\nproblems.   \\n     \\n.. topic:: References\\n\\n   - Belsley, Kuh & Welsch, 'Regression diagnostics: Identifying Influential Data and Sources of Collinearity', Wiley, 1980. 244-261.\\n   - Quinlan,R. (1993). Combining Instance-Based and Model-Based Learning. In Proceedings on the Tenth International Conference of Machine Learning, 236-243, University of Massachusetts, Amherst. Morgan Kaufmann.\\n\",\n 'filename': '/databricks/python/lib/python3.8/site-packages/sklearn/datasets/data/boston_house_prices.csv'}",
       "datasetInfos": [],
       "metadata": {},
       "removedWidgets": [],
       "type": "ansi"
      }
     },
     "output_type": "display_data"
    }
   ],
   "source": [
    "# Load housing data - sklearn预置数据集\n",
    "housing_data = datasets.load_boston() \n",
    "housing_data"
   ]
  },
  {
   "cell_type": "code",
   "execution_count": 0,
   "metadata": {
    "application/vnd.databricks.v1+cell": {
     "cellMetadata": {},
     "inputWidgets": {},
     "nuid": "7033b0f2-2aa6-4620-9f07-44ad14511ce7",
     "showTitle": false,
     "title": ""
    }
   },
   "outputs": [
    {
     "data": {
      "text/plain": [
       "对比Decition Tree和AdaBoost算法性能差异 (AdaBoost可以让误差更小，且解释方差更接近1)\n",
       "\n",
       "**** Decision Tree performance ****\n",
       "Mean squared error = 22.48\n",
       "Explained variance score = 0.73\n",
       "\n",
       "**** AdaBoost performance ****\n",
       "Mean squared error = 7.54\n",
       "Explained variance score = 0.91\n"
      ]
     },
     "metadata": {
      "application/vnd.databricks.v1+output": {
       "addedWidgets": {},
       "arguments": {},
       "data": "对比Decition Tree和AdaBoost算法性能差异 (AdaBoost可以让误差更小，且解释方差更接近1)\n\n**** Decision Tree performance ****\nMean squared error = 22.48\nExplained variance score = 0.73\n\n**** AdaBoost performance ****\nMean squared error = 7.54\nExplained variance score = 0.91\n",
       "datasetInfos": [],
       "metadata": {},
       "removedWidgets": [],
       "type": "ansi"
      }
     },
     "output_type": "display_data"
    },
    {
     "data": {
      "image/png": "[encoded data removed]"
     },
     "metadata": {
      "application/vnd.databricks.v1+output": {
       "addedWidgets": {},
       "arguments": {},
       "data": "data:image/png;base64,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\n",
       "datasetInfos": [],
       "metadata": {},
       "removedWidgets": [],
       "type": "image"
      }
     },
     "output_type": "display_data"
    },
    {
     "data": {
      "image/png": "[encoded data removed]"
     },
     "metadata": {
      "application/vnd.databricks.v1+output": {
       "addedWidgets": {},
       "arguments": {},
       "data": "data:image/png;base64,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\n",
       "datasetInfos": [],
       "metadata": {},
       "removedWidgets": [],
       "type": "image"
      }
     },
     "output_type": "display_data"
    }
   ],
   "source": [
    "# Shuffle the data - 实际问题是基于数据独立同分布的假设条件来考虑的。即数据应该是随机出现的，而不是按照某种顺序排列好，这就是shuffle(洗牌)算法的目的。通过shuffle来提高模型的泛化能力。\n",
    "X, y = shuffle(housing_data.data, housing_data.target, random_state=7)\n",
    "\n",
    "# Split the data 80/20 (80% for training, 20% for testing)\n",
    "num_training = int(0.8 * len(X))\n",
    "X_train, y_train = X[:num_training], y[:num_training]\n",
    "X_test, y_test = X[num_training:], y[num_training:]\n",
    "\n",
    "print('对比Decition Tree和AdaBoost算法性能差异 (AdaBoost可以让误差更小，且解释方差更接近1)')\n",
    "\n",
    "# 训练普通决策树\n",
    "# Fit decision tree regression model\n",
    "dt_regressor = DecisionTreeRegressor(max_depth=4) # 限制最大深度，防止过拟合\n",
    "dt_regressor.fit(X_train, y_train)\n",
    "\n",
    "# Evaluate performance of Decision Tree regressor\n",
    "y_pred_dt = dt_regressor.predict(X_test)\n",
    "mse = mean_squared_error(y_test, y_pred_dt)\n",
    "evs = explained_variance_score(y_test, y_pred_dt) \n",
    "print(\"\\n**** Decision Tree performance ****\")\n",
    "print(\"Mean squared error =\", round(mse, 2))\n",
    "print(\"Explained variance score =\", round(evs, 2))\n",
    "\n",
    "\n",
    "# 训练AdaBoost决策树\n",
    "# Fit decision tree regression model with AdaBoost\n",
    "ab_regressor = AdaBoostRegressor(DecisionTreeRegressor(max_depth=4), n_estimators=400, random_state=7) # random_state用来标识随机数组，用于再次复现数据结果\n",
    "ab_regressor.fit(X_train, y_train)\n",
    "\n",
    "# Evaluate performance of AdaBoost\n",
    "y_pred_ab = ab_regressor.predict(X_test)\n",
    "mse = mean_squared_error(y_test, y_pred_ab)\n",
    "evs = explained_variance_score(y_test, y_pred_ab) \n",
    "print(\"\\n**** AdaBoost performance ****\")\n",
    "print(\"Mean squared error =\", round(mse, 2))\n",
    "print(\"Explained variance score =\", round(evs, 2))\n",
    "\n",
    "\n",
    "# 自定义特征重要程度函数\n",
    "def plot_feature_importances(feature_importances, title, feature_names):\n",
    "    # Normalize the importance values \n",
    "    feature_importances = 100.0 * (feature_importances / max(feature_importances))\n",
    "\n",
    "    # Sort the values and flip them\n",
    "    index_sorted = np.flipud(np.argsort(feature_importances))\n",
    "\n",
    "    # Arrange the X ticks\n",
    "    pos = np.arange(index_sorted.shape[0]) + 0.5\n",
    "\n",
    "    # Plot the bar graph\n",
    "    plt.figure()\n",
    "    plt.bar(pos, feature_importances[index_sorted], align='center')\n",
    "    plt.xticks(pos,feature_names[index_sorted],rotation=45)\n",
    "    plt.ylabel('Relative Importance')\n",
    "    plt.title(title)\n",
    "    plt.show()\n",
    "\n",
    "    \n",
    "# 显示特征重要程度. 回归器对象regressor中的feature_importance会计算每个特征的相对重要性\n",
    "plot_feature_importances(dt_regressor.feature_importances_, 'Decision Tree regressor', housing_data.feature_names)\n",
    "plot_feature_importances(ab_regressor.feature_importances_, 'AdaBoost regressor', housing_data.feature_names)"
   ]
  },
  {
   "cell_type": "markdown",
   "metadata": {
    "application/vnd.databricks.v1+cell": {
     "cellMetadata": {},
     "inputWidgets": {},
     "nuid": "2940b609-7a5d-4ced-87ec-6535a783fed7",
     "showTitle": false,
     "title": ""
    }
   },
   "source": [
    "#### 随机森林回归(Random Forest Regressor)\n",
    "- 集成学习算法\n",
    "- RF是一个决策树集合，它基本上是用一组由数据集若干子集构建的决策树构成，再用决策树平均值来改善整体学习效果"
   ]
  },
  {
   "cell_type": "code",
   "execution_count": 0,
   "metadata": {
    "application/vnd.databricks.v1+cell": {
     "cellMetadata": {},
     "inputWidgets": {},
     "nuid": "5dc91825-c214-417a-a463-1a2aa6ccb362",
     "showTitle": false,
     "title": ""
    }
   },
   "outputs": [],
   "source": [
    "import numpy as np\n",
    "from sklearn.ensemble import RandomForestRegressor \n",
    "from sklearn import preprocessing\n",
    "from sklearn.metrics import mean_squared_error, explained_variance_score\n",
    "from sklearn.utils import shuffle\n",
    "import matplotlib.pyplot as plt"
   ]
  },
  {
   "cell_type": "code",
   "execution_count": 0,
   "metadata": {
    "application/vnd.databricks.v1+cell": {
     "cellMetadata": {},
     "inputWidgets": {},
     "nuid": "5e31cb6d-1fcf-4c5a-8d24-eec8807db5bc",
     "showTitle": false,
     "title": ""
    }
   },
   "outputs": [
    {
     "data": {
      "text/html": [
       "<div>\n",
       "<style scoped>\n",
       "    .dataframe tbody tr th:only-of-type {\n",
       "        vertical-align: middle;\n",
       "    }\n",
       "\n",
       "    .dataframe tbody tr th {\n",
       "        vertical-align: top;\n",
       "    }\n",
       "\n",
       "    .dataframe thead th {\n",
       "        text-align: right;\n",
       "    }\n",
       "</style>\n",
       "<table border=\"1\" class=\"dataframe\">\n",
       "  <thead>\n",
       "    <tr style=\"text-align: right;\">\n",
       "      <th></th>\n",
       "      <th>instant</th>\n",
       "      <th>dteday</th>\n",
       "      <th>season</th>\n",
       "      <th>yr</th>\n",
       "      <th>mnth</th>\n",
       "      <th>holiday</th>\n",
       "      <th>weekday</th>\n",
       "      <th>workingday</th>\n",
       "      <th>weathersit</th>\n",
       "      <th>temp</th>\n",
       "      <th>atemp</th>\n",
       "      <th>hum</th>\n",
       "      <th>windspeed</th>\n",
       "      <th>casual</th>\n",
       "      <th>registered</th>\n",
       "      <th>cnt</th>\n",
       "    </tr>\n",
       "  </thead>\n",
       "  <tbody>\n",
       "    <tr>\n",
       "      <th>0</th>\n",
       "      <td>1</td>\n",
       "      <td>2011-01-01</td>\n",
       "      <td>1</td>\n",
       "      <td>0</td>\n",
       "      <td>1</td>\n",
       "      <td>0</td>\n",
       "      <td>6</td>\n",
       "      <td>0</td>\n",
       "      <td>2</td>\n",
       "      <td>0.344167</td>\n",
       "      <td>0.363625</td>\n",
       "      <td>0.805833</td>\n",
       "      <td>0.160446</td>\n",
       "      <td>331</td>\n",
       "      <td>654</td>\n",
       "      <td>985</td>\n",
       "    </tr>\n",
       "    <tr>\n",
       "      <th>1</th>\n",
       "      <td>2</td>\n",
       "      <td>2011-01-02</td>\n",
       "      <td>1</td>\n",
       "      <td>0</td>\n",
       "      <td>1</td>\n",
       "      <td>0</td>\n",
       "      <td>0</td>\n",
       "      <td>0</td>\n",
       "      <td>2</td>\n",
       "      <td>0.363478</td>\n",
       "      <td>0.353739</td>\n",
       "      <td>0.696087</td>\n",
       "      <td>0.248539</td>\n",
       "      <td>131</td>\n",
       "      <td>670</td>\n",
       "      <td>801</td>\n",
       "    </tr>\n",
       "    <tr>\n",
       "      <th>2</th>\n",
       "      <td>3</td>\n",
       "      <td>2011-01-03</td>\n",
       "      <td>1</td>\n",
       "      <td>0</td>\n",
       "      <td>1</td>\n",
       "      <td>0</td>\n",
       "      <td>1</td>\n",
       "      <td>1</td>\n",
       "      <td>1</td>\n",
       "      <td>0.196364</td>\n",
       "      <td>0.189405</td>\n",
       "      <td>0.437273</td>\n",
       "      <td>0.248309</td>\n",
       "      <td>120</td>\n",
       "      <td>1229</td>\n",
       "      <td>1349</td>\n",
       "    </tr>\n",
       "    <tr>\n",
       "      <th>3</th>\n",
       "      <td>4</td>\n",
       "      <td>2011-01-04</td>\n",
       "      <td>1</td>\n",
       "      <td>0</td>\n",
       "      <td>1</td>\n",
       "      <td>0</td>\n",
       "      <td>2</td>\n",
       "      <td>1</td>\n",
       "      <td>1</td>\n",
       "      <td>0.200000</td>\n",
       "      <td>0.212122</td>\n",
       "      <td>0.590435</td>\n",
       "      <td>0.160296</td>\n",
       "      <td>108</td>\n",
       "      <td>1454</td>\n",
       "      <td>1562</td>\n",
       "    </tr>\n",
       "    <tr>\n",
       "      <th>4</th>\n",
       "      <td>5</td>\n",
       "      <td>2011-01-05</td>\n",
       "      <td>1</td>\n",
       "      <td>0</td>\n",
       "      <td>1</td>\n",
       "      <td>0</td>\n",
       "      <td>3</td>\n",
       "      <td>1</td>\n",
       "      <td>1</td>\n",
       "      <td>0.226957</td>\n",
       "      <td>0.229270</td>\n",
       "      <td>0.436957</td>\n",
       "      <td>0.186900</td>\n",
       "      <td>82</td>\n",
       "      <td>1518</td>\n",
       "      <td>1600</td>\n",
       "    </tr>\n",
       "    <tr>\n",
       "      <th>...</th>\n",
       "      <td>...</td>\n",
       "      <td>...</td>\n",
       "      <td>...</td>\n",
       "      <td>...</td>\n",
       "      <td>...</td>\n",
       "      <td>...</td>\n",
       "      <td>...</td>\n",
       "      <td>...</td>\n",
       "      <td>...</td>\n",
       "      <td>...</td>\n",
       "      <td>...</td>\n",
       "      <td>...</td>\n",
       "      <td>...</td>\n",
       "      <td>...</td>\n",
       "      <td>...</td>\n",
       "      <td>...</td>\n",
       "    </tr>\n",
       "    <tr>\n",
       "      <th>726</th>\n",
       "      <td>727</td>\n",
       "      <td>2012-12-27</td>\n",
       "      <td>1</td>\n",
       "      <td>1</td>\n",
       "      <td>12</td>\n",
       "      <td>0</td>\n",
       "      <td>4</td>\n",
       "      <td>1</td>\n",
       "      <td>2</td>\n",
       "      <td>0.254167</td>\n",
       "      <td>0.226642</td>\n",
       "      <td>0.652917</td>\n",
       "      <td>0.350133</td>\n",
       "      <td>247</td>\n",
       "      <td>1867</td>\n",
       "      <td>2114</td>\n",
       "    </tr>\n",
       "    <tr>\n",
       "      <th>727</th>\n",
       "      <td>728</td>\n",
       "      <td>2012-12-28</td>\n",
       "      <td>1</td>\n",
       "      <td>1</td>\n",
       "      <td>12</td>\n",
       "      <td>0</td>\n",
       "      <td>5</td>\n",
       "      <td>1</td>\n",
       "      <td>2</td>\n",
       "      <td>0.253333</td>\n",
       "      <td>0.255046</td>\n",
       "      <td>0.590000</td>\n",
       "      <td>0.155471</td>\n",
       "      <td>644</td>\n",
       "      <td>2451</td>\n",
       "      <td>3095</td>\n",
       "    </tr>\n",
       "    <tr>\n",
       "      <th>728</th>\n",
       "      <td>729</td>\n",
       "      <td>2012-12-29</td>\n",
       "      <td>1</td>\n",
       "      <td>1</td>\n",
       "      <td>12</td>\n",
       "      <td>0</td>\n",
       "      <td>6</td>\n",
       "      <td>0</td>\n",
       "      <td>2</td>\n",
       "      <td>0.253333</td>\n",
       "      <td>0.242400</td>\n",
       "      <td>0.752917</td>\n",
       "      <td>0.124383</td>\n",
       "      <td>159</td>\n",
       "      <td>1182</td>\n",
       "      <td>1341</td>\n",
       "    </tr>\n",
       "    <tr>\n",
       "      <th>729</th>\n",
       "      <td>730</td>\n",
       "      <td>2012-12-30</td>\n",
       "      <td>1</td>\n",
       "      <td>1</td>\n",
       "      <td>12</td>\n",
       "      <td>0</td>\n",
       "      <td>0</td>\n",
       "      <td>0</td>\n",
       "      <td>1</td>\n",
       "      <td>0.255833</td>\n",
       "      <td>0.231700</td>\n",
       "      <td>0.483333</td>\n",
       "      <td>0.350754</td>\n",
       "      <td>364</td>\n",
       "      <td>1432</td>\n",
       "      <td>1796</td>\n",
       "    </tr>\n",
       "    <tr>\n",
       "      <th>730</th>\n",
       "      <td>731</td>\n",
       "      <td>2012-12-31</td>\n",
       "      <td>1</td>\n",
       "      <td>1</td>\n",
       "      <td>12</td>\n",
       "      <td>0</td>\n",
       "      <td>1</td>\n",
       "      <td>1</td>\n",
       "      <td>2</td>\n",
       "      <td>0.215833</td>\n",
       "      <td>0.223487</td>\n",
       "      <td>0.577500</td>\n",
       "      <td>0.154846</td>\n",
       "      <td>439</td>\n",
       "      <td>2290</td>\n",
       "      <td>2729</td>\n",
       "    </tr>\n",
       "  </tbody>\n",
       "</table>\n",
       "<p>731 rows × 16 columns</p>\n",
       "</div>"
      ]
     },
     "metadata": {
      "application/vnd.databricks.v1+output": {
       "addedWidgets": {},
       "arguments": {},
       "data": "<div>\n<style scoped>\n    .dataframe tbody tr th:only-of-type {\n        vertical-align: middle;\n    }\n\n    .dataframe tbody tr th {\n        vertical-align: top;\n    }\n\n    .dataframe thead th {\n        text-align: right;\n    }\n</style>\n<table border=\"1\" class=\"dataframe\">\n  <thead>\n    <tr style=\"text-align: right;\">\n      <th></th>\n      <th>instant</th>\n      <th>dteday</th>\n      <th>season</th>\n      <th>yr</th>\n      <th>mnth</th>\n      <th>holiday</th>\n      <th>weekday</th>\n      <th>workingday</th>\n      <th>weathersit</th>\n      <th>temp</th>\n      <th>atemp</th>\n      <th>hum</th>\n      <th>windspeed</th>\n      <th>casual</th>\n      <th>registered</th>\n      <th>cnt</th>\n    </tr>\n  </thead>\n  <tbody>\n    <tr>\n      <th>0</th>\n      <td>1</td>\n      <td>2011-01-01</td>\n      <td>1</td>\n      <td>0</td>\n      <td>1</td>\n      <td>0</td>\n      <td>6</td>\n      <td>0</td>\n      <td>2</td>\n      <td>0.344167</td>\n      <td>0.363625</td>\n      <td>0.805833</td>\n      <td>0.160446</td>\n      <td>331</td>\n      <td>654</td>\n      <td>985</td>\n    </tr>\n    <tr>\n      <th>1</th>\n      <td>2</td>\n      <td>2011-01-02</td>\n      <td>1</td>\n      <td>0</td>\n      <td>1</td>\n      <td>0</td>\n      <td>0</td>\n      <td>0</td>\n      <td>2</td>\n      <td>0.363478</td>\n      <td>0.353739</td>\n      <td>0.696087</td>\n      <td>0.248539</td>\n      <td>131</td>\n      <td>670</td>\n      <td>801</td>\n    </tr>\n    <tr>\n      <th>2</th>\n      <td>3</td>\n      <td>2011-01-03</td>\n      <td>1</td>\n      <td>0</td>\n      <td>1</td>\n      <td>0</td>\n      <td>1</td>\n      <td>1</td>\n      <td>1</td>\n      <td>0.196364</td>\n      <td>0.189405</td>\n      <td>0.437273</td>\n      <td>0.248309</td>\n      <td>120</td>\n      <td>1229</td>\n      <td>1349</td>\n    </tr>\n    <tr>\n      <th>3</th>\n      <td>4</td>\n      <td>2011-01-04</td>\n      <td>1</td>\n      <td>0</td>\n      <td>1</td>\n      <td>0</td>\n      <td>2</td>\n      <td>1</td>\n      <td>1</td>\n      <td>0.200000</td>\n      <td>0.212122</td>\n      <td>0.590435</td>\n      <td>0.160296</td>\n      <td>108</td>\n      <td>1454</td>\n      <td>1562</td>\n    </tr>\n    <tr>\n      <th>4</th>\n      <td>5</td>\n      <td>2011-01-05</td>\n      <td>1</td>\n      <td>0</td>\n      <td>1</td>\n      <td>0</td>\n      <td>3</td>\n      <td>1</td>\n      <td>1</td>\n      <td>0.226957</td>\n      <td>0.229270</td>\n      <td>0.436957</td>\n      <td>0.186900</td>\n      <td>82</td>\n      <td>1518</td>\n      <td>1600</td>\n    </tr>\n    <tr>\n      <th>...</th>\n      <td>...</td>\n      <td>...</td>\n      <td>...</td>\n      <td>...</td>\n      <td>...</td>\n      <td>...</td>\n      <td>...</td>\n      <td>...</td>\n      <td>...</td>\n      <td>...</td>\n      <td>...</td>\n      <td>...</td>\n      <td>...</td>\n      <td>...</td>\n      <td>...</td>\n      <td>...</td>\n    </tr>\n    <tr>\n      <th>726</th>\n      <td>727</td>\n      <td>2012-12-27</td>\n      <td>1</td>\n      <td>1</td>\n      <td>12</td>\n      <td>0</td>\n      <td>4</td>\n      <td>1</td>\n      <td>2</td>\n      <td>0.254167</td>\n      <td>0.226642</td>\n      <td>0.652917</td>\n      <td>0.350133</td>\n      <td>247</td>\n      <td>1867</td>\n      <td>2114</td>\n    </tr>\n    <tr>\n      <th>727</th>\n      <td>728</td>\n      <td>2012-12-28</td>\n      <td>1</td>\n      <td>1</td>\n      <td>12</td>\n      <td>0</td>\n      <td>5</td>\n      <td>1</td>\n      <td>2</td>\n      <td>0.253333</td>\n      <td>0.255046</td>\n      <td>0.590000</td>\n      <td>0.155471</td>\n      <td>644</td>\n      <td>2451</td>\n      <td>3095</td>\n    </tr>\n    <tr>\n      <th>728</th>\n      <td>729</td>\n      <td>2012-12-29</td>\n      <td>1</td>\n      <td>1</td>\n      <td>12</td>\n      <td>0</td>\n      <td>6</td>\n      <td>0</td>\n      <td>2</td>\n      <td>0.253333</td>\n      <td>0.242400</td>\n      <td>0.752917</td>\n      <td>0.124383</td>\n      <td>159</td>\n      <td>1182</td>\n      <td>1341</td>\n    </tr>\n    <tr>\n      <th>729</th>\n      <td>730</td>\n      <td>2012-12-30</td>\n      <td>1</td>\n      <td>1</td>\n      <td>12</td>\n      <td>0</td>\n      <td>0</td>\n      <td>0</td>\n      <td>1</td>\n      <td>0.255833</td>\n      <td>0.231700</td>\n      <td>0.483333</td>\n      <td>0.350754</td>\n      <td>364</td>\n      <td>1432</td>\n      <td>1796</td>\n    </tr>\n    <tr>\n      <th>730</th>\n      <td>731</td>\n      <td>2012-12-31</td>\n      <td>1</td>\n      <td>1</td>\n      <td>12</td>\n      <td>0</td>\n      <td>1</td>\n      <td>1</td>\n      <td>2</td>\n      <td>0.215833</td>\n      <td>0.223487</td>\n      <td>0.577500</td>\n      <td>0.154846</td>\n      <td>439</td>\n      <td>2290</td>\n      <td>2729</td>\n    </tr>\n  </tbody>\n</table>\n<p>731 rows × 16 columns</p>\n</div>",
       "datasetInfos": [],
       "metadata": {},
       "removedWidgets": [],
       "textData": null,
       "type": "htmlSandbox"
      }
     },
     "output_type": "display_data"
    }
   ],
   "source": [
    "# 训练数据集来自：https://archive.ics.uci.edu/ml/datasets/Bike+Sharing+Dataset\n",
    "df=spark.read.csv('/FileStore/tables/bike_day.csv', header=\"true\", inferSchema=\"true\")\n",
    "df1 = df.toPandas()\n",
    "df1"
   ]
  },
  {
   "cell_type": "code",
   "execution_count": 0,
   "metadata": {
    "application/vnd.databricks.v1+cell": {
     "cellMetadata": {},
     "inputWidgets": {},
     "nuid": "b8f61704-94e1-44e3-82d8-3ea3ca4c54e6",
     "showTitle": false,
     "title": ""
    }
   },
   "outputs": [
    {
     "data": {
      "text/plain": [
       "\n",
       "**** Random Forest regressor performance ****\n",
       "Mean squared error = 302172.11\n",
       "Explained variance score = 0.92\n"
      ]
     },
     "metadata": {
      "application/vnd.databricks.v1+output": {
       "addedWidgets": {},
       "arguments": {},
       "data": "\n**** Random Forest regressor performance ****\nMean squared error = 302172.11\nExplained variance score = 0.92\n",
       "datasetInfos": [],
       "metadata": {},
       "removedWidgets": [],
       "type": "ansi"
      }
     },
     "output_type": "display_data"
    }
   ],
   "source": [
    "# Select useful columns as features and target\n",
    "# 数据集特征X的选取范围，前两列为标签和日期，最后两列的和为最后的y值，均为无效特征，故移除前两列和第13,14列\n",
    "X = np.array(df1.iloc[:,2:13])\n",
    "y = np.array(df1.iloc[:,15:]).ravel()\n",
    "\n",
    "# Extract feature names\n",
    "\n",
    "feature_names = np.array(list(df1.iloc[:,2:13].columns)).ravel()\n",
    "\n",
    "X,y = shuffle(X,y,random_state=7)\n",
    "\n",
    "# Split the data 80/20 (80% for training, 20% for testing)\n",
    "num_training = int(0.8 * len(X))\n",
    "X_train, y_train = X[:num_training], y[:num_training]\n",
    "X_test, y_test = X[num_training:], y[num_training:]\n",
    "\n",
    "# Fit Random Forest regression model\n",
    "# n_estimators - 评估器的数量，表示随机森林需要使用的决策树数量\n",
    "# max_depth - 每个决策树的最大深度\n",
    "# min_sample_split - 决策树分裂一个节点需要用到的最小数据样本量\n",
    "rf_regressor = RandomForestRegressor(n_estimators=1000, max_depth=10, min_samples_split=2)\n",
    "rf_regressor.fit(X_train, y_train)\n",
    "\n",
    "# Evaluate performance of Random Forest regressor\n",
    "y_pred = rf_regressor.predict(X_test)\n",
    "mse = mean_squared_error(y_test, y_pred)\n",
    "evs = explained_variance_score(y_test, y_pred) \n",
    "print(\"\\n**** Random Forest regressor performance ****\")\n",
    "print(\"Mean squared error =\", round(mse, 2))\n",
    "print(\"Explained variance score =\", round(evs, 2))"
   ]
  },
  {
   "cell_type": "code",
   "execution_count": 0,
   "metadata": {
    "application/vnd.databricks.v1+cell": {
     "cellMetadata": {},
     "inputWidgets": {},
     "nuid": "ed95f98b-9eec-428d-97da-312ff8d4b53e",
     "showTitle": false,
     "title": ""
    }
   },
   "outputs": [
    {
     "data": {
      "image/png": "[encoded data removed]"
     },
     "metadata": {
      "application/vnd.databricks.v1+output": {
       "addedWidgets": {},
       "arguments": {},
       "data": "data:image/png;base64,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\n",
       "datasetInfos": [],
       "metadata": {},
       "removedWidgets": [],
       "type": "image"
      }
     },
     "output_type": "display_data"
    }
   ],
   "source": [
    "# 特征重要性可视化自定义函数\n",
    "def plot_feature_importances(feature_importances, title, feature_names):\n",
    "    # Normalize the importance values \n",
    "    feature_importances = 100.0 * (feature_importances / max(feature_importances))\n",
    "\n",
    "    # Sort the values and flip them\n",
    "    index_sorted = np.flipud(np.argsort(feature_importances))\n",
    "\n",
    "    # Arrange the X ticks\n",
    "    pos = np.arange(index_sorted.shape[0]) + 0.5\n",
    "\n",
    "    # Plot the bar graph\n",
    "    plt.figure()\n",
    "    plt.bar(pos, feature_importances[index_sorted], align='center')\n",
    "    \n",
    "#     print(feature_names)\n",
    "#     print(index_sorted)\n",
    "#     print(feature_names[index_sorted])\n",
    "    plt.xticks(pos,feature_names[index_sorted],rotation=45)\n",
    "    plt.ylabel('Relative Importance')\n",
    "    plt.title(title)\n",
    "    plt.show()\n",
    "    \n",
    "    \n",
    "# Plot relative feature importances \n",
    "plot_feature_importances(rf_regressor.feature_importances_, 'Random Forest regressor', feature_names)"
   ]
  },
  {
   "cell_type": "code",
   "execution_count": 0,
   "metadata": {
    "application/vnd.databricks.v1+cell": {
     "cellMetadata": {},
     "inputWidgets": {},
     "nuid": "79cc9723-9b96-496e-ae4d-dfe55e0448b0",
     "showTitle": false,
     "title": ""
    }
   },
   "outputs": [
    {
     "data": {
      "text/html": [
       "<div>\n",
       "<style scoped>\n",
       "    .dataframe tbody tr th:only-of-type {\n",
       "        vertical-align: middle;\n",
       "    }\n",
       "\n",
       "    .dataframe tbody tr th {\n",
       "        vertical-align: top;\n",
       "    }\n",
       "\n",
       "    .dataframe thead th {\n",
       "        text-align: right;\n",
       "    }\n",
       "</style>\n",
       "<table border=\"1\" class=\"dataframe\">\n",
       "  <thead>\n",
       "    <tr style=\"text-align: right;\">\n",
       "      <th></th>\n",
       "      <th>instant</th>\n",
       "      <th>dteday</th>\n",
       "      <th>season</th>\n",
       "      <th>yr</th>\n",
       "      <th>mnth</th>\n",
       "      <th>hr</th>\n",
       "      <th>holiday</th>\n",
       "      <th>weekday</th>\n",
       "      <th>workingday</th>\n",
       "      <th>weathersit</th>\n",
       "      <th>temp</th>\n",
       "      <th>atemp</th>\n",
       "      <th>hum</th>\n",
       "      <th>windspeed</th>\n",
       "      <th>casual</th>\n",
       "      <th>registered</th>\n",
       "      <th>cnt</th>\n",
       "    </tr>\n",
       "  </thead>\n",
       "  <tbody>\n",
       "    <tr>\n",
       "      <th>0</th>\n",
       "      <td>1</td>\n",
       "      <td>2011-01-01</td>\n",
       "      <td>1</td>\n",
       "      <td>0</td>\n",
       "      <td>1</td>\n",
       "      <td>0</td>\n",
       "      <td>0</td>\n",
       "      <td>6</td>\n",
       "      <td>0</td>\n",
       "      <td>1</td>\n",
       "      <td>0.24</td>\n",
       "      <td>0.2879</td>\n",
       "      <td>0.81</td>\n",
       "      <td>0.0000</td>\n",
       "      <td>3</td>\n",
       "      <td>13</td>\n",
       "      <td>16</td>\n",
       "    </tr>\n",
       "    <tr>\n",
       "      <th>1</th>\n",
       "      <td>2</td>\n",
       "      <td>2011-01-01</td>\n",
       "      <td>1</td>\n",
       "      <td>0</td>\n",
       "      <td>1</td>\n",
       "      <td>1</td>\n",
       "      <td>0</td>\n",
       "      <td>6</td>\n",
       "      <td>0</td>\n",
       "      <td>1</td>\n",
       "      <td>0.22</td>\n",
       "      <td>0.2727</td>\n",
       "      <td>0.80</td>\n",
       "      <td>0.0000</td>\n",
       "      <td>8</td>\n",
       "      <td>32</td>\n",
       "      <td>40</td>\n",
       "    </tr>\n",
       "    <tr>\n",
       "      <th>2</th>\n",
       "      <td>3</td>\n",
       "      <td>2011-01-01</td>\n",
       "      <td>1</td>\n",
       "      <td>0</td>\n",
       "      <td>1</td>\n",
       "      <td>2</td>\n",
       "      <td>0</td>\n",
       "      <td>6</td>\n",
       "      <td>0</td>\n",
       "      <td>1</td>\n",
       "      <td>0.22</td>\n",
       "      <td>0.2727</td>\n",
       "      <td>0.80</td>\n",
       "      <td>0.0000</td>\n",
       "      <td>5</td>\n",
       "      <td>27</td>\n",
       "      <td>32</td>\n",
       "    </tr>\n",
       "    <tr>\n",
       "      <th>3</th>\n",
       "      <td>4</td>\n",
       "      <td>2011-01-01</td>\n",
       "      <td>1</td>\n",
       "      <td>0</td>\n",
       "      <td>1</td>\n",
       "      <td>3</td>\n",
       "      <td>0</td>\n",
       "      <td>6</td>\n",
       "      <td>0</td>\n",
       "      <td>1</td>\n",
       "      <td>0.24</td>\n",
       "      <td>0.2879</td>\n",
       "      <td>0.75</td>\n",
       "      <td>0.0000</td>\n",
       "      <td>3</td>\n",
       "      <td>10</td>\n",
       "      <td>13</td>\n",
       "    </tr>\n",
       "    <tr>\n",
       "      <th>4</th>\n",
       "      <td>5</td>\n",
       "      <td>2011-01-01</td>\n",
       "      <td>1</td>\n",
       "      <td>0</td>\n",
       "      <td>1</td>\n",
       "      <td>4</td>\n",
       "      <td>0</td>\n",
       "      <td>6</td>\n",
       "      <td>0</td>\n",
       "      <td>1</td>\n",
       "      <td>0.24</td>\n",
       "      <td>0.2879</td>\n",
       "      <td>0.75</td>\n",
       "      <td>0.0000</td>\n",
       "      <td>0</td>\n",
       "      <td>1</td>\n",
       "      <td>1</td>\n",
       "    </tr>\n",
       "    <tr>\n",
       "      <th>...</th>\n",
       "      <td>...</td>\n",
       "      <td>...</td>\n",
       "      <td>...</td>\n",
       "      <td>...</td>\n",
       "      <td>...</td>\n",
       "      <td>...</td>\n",
       "      <td>...</td>\n",
       "      <td>...</td>\n",
       "      <td>...</td>\n",
       "      <td>...</td>\n",
       "      <td>...</td>\n",
       "      <td>...</td>\n",
       "      <td>...</td>\n",
       "      <td>...</td>\n",
       "      <td>...</td>\n",
       "      <td>...</td>\n",
       "      <td>...</td>\n",
       "    </tr>\n",
       "    <tr>\n",
       "      <th>17374</th>\n",
       "      <td>17375</td>\n",
       "      <td>2012-12-31</td>\n",
       "      <td>1</td>\n",
       "      <td>1</td>\n",
       "      <td>12</td>\n",
       "      <td>19</td>\n",
       "      <td>0</td>\n",
       "      <td>1</td>\n",
       "      <td>1</td>\n",
       "      <td>2</td>\n",
       "      <td>0.26</td>\n",
       "      <td>0.2576</td>\n",
       "      <td>0.60</td>\n",
       "      <td>0.1642</td>\n",
       "      <td>11</td>\n",
       "      <td>108</td>\n",
       "      <td>119</td>\n",
       "    </tr>\n",
       "    <tr>\n",
       "      <th>17375</th>\n",
       "      <td>17376</td>\n",
       "      <td>2012-12-31</td>\n",
       "      <td>1</td>\n",
       "      <td>1</td>\n",
       "      <td>12</td>\n",
       "      <td>20</td>\n",
       "      <td>0</td>\n",
       "      <td>1</td>\n",
       "      <td>1</td>\n",
       "      <td>2</td>\n",
       "      <td>0.26</td>\n",
       "      <td>0.2576</td>\n",
       "      <td>0.60</td>\n",
       "      <td>0.1642</td>\n",
       "      <td>8</td>\n",
       "      <td>81</td>\n",
       "      <td>89</td>\n",
       "    </tr>\n",
       "    <tr>\n",
       "      <th>17376</th>\n",
       "      <td>17377</td>\n",
       "      <td>2012-12-31</td>\n",
       "      <td>1</td>\n",
       "      <td>1</td>\n",
       "      <td>12</td>\n",
       "      <td>21</td>\n",
       "      <td>0</td>\n",
       "      <td>1</td>\n",
       "      <td>1</td>\n",
       "      <td>1</td>\n",
       "      <td>0.26</td>\n",
       "      <td>0.2576</td>\n",
       "      <td>0.60</td>\n",
       "      <td>0.1642</td>\n",
       "      <td>7</td>\n",
       "      <td>83</td>\n",
       "      <td>90</td>\n",
       "    </tr>\n",
       "    <tr>\n",
       "      <th>17377</th>\n",
       "      <td>17378</td>\n",
       "      <td>2012-12-31</td>\n",
       "      <td>1</td>\n",
       "      <td>1</td>\n",
       "      <td>12</td>\n",
       "      <td>22</td>\n",
       "      <td>0</td>\n",
       "      <td>1</td>\n",
       "      <td>1</td>\n",
       "      <td>1</td>\n",
       "      <td>0.26</td>\n",
       "      <td>0.2727</td>\n",
       "      <td>0.56</td>\n",
       "      <td>0.1343</td>\n",
       "      <td>13</td>\n",
       "      <td>48</td>\n",
       "      <td>61</td>\n",
       "    </tr>\n",
       "    <tr>\n",
       "      <th>17378</th>\n",
       "      <td>17379</td>\n",
       "      <td>2012-12-31</td>\n",
       "      <td>1</td>\n",
       "      <td>1</td>\n",
       "      <td>12</td>\n",
       "      <td>23</td>\n",
       "      <td>0</td>\n",
       "      <td>1</td>\n",
       "      <td>1</td>\n",
       "      <td>1</td>\n",
       "      <td>0.26</td>\n",
       "      <td>0.2727</td>\n",
       "      <td>0.65</td>\n",
       "      <td>0.1343</td>\n",
       "      <td>12</td>\n",
       "      <td>37</td>\n",
       "      <td>49</td>\n",
       "    </tr>\n",
       "  </tbody>\n",
       "</table>\n",
       "<p>17379 rows × 17 columns</p>\n",
       "</div>"
      ]
     },
     "metadata": {
      "application/vnd.databricks.v1+output": {
       "addedWidgets": {},
       "arguments": {},
       "data": "<div>\n<style scoped>\n    .dataframe tbody tr th:only-of-type {\n        vertical-align: middle;\n    }\n\n    .dataframe tbody tr th {\n        vertical-align: top;\n    }\n\n    .dataframe thead th {\n        text-align: right;\n    }\n</style>\n<table border=\"1\" class=\"dataframe\">\n  <thead>\n    <tr style=\"text-align: right;\">\n      <th></th>\n      <th>instant</th>\n      <th>dteday</th>\n      <th>season</th>\n      <th>yr</th>\n      <th>mnth</th>\n      <th>hr</th>\n      <th>holiday</th>\n      <th>weekday</th>\n      <th>workingday</th>\n      <th>weathersit</th>\n      <th>temp</th>\n      <th>atemp</th>\n      <th>hum</th>\n      <th>windspeed</th>\n      <th>casual</th>\n      <th>registered</th>\n      <th>cnt</th>\n    </tr>\n  </thead>\n  <tbody>\n    <tr>\n      <th>0</th>\n      <td>1</td>\n      <td>2011-01-01</td>\n      <td>1</td>\n      <td>0</td>\n      <td>1</td>\n      <td>0</td>\n      <td>0</td>\n      <td>6</td>\n      <td>0</td>\n      <td>1</td>\n      <td>0.24</td>\n      <td>0.2879</td>\n      <td>0.81</td>\n      <td>0.0000</td>\n      <td>3</td>\n      <td>13</td>\n      <td>16</td>\n    </tr>\n    <tr>\n      <th>1</th>\n      <td>2</td>\n      <td>2011-01-01</td>\n      <td>1</td>\n      <td>0</td>\n      <td>1</td>\n      <td>1</td>\n      <td>0</td>\n      <td>6</td>\n      <td>0</td>\n      <td>1</td>\n      <td>0.22</td>\n      <td>0.2727</td>\n      <td>0.80</td>\n      <td>0.0000</td>\n      <td>8</td>\n      <td>32</td>\n      <td>40</td>\n    </tr>\n    <tr>\n      <th>2</th>\n      <td>3</td>\n      <td>2011-01-01</td>\n      <td>1</td>\n      <td>0</td>\n      <td>1</td>\n      <td>2</td>\n      <td>0</td>\n      <td>6</td>\n      <td>0</td>\n      <td>1</td>\n      <td>0.22</td>\n      <td>0.2727</td>\n      <td>0.80</td>\n      <td>0.0000</td>\n      <td>5</td>\n      <td>27</td>\n      <td>32</td>\n    </tr>\n    <tr>\n      <th>3</th>\n      <td>4</td>\n      <td>2011-01-01</td>\n      <td>1</td>\n      <td>0</td>\n      <td>1</td>\n      <td>3</td>\n      <td>0</td>\n      <td>6</td>\n      <td>0</td>\n      <td>1</td>\n      <td>0.24</td>\n      <td>0.2879</td>\n      <td>0.75</td>\n      <td>0.0000</td>\n      <td>3</td>\n      <td>10</td>\n      <td>13</td>\n    </tr>\n    <tr>\n      <th>4</th>\n      <td>5</td>\n      <td>2011-01-01</td>\n      <td>1</td>\n      <td>0</td>\n      <td>1</td>\n      <td>4</td>\n      <td>0</td>\n      <td>6</td>\n      <td>0</td>\n      <td>1</td>\n      <td>0.24</td>\n      <td>0.2879</td>\n      <td>0.75</td>\n      <td>0.0000</td>\n      <td>0</td>\n      <td>1</td>\n      <td>1</td>\n    </tr>\n    <tr>\n      <th>...</th>\n      <td>...</td>\n      <td>...</td>\n      <td>...</td>\n      <td>...</td>\n      <td>...</td>\n      <td>...</td>\n      <td>...</td>\n      <td>...</td>\n      <td>...</td>\n      <td>...</td>\n      <td>...</td>\n      <td>...</td>\n      <td>...</td>\n      <td>...</td>\n      <td>...</td>\n      <td>...</td>\n      <td>...</td>\n    </tr>\n    <tr>\n      <th>17374</th>\n      <td>17375</td>\n      <td>2012-12-31</td>\n      <td>1</td>\n      <td>1</td>\n      <td>12</td>\n      <td>19</td>\n      <td>0</td>\n      <td>1</td>\n      <td>1</td>\n      <td>2</td>\n      <td>0.26</td>\n      <td>0.2576</td>\n      <td>0.60</td>\n      <td>0.1642</td>\n      <td>11</td>\n      <td>108</td>\n      <td>119</td>\n    </tr>\n    <tr>\n      <th>17375</th>\n      <td>17376</td>\n      <td>2012-12-31</td>\n      <td>1</td>\n      <td>1</td>\n      <td>12</td>\n      <td>20</td>\n      <td>0</td>\n      <td>1</td>\n      <td>1</td>\n      <td>2</td>\n      <td>0.26</td>\n      <td>0.2576</td>\n      <td>0.60</td>\n      <td>0.1642</td>\n      <td>8</td>\n      <td>81</td>\n      <td>89</td>\n    </tr>\n    <tr>\n      <th>17376</th>\n      <td>17377</td>\n      <td>2012-12-31</td>\n      <td>1</td>\n      <td>1</td>\n      <td>12</td>\n      <td>21</td>\n      <td>0</td>\n      <td>1</td>\n      <td>1</td>\n      <td>1</td>\n      <td>0.26</td>\n      <td>0.2576</td>\n      <td>0.60</td>\n      <td>0.1642</td>\n      <td>7</td>\n      <td>83</td>\n      <td>90</td>\n    </tr>\n    <tr>\n      <th>17377</th>\n      <td>17378</td>\n      <td>2012-12-31</td>\n      <td>1</td>\n      <td>1</td>\n      <td>12</td>\n      <td>22</td>\n      <td>0</td>\n      <td>1</td>\n      <td>1</td>\n      <td>1</td>\n      <td>0.26</td>\n      <td>0.2727</td>\n      <td>0.56</td>\n      <td>0.1343</td>\n      <td>13</td>\n      <td>48</td>\n      <td>61</td>\n    </tr>\n    <tr>\n      <th>17378</th>\n      <td>17379</td>\n      <td>2012-12-31</td>\n      <td>1</td>\n      <td>1</td>\n      <td>12</td>\n      <td>23</td>\n      <td>0</td>\n      <td>1</td>\n      <td>1</td>\n      <td>1</td>\n      <td>0.26</td>\n      <td>0.2727</td>\n      <td>0.65</td>\n      <td>0.1343</td>\n      <td>12</td>\n      <td>37</td>\n      <td>49</td>\n    </tr>\n  </tbody>\n</table>\n<p>17379 rows × 17 columns</p>\n</div>",
       "datasetInfos": [],
       "metadata": {},
       "removedWidgets": [],
       "textData": null,
       "type": "htmlSandbox"
      }
     },
     "output_type": "display_data"
    }
   ],
   "source": [
    "# 用颗粒度更精细的数据集bike_hour来尝试RF算法\n",
    "df=spark.read.csv('/FileStore/tables/bike_hour.csv', header=\"true\", inferSchema=\"true\")\n",
    "df1 = df.toPandas()\n",
    "df1"
   ]
  },
  {
   "cell_type": "code",
   "execution_count": 0,
   "metadata": {
    "application/vnd.databricks.v1+cell": {
     "cellMetadata": {},
     "inputWidgets": {},
     "nuid": "c18b1578-147b-4782-b3c9-bc05e5f09efc",
     "showTitle": false,
     "title": ""
    }
   },
   "outputs": [
    {
     "data": {
      "text/plain": [
       "\n",
       "**** Random Forest regressor performance ****\n",
       "Mean squared error = 2667.92\n",
       "Explained variance score = 0.92\n"
      ]
     },
     "metadata": {
      "application/vnd.databricks.v1+output": {
       "addedWidgets": {},
       "arguments": {},
       "data": "\n**** Random Forest regressor performance ****\nMean squared error = 2667.92\nExplained variance score = 0.92\n",
       "datasetInfos": [],
       "metadata": {},
       "removedWidgets": [],
       "type": "ansi"
      }
     },
     "output_type": "display_data"
    }
   ],
   "source": [
    "# Select useful columns as features and target\n",
    "X = np.array(df1.iloc[:,2:14])\n",
    "y = np.array(df1.iloc[:,16:]).ravel()\n",
    "\n",
    "# Extract feature names\n",
    "\n",
    "feature_names = np.array(list(df1.iloc[:,2:14].columns)).ravel()\n",
    "\n",
    "X,y = shuffle(X,y,random_state=8)\n",
    "\n",
    "# Split the data 80/20 (80% for training, 20% for testing)\n",
    "num_training = int(0.8 * len(X))\n",
    "X_train, y_train = X[:num_training], y[:num_training]\n",
    "X_test, y_test = X[num_training:], y[num_training:]\n",
    "\n",
    "# Fit Random Forest regression model\n",
    "rf_regressor = RandomForestRegressor(n_estimators=1000, max_depth=10, min_samples_split=2)\n",
    "rf_regressor.fit(X_train, y_train)\n",
    "\n",
    "# Evaluate performance of Random Forest regressor\n",
    "y_pred = rf_regressor.predict(X_test)\n",
    "mse = mean_squared_error(y_test, y_pred)\n",
    "evs = explained_variance_score(y_test, y_pred) \n",
    "print(\"\\n**** Random Forest regressor performance ****\")\n",
    "print(\"Mean squared error =\", round(mse, 2))\n",
    "print(\"Explained variance score =\", round(evs, 2))"
   ]
  },
  {
   "cell_type": "code",
   "execution_count": 0,
   "metadata": {
    "application/vnd.databricks.v1+cell": {
     "cellMetadata": {},
     "inputWidgets": {},
     "nuid": "166d9495-c65c-43e3-aea6-f489cbbcb7bd",
     "showTitle": false,
     "title": ""
    }
   },
   "outputs": [
    {
     "data": {
      "image/png": "[encoded data removed]"
     },
     "metadata": {
      "application/vnd.databricks.v1+output": {
       "addedWidgets": {},
       "arguments": {},
       "data": "data:image/png;base64,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\n",
       "datasetInfos": [],
       "metadata": {},
       "removedWidgets": [],
       "type": "image"
      }
     },
     "output_type": "display_data"
    },
    {
     "data": {
      "text/plain": [
       "Conslusion: 使用bike_hour数据集后，最重要特征变为一天中的不同时刻点hr，这也符合事物的直觉；其次重要的是温度，这与之前的分析结果保持一致。\n"
      ]
     },
     "metadata": {
      "application/vnd.databricks.v1+output": {
       "addedWidgets": {},
       "arguments": {},
       "data": "Conslusion: 使用bike_hour数据集后，最重要特征变为一天中的不同时刻点hr，这也符合事物的直觉；其次重要的是温度，这与之前的分析结果保持一致。\n",
       "datasetInfos": [],
       "metadata": {},
       "removedWidgets": [],
       "type": "ansi"
      }
     },
     "output_type": "display_data"
    }
   ],
   "source": [
    "# 特征重要性可视化自定义函数\n",
    "def plot_feature_importances(feature_importances, title, feature_names):\n",
    "    # Normalize the importance values \n",
    "    feature_importances = 100.0 * (feature_importances / max(feature_importances))\n",
    "\n",
    "    # Sort the values and flip them\n",
    "    index_sorted = np.flipud(np.argsort(feature_importances))\n",
    "\n",
    "    # Arrange the X ticks\n",
    "    pos = np.arange(index_sorted.shape[0]) + 0.5\n",
    "\n",
    "    # Plot the bar graph\n",
    "    plt.figure()\n",
    "    plt.bar(pos, feature_importances[index_sorted], align='center')\n",
    "    \n",
    "#     print(feature_names)\n",
    "#     print(index_sorted)\n",
    "#     print(feature_names[index_sorted])\n",
    "    plt.xticks(pos,feature_names[index_sorted],rotation=45)\n",
    "    plt.ylabel('Relative Importance')\n",
    "    plt.title(title)\n",
    "    plt.show()\n",
    "    \n",
    "    \n",
    "# Plot relative feature importances \n",
    "plot_feature_importances(rf_regressor.feature_importances_, 'Random Forest regressor', feature_names)\n",
    "\n",
    "print('Conslusion: 使用bike_hour数据集后，最重要特征变为一天中的不同时刻点hr，这也符合事物的直觉；其次重要的是温度，这与之前的分析结果保持一致。')"
   ]
  }
 ],
 "metadata": {
  "application/vnd.databricks.v1+notebook": {
   "dashboards": [],
   "language": "python",
   "notebookMetadata": {
    "pythonIndentUnit": 4
   },
   "notebookName": "Chapter1-预处理，编码，回归",
   "notebookOrigID": 1466669414049188,
   "widgets": {}
  },
  "kernelspec": {
   "display_name": "Python 3 (ipykernel)",
   "language": "python",
   "name": "python3"
  },
  "language_info": {
   "codemirror_mode": {
    "name": "ipython",
    "version": 3
   },
   "file_extension": ".py",
   "mimetype": "text/x-python",
   "name": "python",
   "nbconvert_exporter": "python",
   "pygments_lexer": "ipython3",
   "version": "3.10.0"
  }
 },
 "nbformat": 4,
 "nbformat_minor": 1
}
