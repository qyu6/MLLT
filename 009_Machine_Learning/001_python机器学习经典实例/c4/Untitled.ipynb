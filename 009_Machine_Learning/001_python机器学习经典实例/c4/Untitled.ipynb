{
 "cells": [
  {
   "cell_type": "code",
   "execution_count": 7,
   "id": "563621d1",
   "metadata": {},
   "outputs": [
    {
     "ename": "TypeError",
     "evalue": "'_csv.reader' object is not subscriptable",
     "output_type": "error",
     "traceback": [
      "\u001b[1;31m---------------------------------------------------------------------------\u001b[0m",
      "\u001b[1;31mTypeError\u001b[0m                                 Traceback (most recent call last)",
      "Input \u001b[1;32mIn [7]\u001b[0m, in \u001b[0;36m<cell line: 12>\u001b[1;34m()\u001b[0m\n\u001b[0;32m      9\u001b[0m input_file \u001b[38;5;241m=\u001b[39m \u001b[38;5;124m'\u001b[39m\u001b[38;5;124mwholesale.csv\u001b[39m\u001b[38;5;124m'\u001b[39m\n\u001b[0;32m     10\u001b[0m file_reader \u001b[38;5;241m=\u001b[39m csv\u001b[38;5;241m.\u001b[39mreader(\u001b[38;5;28mopen\u001b[39m(input_file, \u001b[38;5;124m'\u001b[39m\u001b[38;5;124mrb\u001b[39m\u001b[38;5;124m'\u001b[39m), delimiter\u001b[38;5;241m=\u001b[39m\u001b[38;5;124m'\u001b[39m\u001b[38;5;124m,\u001b[39m\u001b[38;5;124m'\u001b[39m)\n\u001b[1;32m---> 12\u001b[0m \u001b[38;5;28mprint\u001b[39m(\u001b[43mfile_reader\u001b[49m\u001b[43m[\u001b[49m\u001b[38;5;241;43m0\u001b[39;49m\u001b[43m]\u001b[49m)\n\u001b[0;32m     14\u001b[0m X \u001b[38;5;241m=\u001b[39m []\n\u001b[0;32m     15\u001b[0m \u001b[38;5;28;01mfor\u001b[39;00m count, row \u001b[38;5;129;01min\u001b[39;00m \u001b[38;5;28menumerate\u001b[39m(file_reader):\n",
      "\u001b[1;31mTypeError\u001b[0m: '_csv.reader' object is not subscriptable"
     ]
    }
   ],
   "source": [
    "import csv\n",
    "\n",
    "import numpy as np\n",
    "from sklearn import cluster, covariance, manifold\n",
    "from sklearn.cluster import MeanShift, estimate_bandwidth\n",
    "import matplotlib.pyplot as plt\n",
    "\n",
    "# Load data from input file\n",
    "input_file = 'wholesale.csv'\n",
    "file_reader = csv.reader(open(input_file, 'rb'), delimiter=',')\n",
    "\n",
    "\n",
    "X = []\n",
    "for count, row in enumerate(file_reader):\n",
    "    print(count)\n",
    "    print(row)\n",
    "    \n",
    "    if not count:\n",
    "        names = row[2:]\n",
    "        continue\n",
    "\n",
    "    X.append([float(x) for x in row[2:]])\n",
    "\n",
    "# Input data as numpy array\n",
    "X = np.array(X)\n",
    "\n",
    "\n",
    "# # Estimating the bandwidth \n",
    "# bandwidth = estimate_bandwidth(X, quantile=0.8, n_samples=len(X))\n",
    "\n",
    "# # Compute clustering with MeanShift\n",
    "# meanshift_estimator = MeanShift(bandwidth=bandwidth, bin_seeding=True)\n",
    "# meanshift_estimator.fit(X)\n",
    "# labels = meanshift_estimator.labels_\n",
    "# centroids = meanshift_estimator.cluster_centers_\n",
    "# num_clusters = len(np.unique(labels))\n",
    "\n",
    "# print \"\\nNumber of clusters in input data =\", num_clusters\n",
    "\n",
    "# print \"\\nCentroids of clusters:\"\n",
    "# print '\\t'.join([name[:3] for name in names])\n",
    "# for centroid in centroids:\n",
    "#     print '\\t'.join([str(int(x)) for x in centroid])\n",
    "\n",
    "# ################\n",
    "# # Visualizing data\n",
    "\n",
    "# centroids_milk_groceries = centroids[:, 1:3]\n",
    "\n",
    "# # Plot the nodes using the coordinates of our centroids_milk_groceries\n",
    "# plt.figure()\n",
    "# plt.scatter(centroids_milk_groceries[:,0], centroids_milk_groceries[:,1], \n",
    "#         s=100, edgecolors='k', facecolors='none')\n",
    "\n",
    "# offset = 0.2\n",
    "# plt.xlim(centroids_milk_groceries[:,0].min() - offset * centroids_milk_groceries[:,0].ptp(),\n",
    "#         centroids_milk_groceries[:,0].max() + offset * centroids_milk_groceries[:,0].ptp(),)\n",
    "# plt.ylim(centroids_milk_groceries[:,1].min() - offset * centroids_milk_groceries[:,1].ptp(),\n",
    "#         centroids_milk_groceries[:,1].max() + offset * centroids_milk_groceries[:,1].ptp())\n",
    "\n",
    "# plt.title('Centroids of clusters for milk and groceries')\n",
    "# plt.show()\n"
   ]
  },
  {
   "cell_type": "code",
   "execution_count": null,
   "id": "e2accccc",
   "metadata": {},
   "outputs": [],
   "source": []
  }
 ],
 "metadata": {
  "kernelspec": {
   "display_name": "Python 3 (ipykernel)",
   "language": "python",
   "name": "python3"
  },
  "language_info": {
   "codemirror_mode": {
    "name": "ipython",
    "version": 3
   },
   "file_extension": ".py",
   "mimetype": "text/x-python",
   "name": "python",
   "nbconvert_exporter": "python",
   "pygments_lexer": "ipython3",
   "version": "3.10.5"
  }
 },
 "nbformat": 4,
 "nbformat_minor": 5
}
