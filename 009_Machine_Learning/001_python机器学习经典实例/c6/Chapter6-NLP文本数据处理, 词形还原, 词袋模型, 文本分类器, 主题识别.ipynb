{
 "cells": [
  {
   "cell_type": "markdown",
   "metadata": {
    "application/vnd.databricks.v1+cell": {
     "cellMetadata": {},
     "inputWidgets": {},
     "nuid": "a94e0bf0-06ca-4935-b032-8e700ff69ccf",
     "showTitle": false,
     "title": ""
    }
   },
   "source": [
    "Agenda:\n",
    "- 标记解析方法处理数据\n",
    "- 提取文本数据的词干\n",
    "- 词形还原的方法还原文本的基本形式\n",
    "- 分块方法来划分文本\n",
    "- 创建词袋模型 bag-of-words model\n",
    "- 文本分类器\n",
    "- 识别性别\n",
    "- 分析句子情感\n",
    "- 主题建模识别文本模式"
   ]
  },
  {
   "cell_type": "markdown",
   "metadata": {
    "application/vnd.databricks.v1+cell": {
     "cellMetadata": {},
     "inputWidgets": {},
     "nuid": "2414676e-793f-4cc8-af01-8dd4e8b14ec0",
     "showTitle": false,
     "title": ""
    }
   },
   "source": [
    "- NP最常用的领域包括搜索引擎,情感分析,主题建模,词性标注,实体识别\n",
    "- pip install NLTK(Natural Language Toolkit)\n",
    "- NLTK库: https://www.nltk.org/install.html\n",
    "- NLTK数据: https://www.nltk.org/data.html NLTK数据中包含了很多语料和训练模型,是文本分析的重要部分"
   ]
  },
  {
   "cell_type": "code",
   "execution_count": 0,
   "metadata": {
    "application/vnd.databricks.v1+cell": {
     "cellMetadata": {},
     "inputWidgets": {},
     "nuid": "00d3ff5c-8245-4cf7-ba62-95b1707b9175",
     "showTitle": false,
     "title": ""
    }
   },
   "outputs": [
    {
     "data": {
      "text/plain": [
       "Out[3]: '3.7'"
      ]
     },
     "metadata": {
      "application/vnd.databricks.v1+output": {
       "addedWidgets": {},
       "arguments": {},
       "data": "Out[3]: '3.7'",
       "datasetInfos": [],
       "metadata": {},
       "removedWidgets": [],
       "type": "ansi"
      }
     },
     "output_type": "display_data"
    }
   ],
   "source": [
    "# !pip install nltk\n",
    "\n",
    "import nltk\n",
    "nltk.__version__"
   ]
  },
  {
   "cell_type": "markdown",
   "metadata": {
    "application/vnd.databricks.v1+cell": {
     "cellMetadata": {},
     "inputWidgets": {},
     "nuid": "6db4f24d-8084-48bc-bba9-86fbba8275ed",
     "showTitle": false,
     "title": ""
    }
   },
   "source": [
    "#### 用标记解析法预处理数据 - tokenizer\n",
    "- 标记解析: 将文本分割成一组有意义片段的过程\n",
    "- 片段被成为标记, 将一段文字分割成单词或句子"
   ]
  },
  {
   "cell_type": "code",
   "execution_count": 0,
   "metadata": {
    "application/vnd.databricks.v1+cell": {
     "cellMetadata": {},
     "inputWidgets": {},
     "nuid": "9cb5d1c0-6880-4560-aa09-75dd9af15551",
     "showTitle": false,
     "title": ""
    }
   },
   "outputs": [
    {
     "data": {
      "text/plain": [
       "[nltk_data] Downloading package punkt to /root/nltk_data...\n",
       "[nltk_data]   Unzipping tokenizers/punkt.zip.\n",
       "\n",
       "Sentence tokenizer:\n",
       "['Are you curious about tokenization?', \"Let's see how it works!\", 'We need to analyze a couple of sentences with punctuations to see it in action.']\n",
       "\n",
       "Word tokenizer:\n",
       "['Are', 'you', 'curious', 'about', 'tokenization', '?', 'Let', \"'s\", 'see', 'how', 'it', 'works', '!', 'We', 'need', 'to', 'analyze', 'a', 'couple', 'of', 'sentences', 'with', 'punctuations', 'to', 'see', 'it', 'in', 'action', '.']\n",
       "\n",
       "Word punct tokenizer:\n",
       "['Are', 'you', 'curious', 'about', 'tokenization', '?', 'Let', \"'\", 's', 'see', 'how', 'it', 'works', '!', 'We', 'need', 'to', 'analyze', 'a', 'couple', 'of', 'sentences', 'with', 'punctuations', 'to', 'see', 'it', 'in', 'action', '.']\n"
      ]
     },
     "metadata": {
      "application/vnd.databricks.v1+output": {
       "addedWidgets": {},
       "arguments": {},
       "data": "[nltk_data] Downloading package punkt to /root/nltk_data...\n[nltk_data]   Unzipping tokenizers/punkt.zip.\n\nSentence tokenizer:\n['Are you curious about tokenization?', \"Let's see how it works!\", 'We need to analyze a couple of sentences with punctuations to see it in action.']\n\nWord tokenizer:\n['Are', 'you', 'curious', 'about', 'tokenization', '?', 'Let', \"'s\", 'see', 'how', 'it', 'works', '!', 'We', 'need', 'to', 'analyze', 'a', 'couple', 'of', 'sentences', 'with', 'punctuations', 'to', 'see', 'it', 'in', 'action', '.']\n\nWord punct tokenizer:\n['Are', 'you', 'curious', 'about', 'tokenization', '?', 'Let', \"'\", 's', 'see', 'how', 'it', 'works', '!', 'We', 'need', 'to', 'analyze', 'a', 'couple', 'of', 'sentences', 'with', 'punctuations', 'to', 'see', 'it', 'in', 'action', '.']\n",
       "datasetInfos": [],
       "metadata": {},
       "removedWidgets": [],
       "type": "ansi"
      }
     },
     "output_type": "display_data"
    }
   ],
   "source": [
    "import nltk\n",
    "nltk.download('punkt')\n",
    "\n",
    "# 定义文本分析示例\n",
    "text = \"Are you curious about tokenization? Let's see how it works! We need to analyze a couple of sentences with punctuations to see it in action.\"\n",
    "\n",
    "# Sentence tokenization - 句子解析器\n",
    "from nltk.tokenize import sent_tokenize\n",
    "\n",
    "# 对输入文本运行句子解析器,提取出标记\n",
    "sent_tokenize_list = sent_tokenize(text)\n",
    "print(\"\\nSentence tokenizer:\")\n",
    "print(sent_tokenize_list)\n",
    "\n",
    "# Create a new word tokenizer - 建立一个新的单词解析器,单词中的标点不做分割\n",
    "from nltk.tokenize import word_tokenize\n",
    "print(\"\\nWord tokenizer:\")\n",
    "print(word_tokenize(text))\n",
    "\n",
    "# Create a new punkt word tokenizer\n",
    "# from nltk.tokenize import WordPunctTokenizer\n",
    "# punkt_word_tokenizer = WordPunctTokenizer()\n",
    "# print(\"\\nPunkt word tokenizer:\")\n",
    "# print(punkt_word_tokenizer.tokenize(text))\n",
    "\n",
    "# Create a new WordPunct tokenizer - 将标点符号保留到不同句子中\n",
    "from nltk.tokenize import WordPunctTokenizer\n",
    "word_punct_tokenizer = WordPunctTokenizer()\n",
    "print(\"\\nWord punct tokenizer:\")\n",
    "print(word_punct_tokenizer.tokenize(text))"
   ]
  },
  {
   "cell_type": "markdown",
   "metadata": {
    "application/vnd.databricks.v1+cell": {
     "cellMetadata": {},
     "inputWidgets": {},
     "nuid": "ceea9a37-9259-4500-a729-f69921997fb4",
     "showTitle": false,
     "title": ""
    }
   },
   "source": [
    "#### 提取文本数据的词干 - stemmer\n",
    "- 词干提取的目标是将不同词性的单词都变成其原形\n",
    "- 词干提取使用启发式处理方法截取单词的尾部,以提取单词的原形"
   ]
  },
  {
   "cell_type": "code",
   "execution_count": 0,
   "metadata": {
    "application/vnd.databricks.v1+cell": {
     "cellMetadata": {},
     "inputWidgets": {},
     "nuid": "89f9bf01-1e5d-4640-9a68-4fa0879bf232",
     "showTitle": false,
     "title": ""
    }
   },
   "outputs": [],
   "source": [
    "from nltk.stem.porter import PorterStemmer\n",
    "from nltk.stem.lancaster import LancasterStemmer\n",
    "from nltk.stem.snowball import SnowballStemmer"
   ]
  },
  {
   "cell_type": "code",
   "execution_count": 0,
   "metadata": {
    "application/vnd.databricks.v1+cell": {
     "cellMetadata": {},
     "inputWidgets": {},
     "nuid": "4fd3f48c-e744-43de-b65f-0f661a67c869",
     "showTitle": false,
     "title": ""
    }
   },
   "outputs": [
    {
     "data": {
      "text/plain": [
       "\n",
       "             WORD          PORTER       LANCASTER        SNOWBALL \n",
       "\n",
       "           table            tabl            tabl            tabl\n",
       "        probably         probabl            prob         probabl\n",
       "          wolves            wolv            wolv            wolv\n",
       "         playing            play            play            play\n",
       "              is              is              is              is\n",
       "             dog             dog             dog             dog\n",
       "             the             the             the             the\n",
       "         beaches           beach           beach           beach\n",
       "        grounded          ground          ground          ground\n",
       "          dreamt          dreamt          dreamt          dreamt\n",
       "        envision           envis           envid           envis\n"
      ]
     },
     "metadata": {
      "application/vnd.databricks.v1+output": {
       "addedWidgets": {},
       "arguments": {},
       "data": "\n             WORD          PORTER       LANCASTER        SNOWBALL \n\n           table            tabl            tabl            tabl\n        probably         probabl            prob         probabl\n          wolves            wolv            wolv            wolv\n         playing            play            play            play\n              is              is              is              is\n             dog             dog             dog             dog\n             the             the             the             the\n         beaches           beach           beach           beach\n        grounded          ground          ground          ground\n          dreamt          dreamt          dreamt          dreamt\n        envision           envis           envid           envis\n",
       "datasetInfos": [],
       "metadata": {},
       "removedWidgets": [],
       "type": "ansi"
      }
     },
     "output_type": "display_data"
    }
   ],
   "source": [
    "# 定义一些单词来进行词干提取\n",
    "words = ['table', 'probably', 'wolves', 'playing', 'is', \n",
    "        'dog', 'the', 'beaches', 'grounded', 'dreamt', 'envision']\n",
    "\n",
    "# Compare different stemmers\n",
    "# 对比不同的词干提取算法. \n",
    "# 算法的本质目标都是提取词干，消除词形的影响，不同之处在于操作的严格程度不同。结果会显示，Lancaster比其他两个更严格，Porter是最宽松的。Lancaster提取的词干会减少单词的很大部分，往往比较模糊，难以立即额，但速度快。因此通常会选择Snowball词干提取器。\n",
    "stemmers = ['PORTER', 'LANCASTER', 'SNOWBALL']\n",
    "\n",
    "# 初始化三个词干提取器对象\n",
    "stemmer_porter = PorterStemmer()\n",
    "stemmer_lancaster = LancasterStemmer()\n",
    "stemmer_snowball = SnowballStemmer('english')\n",
    "\n",
    "# 设定正确的格式，将输出数据以表格形式展示\n",
    "formatted_row = '{:>16}' * (len(stemmers) + 1)\n",
    "print('\\n', formatted_row.format('WORD', *stemmers), '\\n')\n",
    "\n",
    "# 迭代列表，用三个词干提取器进行词干提取\n",
    "for word in words:\n",
    "    stemmed_words = [stemmer_porter.stem(word), \n",
    "            stemmer_lancaster.stem(word), stemmer_snowball.stem(word)]\n",
    "    print(formatted_row.format(word, *stemmed_words))"
   ]
  },
  {
   "cell_type": "markdown",
   "metadata": {
    "application/vnd.databricks.v1+cell": {
     "cellMetadata": {},
     "inputWidgets": {},
     "nuid": "d24e4fc8-2c56-49e2-b4c8-102d3641b97b",
     "showTitle": false,
     "title": ""
    }
   },
   "source": [
    "#### 用词性还原方法，还原文本的基本形式\n",
    "- 目标：将单词转化为原形，更结构化的一种方法\n",
    "- 通过对单词进行词汇和语法分析来实现。词形变换的结尾，如'ing'或'ed',可以返回单词的原形形式词根(lemma)。比提取词干的方式更精准"
   ]
  },
  {
   "cell_type": "code",
   "execution_count": 0,
   "metadata": {
    "application/vnd.databricks.v1+cell": {
     "cellMetadata": {},
     "inputWidgets": {},
     "nuid": "a4b22d24-5606-41c1-aaab-11097b97427b",
     "showTitle": false,
     "title": ""
    }
   },
   "outputs": [
    {
     "data": {
      "text/plain": [
       "[nltk_data] Downloading package wordnet to /root/nltk_data...\n",
       "[nltk_data] Downloading package omw-1.4 to /root/nltk_data...\n",
       "Out[7]: True"
      ]
     },
     "metadata": {
      "application/vnd.databricks.v1+output": {
       "addedWidgets": {},
       "arguments": {},
       "data": "[nltk_data] Downloading package wordnet to /root/nltk_data...\n[nltk_data] Downloading package omw-1.4 to /root/nltk_data...\nOut[7]: True",
       "datasetInfos": [],
       "metadata": {},
       "removedWidgets": [],
       "type": "ansi"
      }
     },
     "output_type": "display_data"
    }
   ],
   "source": [
    "nltk.download('wordnet')\n",
    "nltk.download('omw-1.4')"
   ]
  },
  {
   "cell_type": "code",
   "execution_count": 0,
   "metadata": {
    "application/vnd.databricks.v1+cell": {
     "cellMetadata": {},
     "inputWidgets": {},
     "nuid": "dab12124-d150-4cbf-acd7-673f95b402f2",
     "showTitle": false,
     "title": ""
    }
   },
   "outputs": [
    {
     "data": {
      "text/plain": [
       "\n",
       "                     WORD         NOUN LEMMATIZER         VERB LEMMATIZER \n",
       "\n",
       "                   table                   table                   table\n",
       "                probably                probably                probably\n",
       "                  wolves                    wolf                  wolves\n",
       "                 playing                 playing                    play\n",
       "                      is                      is                      be\n",
       "                     dog                     dog                     dog\n",
       "                     the                     the                     the\n",
       "                 beaches                   beach                   beach\n",
       "                grounded                grounded                  ground\n",
       "                  dreamt                  dreamt                   dream\n",
       "                envision                envision                envision\n"
      ]
     },
     "metadata": {
      "application/vnd.databricks.v1+output": {
       "addedWidgets": {},
       "arguments": {},
       "data": "\n                     WORD         NOUN LEMMATIZER         VERB LEMMATIZER \n\n                   table                   table                   table\n                probably                probably                probably\n                  wolves                    wolf                  wolves\n                 playing                 playing                    play\n                      is                      is                      be\n                     dog                     dog                     dog\n                     the                     the                     the\n                 beaches                   beach                   beach\n                grounded                grounded                  ground\n                  dreamt                  dreamt                   dream\n                envision                envision                envision\n",
       "datasetInfos": [],
       "metadata": {},
       "removedWidgets": [],
       "type": "ansi"
      }
     },
     "output_type": "display_data"
    }
   ],
   "source": [
    "from nltk.stem import WordNetLemmatizer\n",
    "\n",
    "# 定义词组来测试词性还原\n",
    "words = ['table', 'probably', 'wolves', 'playing', 'is', \n",
    "        'dog', 'the', 'beaches', 'grounded', 'dreamt', 'envision']\n",
    "\n",
    "# Compare different lemmatizers\n",
    "# 比较两个不同的词形还原器(名词和动词的词形还原器)\n",
    "lemmatizers = ['NOUN LEMMATIZER', 'VERB LEMMATIZER']\n",
    "\n",
    "# 基于WordNet词形还原器创建一个对象\n",
    "lemmatizer_wordnet = WordNetLemmatizer()\n",
    "\n",
    "# 规范化输出格式\n",
    "formatted_row = '{:>24}' * (len(lemmatizers) + 1)\n",
    "print('\\n', formatted_row.format('WORD', *lemmatizers), '\\n')\n",
    "\n",
    "# 迭代列表中的单词，并用词形还原器进行词形还原\n",
    "for word in words:\n",
    "    lemmatized_words = [lemmatizer_wordnet.lemmatize(word, pos='n'),lemmatizer_wordnet.lemmatize(word, pos='v')]\n",
    "    print(formatted_row.format(word, *lemmatized_words))"
   ]
  },
  {
   "cell_type": "markdown",
   "metadata": {
    "application/vnd.databricks.v1+cell": {
     "cellMetadata": {},
     "inputWidgets": {},
     "nuid": "24368d8a-6430-43f3-9d34-ddf45dbc4431",
     "showTitle": false,
     "title": ""
    }
   },
   "source": [
    "#### 用分块方法划分文本\n",
    "- 与标记解析不同，分块没有条件约束，结果不需要有实际意义\n",
    "- 处理非常大的文本时，通常需要先分块，再进行进一步分析\n",
    "- 将文本分成若干块，每块包含固定数目的单词"
   ]
  },
  {
   "cell_type": "code",
   "execution_count": 0,
   "metadata": {
    "application/vnd.databricks.v1+cell": {
     "cellMetadata": {},
     "inputWidgets": {},
     "nuid": "cf8adbec-bb6c-47f1-915f-bd9ae458ef26",
     "showTitle": false,
     "title": ""
    }
   },
   "outputs": [
    {
     "data": {
      "text/plain": [
       "[nltk_data] Downloading package brown to /root/nltk_data...\n",
       "[nltk_data]   Unzipping corpora/brown.zip.\n",
       "\n",
       "Number of text chunks = 6\n"
      ]
     },
     "metadata": {
      "application/vnd.databricks.v1+output": {
       "addedWidgets": {},
       "arguments": {},
       "data": "[nltk_data] Downloading package brown to /root/nltk_data...\n[nltk_data]   Unzipping corpora/brown.zip.\n\nNumber of text chunks = 6\n",
       "datasetInfos": [],
       "metadata": {},
       "removedWidgets": [],
       "type": "ansi"
      }
     },
     "output_type": "display_data"
    }
   ],
   "source": [
    "import numpy as np\n",
    "from nltk.corpus import brown\n",
    "nltk.download('brown')\n",
    "\n",
    "# 定义一个将文本分割成块的函数\n",
    "# Split a text into chunks \n",
    "def splitter(data, num_words):\n",
    "    words = data.split(' ')\n",
    "    output = []\n",
    "    \n",
    "    # 初始化变量\n",
    "    cur_count = 0\n",
    "    cur_words = []\n",
    "    \n",
    "    # 迭代单词\n",
    "    for word in words:\n",
    "        cur_words.append(word)\n",
    "        cur_count += 1\n",
    "        \n",
    "        # 当单词数量与所需数量相等时，重置变量\n",
    "        if cur_count == num_words:\n",
    "            output.append(' '.join(cur_words))\n",
    "            cur_words = []\n",
    "            cur_count = 0\n",
    "    \n",
    "    # 将快添加到输出变量列表\n",
    "    output.append(' '.join(cur_words) )\n",
    "\n",
    "    return output\n",
    "\n",
    "\n",
    "# Read the data from the Brown corpus - 从布朗语料库加载数据\n",
    "data = ' '.join(brown.words()[:10000])\n",
    "\n",
    "# Number of words in each chunk - 定义每个块包含的单词数目\n",
    "num_words = 1700\n",
    "\n",
    "# 定义两个相关变量\n",
    "chunks = []\n",
    "counter = 0\n",
    "\n",
    "text_chunks = splitter(data, num_words)\n",
    "\n",
    "print(\"\\nNumber of text chunks =\", len(text_chunks))\n",
    "# print(\"\\nText chunks =\", text_chunks)"
   ]
  },
  {
   "cell_type": "markdown",
   "metadata": {
    "application/vnd.databricks.v1+cell": {
     "cellMetadata": {},
     "inputWidgets": {},
     "nuid": "946eeb8b-7fda-42f2-a1cb-2fab060f99dc",
     "showTitle": false,
     "title": ""
    }
   },
   "source": [
    "#### 创建词袋模型 (bag-of-words)\n",
    "- 对于数百万单词量级的文本数据，需将其转化为某种数值表形式，让机器来学习算法\n",
    "- 词袋是从所有文档中的所有单词学习词汇的模型。学习之后，词袋通过构建文档中所有单词的直方图来对每篇文档进行建模"
   ]
  },
  {
   "cell_type": "code",
   "execution_count": 0,
   "metadata": {
    "application/vnd.databricks.v1+cell": {
     "cellMetadata": {},
     "inputWidgets": {},
     "nuid": "49c3d71c-cb2a-40ee-b338-1e456e3f750a",
     "showTitle": false,
     "title": ""
    }
   },
   "outputs": [
    {
     "data": {
      "text/plain": [
       "Collecting chunking\r\n",
       "  Downloading Chunking-0.0.2.tar.gz (1.7 kB)\r\n",
       "Building wheels for collected packages: chunking\r\n",
       "  Building wheel for chunking (setup.py) ... \u001b[?25l-\b \b\\\b \bdone\r\n",
       "\u001b[?25h  Created wheel for chunking: filename=Chunking-0.0.2-py3-none-any.whl size=2080 sha256=4a36f93ee17974445d7d83be6950f9349d1fcf6ea6e5db1a88ee97cca19b7969\r\n",
       "  Stored in directory: /root/.cache/pip/wheels/09/f3/a2/e8fc3b318aa3cfa63c6a4a7043091f62c18917f0a1e781f5f5\r\n",
       "Successfully built chunking\r\n",
       "Installing collected packages: chunking\r\n",
       "Successfully installed chunking-0.0.2\r\n",
       "\u001b[33mWARNING: You are using pip version 21.0.1; however, version 22.3.1 is available.\r\n",
       "You should consider upgrading via the '/databricks/python3/bin/python -m pip install --upgrade pip' command.\u001b[0m\r\n"
      ]
     },
     "metadata": {
      "application/vnd.databricks.v1+output": {
       "addedWidgets": {},
       "arguments": {},
       "data": "Collecting chunking\r\n  Downloading Chunking-0.0.2.tar.gz (1.7 kB)\r\nBuilding wheels for collected packages: chunking\r\n  Building wheel for chunking (setup.py) ... \u001b[?25l-\b \b\\\b \bdone\r\n\u001b[?25h  Created wheel for chunking: filename=Chunking-0.0.2-py3-none-any.whl size=2080 sha256=4a36f93ee17974445d7d83be6950f9349d1fcf6ea6e5db1a88ee97cca19b7969\r\n  Stored in directory: /root/.cache/pip/wheels/09/f3/a2/e8fc3b318aa3cfa63c6a4a7043091f62c18917f0a1e781f5f5\r\nSuccessfully built chunking\r\nInstalling collected packages: chunking\r\nSuccessfully installed chunking-0.0.2\r\n\u001b[33mWARNING: You are using pip version 21.0.1; however, version 22.3.1 is available.\r\nYou should consider upgrading via the '/databricks/python3/bin/python -m pip install --upgrade pip' command.\u001b[0m\r\n",
       "datasetInfos": [],
       "metadata": {},
       "removedWidgets": [],
       "type": "ansi"
      }
     },
     "output_type": "display_data"
    }
   ],
   "source": [
    "!pip install chunking"
   ]
  },
  {
   "cell_type": "code",
   "execution_count": 0,
   "metadata": {
    "application/vnd.databricks.v1+cell": {
     "cellMetadata": {},
     "inputWidgets": {},
     "nuid": "d848f14f-7f42-4134-851b-e365ab490734",
     "showTitle": false,
     "title": ""
    }
   },
   "outputs": [],
   "source": [
    "import numpy as np\n",
    "from nltk.corpus import brown\n",
    "# from chunking import split"
   ]
  },
  {
   "cell_type": "code",
   "execution_count": 0,
   "metadata": {
    "application/vnd.databricks.v1+cell": {
     "cellMetadata": {},
     "inputWidgets": {},
     "nuid": "93de7e70-25b4-4983-9d2e-e7d8a66aad9c",
     "showTitle": false,
     "title": ""
    }
   },
   "outputs": [],
   "source": [
    "# splitter('a b c d e f',2)"
   ]
  },
  {
   "cell_type": "code",
   "execution_count": 0,
   "metadata": {
    "application/vnd.databricks.v1+cell": {
     "cellMetadata": {},
     "inputWidgets": {},
     "nuid": "3fb92dca-4520-4e96-bfad-5a1bf62cd3fa",
     "showTitle": false,
     "title": ""
    }
   },
   "outputs": [
    {
     "data": {
      "text/plain": [
       "\n",
       "Vocabulary:\n",
       "['about' 'after' 'against' 'aid' 'all' 'also' 'an' 'and' 'are' 'as' 'at'\n",
       " 'be' 'been' 'before' 'but' 'by' 'committee' 'congress' 'did' 'each'\n",
       " 'education' 'first' 'for' 'from' 'general' 'had' 'has' 'have' 'he'\n",
       " 'health' 'his' 'house' 'in' 'increase' 'is' 'it' 'last' 'made' 'make'\n",
       " 'may' 'more' 'no' 'not' 'of' 'on' 'one' 'only' 'or' 'other' 'out' 'over'\n",
       " 'pay' 'program' 'proposed' 'said' 'similar' 'state' 'such' 'take' 'than'\n",
       " 'that' 'the' 'them' 'there' 'they' 'this' 'time' 'to' 'two' 'under' 'up'\n",
       " 'was' 'were' 'what' 'which' 'who' 'will' 'with' 'would' 'year' 'years']\n",
       "\n",
       "Document term matrix:\n",
       "\n",
       "         Word     Chunk-0     Chunk-1     Chunk-2     Chunk-3     Chunk-4 \n",
       "\n",
       "       about           1           1           1           1           3\n",
       "       after           2           3           2           1           3\n",
       "     against           1           2           2           1           1\n",
       "         aid           1           1           1           3           5\n",
       "         all           2           2           5           2           1\n",
       "        also           3           3           3           4           3\n",
       "          an           5           7           5           7          10\n",
       "         and          34          27          36          36          41\n",
       "         are           5           3           6           3           2\n",
       "          as          13           4          14          18           4\n",
       "          at           5           7           9           3           6\n",
       "          be          20          14           7          10          18\n",
       "        been           7           1           6          15           5\n",
       "      before           2           2           1           1           2\n",
       "         but           3           3           2           9           5\n",
       "          by           8          22          15          14          12\n",
       "   committee           2          10           3           1           7\n",
       "    congress           1           1           3           3           1\n",
       "         did           2           1           1           2           2\n",
       "        each           1           1           4           3           1\n",
       "   education           3           2           3           1           1\n",
       "       first           4           1           4           6           3\n",
       "         for          22          19          24          27          20\n",
       "        from           4           5           6           5           5\n",
       "     general           2           2           2           3           6\n",
       "         had           3           2           7           2           6\n",
       "         has          10           2           5          20          11\n",
       "        have           4           4           4           7           5\n",
       "          he           4          13          12          13          29\n",
       "      health           1           1           2           6           1\n",
       "         his          10           6           9           3           7\n",
       "       house           5           7           4           4           2\n",
       "          in          38          27          37          49          45\n",
       "    increase           3           1           1           4           1\n",
       "          is          12           9          12          14           8\n",
       "          it          18          16           5           6           9\n",
       "        last           1           1           5           4           2\n",
       "        made           1           1           7           4           3\n",
       "        make           3           2           1           1           1\n",
       "         may           1           1           2           2           1\n",
       "        more           3           5           4           6           7\n",
       "          no           4           1           1           7           3\n",
       "         not           5           6           3          14           7\n",
       "          of          61          69          76          56          53\n",
       "          on          10          18          14          13          13\n",
       "         one           4           5           3           4           9\n",
       "        only           1           1           1           3           2\n",
       "          or           4           4           5           5           4\n",
       "       other           2           6           7           1           3\n",
       "         out           3           3           3           4           1\n",
       "        over           1           1           5           1           2\n",
       "         pay           2           3           5           4           1\n",
       "     program           2           1           4           4           5\n",
       "    proposed           2           2           1           1           1\n",
       "        said          20          15          11           9          21\n",
       "     similar           1           1           2           1           2\n",
       "       state          12           9           5           5           7\n",
       "        such           2           3           2           4           2\n",
       "        take           2           2           2           2           2\n",
       "        than           2           2           3           5           4\n",
       "        that          27          12          12          17          31\n",
       "         the         143         116         132         136         148\n",
       "        them           2           2           2           3           2\n",
       "       there           9           4           2           6           6\n",
       "        they           3           2           2           7           2\n",
       "        this           8           5           8           9           7\n",
       "        time           2           1           2           3          11\n",
       "          to          50          54          46          49          66\n",
       "         two           3           3           4           1           1\n",
       "       under           3           3           5           3           1\n",
       "          up           2           1           6           5           5\n",
       "         was          13          16          11           6          14\n",
       "        were           2           3           4           5           3\n",
       "        what           1           1           1           1           2\n",
       "       which          13          10           2           2           3\n",
       "         who           6           5           9           4           1\n",
       "        will          14           2           5          11           4\n",
       "        with           4           6           6           9          10\n",
       "       would           8          27          15           7          23\n",
       "        year           2           4           9          10           3\n",
       "       years           1           3           2           2           3\n"
      ]
     },
     "metadata": {
      "application/vnd.databricks.v1+output": {
       "addedWidgets": {},
       "arguments": {},
       "data": "\nVocabulary:\n['about' 'after' 'against' 'aid' 'all' 'also' 'an' 'and' 'are' 'as' 'at'\n 'be' 'been' 'before' 'but' 'by' 'committee' 'congress' 'did' 'each'\n 'education' 'first' 'for' 'from' 'general' 'had' 'has' 'have' 'he'\n 'health' 'his' 'house' 'in' 'increase' 'is' 'it' 'last' 'made' 'make'\n 'may' 'more' 'no' 'not' 'of' 'on' 'one' 'only' 'or' 'other' 'out' 'over'\n 'pay' 'program' 'proposed' 'said' 'similar' 'state' 'such' 'take' 'than'\n 'that' 'the' 'them' 'there' 'they' 'this' 'time' 'to' 'two' 'under' 'up'\n 'was' 'were' 'what' 'which' 'who' 'will' 'with' 'would' 'year' 'years']\n\nDocument term matrix:\n\n         Word     Chunk-0     Chunk-1     Chunk-2     Chunk-3     Chunk-4 \n\n       about           1           1           1           1           3\n       after           2           3           2           1           3\n     against           1           2           2           1           1\n         aid           1           1           1           3           5\n         all           2           2           5           2           1\n        also           3           3           3           4           3\n          an           5           7           5           7          10\n         and          34          27          36          36          41\n         are           5           3           6           3           2\n          as          13           4          14          18           4\n          at           5           7           9           3           6\n          be          20          14           7          10          18\n        been           7           1           6          15           5\n      before           2           2           1           1           2\n         but           3           3           2           9           5\n          by           8          22          15          14          12\n   committee           2          10           3           1           7\n    congress           1           1           3           3           1\n         did           2           1           1           2           2\n        each           1           1           4           3           1\n   education           3           2           3           1           1\n       first           4           1           4           6           3\n         for          22          19          24          27          20\n        from           4           5           6           5           5\n     general           2           2           2           3           6\n         had           3           2           7           2           6\n         has          10           2           5          20          11\n        have           4           4           4           7           5\n          he           4          13          12          13          29\n      health           1           1           2           6           1\n         his          10           6           9           3           7\n       house           5           7           4           4           2\n          in          38          27          37          49          45\n    increase           3           1           1           4           1\n          is          12           9          12          14           8\n          it          18          16           5           6           9\n        last           1           1           5           4           2\n        made           1           1           7           4           3\n        make           3           2           1           1           1\n         may           1           1           2           2           1\n        more           3           5           4           6           7\n          no           4           1           1           7           3\n         not           5           6           3          14           7\n          of          61          69          76          56          53\n          on          10          18          14          13          13\n         one           4           5           3           4           9\n        only           1           1           1           3           2\n          or           4           4           5           5           4\n       other           2           6           7           1           3\n         out           3           3           3           4           1\n        over           1           1           5           1           2\n         pay           2           3           5           4           1\n     program           2           1           4           4           5\n    proposed           2           2           1           1           1\n        said          20          15          11           9          21\n     similar           1           1           2           1           2\n       state          12           9           5           5           7\n        such           2           3           2           4           2\n        take           2           2           2           2           2\n        than           2           2           3           5           4\n        that          27          12          12          17          31\n         the         143         116         132         136         148\n        them           2           2           2           3           2\n       there           9           4           2           6           6\n        they           3           2           2           7           2\n        this           8           5           8           9           7\n        time           2           1           2           3          11\n          to          50          54          46          49          66\n         two           3           3           4           1           1\n       under           3           3           5           3           1\n          up           2           1           6           5           5\n         was          13          16          11           6          14\n        were           2           3           4           5           3\n        what           1           1           1           1           2\n       which          13          10           2           2           3\n         who           6           5           9           4           1\n        will          14           2           5          11           4\n        with           4           6           6           9          10\n       would           8          27          15           7          23\n        year           2           4           9          10           3\n       years           1           3           2           2           3\n",
       "datasetInfos": [],
       "metadata": {},
       "removedWidgets": [],
       "type": "ansi"
      }
     },
     "output_type": "display_data"
    }
   ],
   "source": [
    "# Read the data from the Brown corpus - 布朗语料库加载数据\n",
    "data = ' '.join(brown.words()[:10000])\n",
    "\n",
    "# Number of words in each chunk - 分成5块，每块2000个单词\n",
    "num_words = 2000\n",
    "\n",
    "chunks = []\n",
    "counter = 0\n",
    "\n",
    "text_chunks = splitter(data, num_words)\n",
    "\n",
    "# 创建一个基于这些文本块的词典\n",
    "for text in text_chunks:\n",
    "    chunk = {'index': counter, 'text': text}\n",
    "    chunks.append(chunk)\n",
    "    counter += 1\n",
    "\n",
    "# Extract document term matrix\n",
    "# 提取'文档-词'矩阵。文档-词矩阵记录了文档中每个单词出现的频次。通过sklearn来构建这样的矩阵\n",
    "from sklearn.feature_extraction.text import CountVectorizer\n",
    "\n",
    "# 对象实例化，定义对象，并提取文档-词矩阵\n",
    "vectorizer = CountVectorizer(min_df=5, max_df=.95)\n",
    "doc_term_matrix = vectorizer.fit_transform([chunk['text'] for chunk in chunks])\n",
    "\n",
    "# 从vectorizer对象中提取词汇，并打印\n",
    "vocab = np.array(vectorizer.get_feature_names())\n",
    "print(\"\\nVocabulary:\")\n",
    "print(vocab)\n",
    "\n",
    "# 打印文档-词矩阵\n",
    "print(\"\\nDocument term matrix:\")\n",
    "chunk_names = ['Chunk-0', 'Chunk-1', 'Chunk-2', 'Chunk-3', 'Chunk-4']\n",
    "\n",
    "# 格式化输出内容\n",
    "formatted_row = '{:>12}' * (len(chunk_names) + 1)\n",
    "print('\\n', formatted_row.format('Word', *chunk_names), '\\n')\n",
    "\n",
    "# 迭代所有单词，输出每个单词出现在不同块中的次数\n",
    "for word, item in zip(vocab, doc_term_matrix.T):\n",
    "    # 'item' is a 'csr_matrix' data structure\n",
    "    output = [str(x) for x in item.data]\n",
    "    print(formatted_row.format(word, *output))"
   ]
  },
  {
   "cell_type": "code",
   "execution_count": 0,
   "metadata": {
    "application/vnd.databricks.v1+cell": {
     "cellMetadata": {},
     "inputWidgets": {},
     "nuid": "1d49f2d1-ff18-442a-af0a-34c28559aa03",
     "showTitle": false,
     "title": ""
    }
   },
   "outputs": [],
   "source": [
    "# 工作原理解释,如何生成词频特征向量?\n",
    "\n",
    "# >>考虑以下句子:\n",
    "\n",
    "# Sentence 1: The brown dog is running.\n",
    "# Sentence 2: The black dog is in the black room.\n",
    "# Sentence 3: Running in the room is forbidden.\n",
    "# 如果你考虑所有这三个句子, 我们有以下九个独特的词语:\n",
    "\n",
    "# the\n",
    "# brown\n",
    "# dog\n",
    "# is\n",
    "# running\n",
    "# black\n",
    "# in\n",
    "# room\n",
    "# forbidden\n",
    "# 现在, 我们用每个句子中的单词数将每个句子转换为直方图. 每个特征向量将是9维, 因为我们有九个独特的单词:\n",
    "\n",
    "# Sentence 1: [1, 1, 1, 1, 1, 0, 0, 0, 0]\n",
    "# Sentence 2: [2, 0, 1, 1, 0, 2, 1, 1, 0]\n",
    "# Sentence 3: [0, 0, 0, 1, 1, 0, 1, 1, 1]\n",
    "# 一旦我们提取这些特征向量, 我们可以使用机器学习算法来分析它们."
   ]
  },
  {
   "cell_type": "markdown",
   "metadata": {
    "application/vnd.databricks.v1+cell": {
     "cellMetadata": {},
     "inputWidgets": {},
     "nuid": "3ef3f90c-2776-4e0d-a7b4-82ec6126283b",
     "showTitle": false,
     "title": ""
    }
   },
   "source": [
    "#### 创建文本分类器\n",
    "- 目的是为了将文本文档分为不同的类\n",
    "- 技术:TF-IDF. 词频-逆文档频率 (Term Frequency - Inverse Document Frequency)\n",
    "- TF-IDF帮助理解一个单词在一组文档中对某一个文档的重要性，它可以作为特征向量来进行文档分类\n",
    "- http://www.tfidf.com/"
   ]
  },
  {
   "cell_type": "code",
   "execution_count": 0,
   "metadata": {
    "application/vnd.databricks.v1+cell": {
     "cellMetadata": {},
     "inputWidgets": {},
     "nuid": "ec5f344e-11e9-42a1-b606-f488491df09a",
     "showTitle": false,
     "title": ""
    }
   },
   "outputs": [
    {
     "data": {
      "text/plain": [
       "\n",
       "Dimensions of training data: (2968, 40605)\n",
       "\n",
       "Input: The curveballs of right handed pitchers tend to curve to the left \n",
       "Predicted category: Baseball\n",
       "\n",
       "Input: Caesar cipher is an ancient form of encryption \n",
       "Predicted category: Cryptography\n",
       "\n",
       "Input: This two-wheeler is really good on slippery roads \n",
       "Predicted category: Motorcycles\n"
      ]
     },
     "metadata": {
      "application/vnd.databricks.v1+output": {
       "addedWidgets": {},
       "arguments": {},
       "data": "\nDimensions of training data: (2968, 40605)\n\nInput: The curveballs of right handed pitchers tend to curve to the left \nPredicted category: Baseball\n\nInput: Caesar cipher is an ancient form of encryption \nPredicted category: Cryptography\n\nInput: This two-wheeler is really good on slippery roads \nPredicted category: Motorcycles\n",
       "datasetInfos": [],
       "metadata": {},
       "removedWidgets": [],
       "type": "ansi"
      }
     },
     "output_type": "display_data"
    }
   ],
   "source": [
    "from sklearn.datasets import fetch_20newsgroups\n",
    "\n",
    "# 选择类型列表，用词典映射方式定义。这些类型是加载的新闻组数据集的一部分\n",
    "category_map = {'misc.forsale': 'Sales', 'rec.motorcycles': 'Motorcycles', 'rec.sport.baseball': 'Baseball', 'sci.crypt': 'Cryptography', 'sci.space': 'Space'}\n",
    "\n",
    "# 基于定义的类型加载训练数据\n",
    "training_data = fetch_20newsgroups(subset='train', categories=category_map.keys(), shuffle=True, random_state=7)\n",
    "\n",
    "# 到入特征提取器 - Feature extraction\n",
    "from sklearn.feature_extraction.text import CountVectorizer\n",
    "\n",
    "# 用训练数据提取特征：\n",
    "vectorizer = CountVectorizer()\n",
    "X_train_termcounts = vectorizer.fit_transform(training_data.data)\n",
    "print(\"\\nDimensions of training data:\", X_train_termcounts.shape)\n",
    "\n",
    "# Training a classifier - 训练分类器。用朴素贝叶斯分类器\n",
    "from sklearn.naive_bayes import MultinomialNB\n",
    "from sklearn.feature_extraction.text import TfidfTransformer\n",
    "\n",
    "# tf-idf transformer - 定义并训练TF-IDF变换器对象\n",
    "tfidf_transformer = TfidfTransformer()\n",
    "X_train_tfidf = tfidf_transformer.fit_transform(X_train_termcounts)\n",
    "\n",
    "# Multinomial Naive Bayes classifier - 得到特征向量后，用该数据训练多项式朴素贝叶斯分类器\n",
    "classifier = MultinomialNB().fit(X_train_tfidf, training_data.target)\n",
    "\n",
    "# 定义随机输入的句子\n",
    "input_data = [\n",
    "    \"The curveballs of right handed pitchers tend to curve to the left\", \n",
    "    \"Caesar cipher is an ancient form of encryption\",\n",
    "    \"This two-wheeler is really good on slippery roads\"\n",
    "]\n",
    "\n",
    "# 用词频统计转换输入数据\n",
    "X_input_termcounts = vectorizer.transform(input_data)\n",
    "\n",
    "# 用TF-IDF变换器变换输入数据\n",
    "X_input_tfidf = tfidf_transformer.transform(X_input_termcounts)\n",
    "\n",
    "# Predict the output categories - 用训练的分类器预测输入句子的输出类型\n",
    "predicted_categories = classifier.predict(X_input_tfidf)\n",
    "\n",
    "# Print the outputs - 打印输出\n",
    "for sentence, category in zip(input_data, predicted_categories):\n",
    "    print('\\nInput:', sentence, '\\nPredicted category:', category_map[training_data.target_names[category]])"
   ]
  },
  {
   "cell_type": "code",
   "execution_count": 0,
   "metadata": {
    "application/vnd.databricks.v1+cell": {
     "cellMetadata": {},
     "inputWidgets": {},
     "nuid": "a649d381-8380-481b-9ce1-9f0149fe2513",
     "showTitle": false,
     "title": ""
    }
   },
   "outputs": [
    {
     "data": {
      "text/plain": [
       "Out[24]: <3x40605 sparse matrix of type '<class 'numpy.float64'>'\n",
       "\twith 27 stored elements in Compressed Sparse Row format>"
      ]
     },
     "metadata": {
      "application/vnd.databricks.v1+output": {
       "addedWidgets": {},
       "arguments": {},
       "data": "Out[24]: <3x40605 sparse matrix of type '<class 'numpy.float64'>'\n\twith 27 stored elements in Compressed Sparse Row format>",
       "datasetInfos": [],
       "metadata": {},
       "removedWidgets": [],
       "type": "ansi"
      }
     },
     "output_type": "display_data"
    }
   ],
   "source": [
    "# TF-IDF工作原理\n",
    "# 常用于信息检索领域，目的是为了了解文档中每个单词的重要性。且要排除普通词汇，要提取具有实际意义的单词。\n",
    "# 通常流程：提取每个句子的词频，将其转换为特征向量，然后用分类器来对这些句子进行分类\n",
    "\n",
    "# 词频 - TF,Term Frequency表示一个单词在给定文档中出现的频次\n",
    "# 逆文档频率 - IDF,Inverse Document Frequency表示给定单词的重要性\n",
    "\n",
    "# 如果一个单词在每个文档都出现，或只出现一次，都不是十分有意义。我们寻找的是那些出现了一定次数，但不太频繁以至于变成噪声的单词\n",
    "# TF-IDF可以挑选符合要求的单词，并可用于文档分类。搜索引擎常使用TF-IDF对搜索结果进行相关度排序"
   ]
  },
  {
   "cell_type": "code",
   "execution_count": 0,
   "metadata": {
    "application/vnd.databricks.v1+cell": {
     "cellMetadata": {},
     "inputWidgets": {},
     "nuid": "7cb64f18-bcf7-4ee3-83c8-d0b257555fe8",
     "showTitle": false,
     "title": ""
    }
   },
   "outputs": [],
   "source": []
  },
  {
   "cell_type": "markdown",
   "metadata": {
    "application/vnd.databricks.v1+cell": {
     "cellMetadata": {},
     "inputWidgets": {},
     "nuid": "4405305d-30cd-4c88-9352-4766f036624a",
     "showTitle": false,
     "title": ""
    }
   },
   "source": [
    "#### 实例：识别性别\n",
    "- 通过姓名中的字母特征来识别性别"
   ]
  },
  {
   "cell_type": "code",
   "execution_count": 0,
   "metadata": {
    "application/vnd.databricks.v1+cell": {
     "cellMetadata": {},
     "inputWidgets": {},
     "nuid": "d700b813-0837-4e77-b8de-72fa93b9ef2c",
     "showTitle": false,
     "title": ""
    }
   },
   "outputs": [
    {
     "data": {
      "text/plain": [
       "[nltk_data] Downloading package names to /root/nltk_data...\n",
       "[nltk_data]   Unzipping corpora/names.zip.\n"
      ]
     },
     "metadata": {
      "application/vnd.databricks.v1+output": {
       "addedWidgets": {},
       "arguments": {},
       "data": "[nltk_data] Downloading package names to /root/nltk_data...\n[nltk_data]   Unzipping corpora/names.zip.\n",
       "datasetInfos": [],
       "metadata": {},
       "removedWidgets": [],
       "type": "ansi"
      }
     },
     "output_type": "display_data"
    }
   ],
   "source": [
    "import nltk\n",
    "nltk.download('names')\n",
    "\n",
    "import random\n",
    "from nltk.corpus import names\n",
    "from nltk import NaiveBayesClassifier\n",
    "from nltk.classify import accuracy as nltk_accuracy"
   ]
  },
  {
   "cell_type": "code",
   "execution_count": 0,
   "metadata": {
    "application/vnd.databricks.v1+cell": {
     "cellMetadata": {},
     "inputWidgets": {},
     "nuid": "254552bf-3d0c-41f6-b99f-1923e8b71d68",
     "showTitle": false,
     "title": ""
    }
   },
   "outputs": [],
   "source": [
    "# Extract features from the input word\n",
    "# 提取输入单词的特征\n",
    "def gender_features(word, num_letters=2):\n",
    "    return {'feature': word[-num_letters:].lower()}"
   ]
  },
  {
   "cell_type": "code",
   "execution_count": 0,
   "metadata": {
    "application/vnd.databricks.v1+cell": {
     "cellMetadata": {},
     "inputWidgets": {},
     "nuid": "a41a676f-de1d-4827-a66a-b395840cb78b",
     "showTitle": false,
     "title": ""
    }
   },
   "outputs": [
    {
     "data": {
      "text/plain": [
       "\n",
       "Number of letters: 1\n",
       "Accuracy ==> 76.2%\n",
       "Leonardo ==> male\n",
       "Amy ==> female\n",
       "Sam ==> male\n",
       "\n",
       "Number of letters: 2\n",
       "Accuracy ==> 78.60000000000001%\n",
       "Leonardo ==> male\n",
       "Amy ==> female\n",
       "Sam ==> male\n",
       "\n",
       "Number of letters: 3\n",
       "Accuracy ==> 76.6%\n",
       "Leonardo ==> male\n",
       "Amy ==> female\n",
       "Sam ==> female\n",
       "\n",
       "Number of letters: 4\n",
       "Accuracy ==> 70.8%\n",
       "Leonardo ==> male\n",
       "Amy ==> female\n",
       "Sam ==> female\n"
      ]
     },
     "metadata": {
      "application/vnd.databricks.v1+output": {
       "addedWidgets": {},
       "arguments": {},
       "data": "\nNumber of letters: 1\nAccuracy ==> 76.2%\nLeonardo ==> male\nAmy ==> female\nSam ==> male\n\nNumber of letters: 2\nAccuracy ==> 78.60000000000001%\nLeonardo ==> male\nAmy ==> female\nSam ==> male\n\nNumber of letters: 3\nAccuracy ==> 76.6%\nLeonardo ==> male\nAmy ==> female\nSam ==> female\n\nNumber of letters: 4\nAccuracy ==> 70.8%\nLeonardo ==> male\nAmy ==> female\nSam ==> female\n",
       "datasetInfos": [],
       "metadata": {},
       "removedWidgets": [],
       "type": "ansi"
      }
     },
     "output_type": "display_data"
    }
   ],
   "source": [
    "# Extract labeled names\n",
    "# 提取标记名称\n",
    "labeled_names = ([(name, 'male') for name in names.words('male.txt')] + [(name, 'female') for name in names.words('female.txt')])\n",
    "\n",
    "# 设置随机生成数的种子值，并混合搅乱训练数据\n",
    "random.seed(7)\n",
    "random.shuffle(labeled_names)\n",
    "\n",
    "# 定义一些输入的姓名\n",
    "input_names = ['Leonardo', 'Amy', 'Sam']\n",
    "\n",
    "# Sweeping the parameter space\n",
    "# 不确定需要多少个末尾字符，这里将参数设置为1-5.每次循环执行，都会截取相应大小的末尾字符个数。 - 搜索参数空间\n",
    "for i in range(1, 5):\n",
    "    print('\\nNumber of letters:', i)\n",
    "    featuresets = [(gender_features(n, i), gender) for (n, gender) in labeled_names]\n",
    "    \n",
    "    # 训练集测试集划分\n",
    "    train_set, test_set = featuresets[500:], featuresets[:500]\n",
    "    \n",
    "    # 朴素贝叶斯分类\n",
    "    classifier = NaiveBayesClassifier.train(train_set)\n",
    "\n",
    "    # Print classifier accuracy\n",
    "    # 用参数空间的每一个值评价分类器的效果\n",
    "    print('Accuracy ==>', str(100 * nltk_accuracy(classifier, test_set)) + str('%'))\n",
    "\n",
    "    # Predict outputs for new inputs\n",
    "    for name in input_names:\n",
    "        print(name, '==>', classifier.classify(gender_features(name, i)))"
   ]
  },
  {
   "cell_type": "markdown",
   "metadata": {
    "application/vnd.databricks.v1+cell": {
     "cellMetadata": {},
     "inputWidgets": {},
     "nuid": "d893a9de-e9ea-4aac-964d-21e236e95d08",
     "showTitle": false,
     "title": ""
    }
   },
   "source": [
    "#### 分析句子的情感 - Sentiment Analysis\n",
    "- 情感分析是NLP最受欢迎的应用之一\n",
    "- 输出结果：给定文本是'积极'，或'消极'。有时还会加入'中性'\n",
    "- 情感分析常用于发现人们对于一个特定主题的看法\n",
    "- 分析场景：营销活动、社交媒体、电子商务客户场景中的用户情绪"
   ]
  },
  {
   "cell_type": "code",
   "execution_count": 0,
   "metadata": {
    "application/vnd.databricks.v1+cell": {
     "cellMetadata": {},
     "inputWidgets": {},
     "nuid": "dc544e25-780b-4d5d-92c9-2c7253a4d483",
     "showTitle": false,
     "title": ""
    }
   },
   "outputs": [
    {
     "data": {
      "text/plain": [
       "[nltk_data] Downloading package movie_reviews to /root/nltk_data...\n",
       "[nltk_data]   Unzipping corpora/movie_reviews.zip.\n",
       "Out[27]: True"
      ]
     },
     "metadata": {
      "application/vnd.databricks.v1+output": {
       "addedWidgets": {},
       "arguments": {},
       "data": "[nltk_data] Downloading package movie_reviews to /root/nltk_data...\n[nltk_data]   Unzipping corpora/movie_reviews.zip.\nOut[27]: True",
       "datasetInfos": [],
       "metadata": {},
       "removedWidgets": [],
       "type": "ansi"
      }
     },
     "output_type": "display_data"
    }
   ],
   "source": [
    "import nltk.classify.util\n",
    "from nltk.classify import NaiveBayesClassifier\n",
    "from nltk.corpus import movie_reviews\n",
    "nltk.download('movie_reviews')"
   ]
  },
  {
   "cell_type": "code",
   "execution_count": 0,
   "metadata": {
    "application/vnd.databricks.v1+cell": {
     "cellMetadata": {},
     "inputWidgets": {},
     "nuid": "f1e27f38-17ac-467c-bd8b-3d7b28f7ffb9",
     "showTitle": false,
     "title": ""
    }
   },
   "outputs": [
    {
     "data": {
      "text/plain": [
       "\n",
       "Number of training datapoints: 1600\n",
       "Number of test datapoints: 400\n",
       "\n",
       "Accuracy of the classifier: 73.5 %\n"
      ]
     },
     "metadata": {
      "application/vnd.databricks.v1+output": {
       "addedWidgets": {},
       "arguments": {},
       "data": "\nNumber of training datapoints: 1600\nNumber of test datapoints: 400\n\nAccuracy of the classifier: 73.5 %\n",
       "datasetInfos": [],
       "metadata": {},
       "removedWidgets": [],
       "type": "ansi"
      }
     },
     "output_type": "display_data"
    }
   ],
   "source": [
    "# 定义一个用于提取特征的函数\n",
    "def extract_features(word_list):\n",
    "    return dict([(word, True) for word in word_list])\n",
    " \n",
    "\n",
    "    \n",
    "# Load positive and negative reviews  \n",
    "# 使用NLTK提供的电影评论数据\n",
    "positive_fileids = movie_reviews.fileids('pos')\n",
    "negative_fileids = movie_reviews.fileids('neg')\n",
    "\n",
    "# 将评论数据分成积极评论和消极评论\n",
    "features_positive = [(extract_features(movie_reviews.words(fileids=[f])), \n",
    "        'Positive') for f in positive_fileids]\n",
    "features_negative = [(extract_features(movie_reviews.words(fileids=[f])), \n",
    "        'Negative') for f in negative_fileids]\n",
    "\n",
    "# Split the data into train and test (80/20)\n",
    "# 训练和测试数据集划分\n",
    "threshold_factor = 0.8\n",
    "threshold_positive = int(threshold_factor * len(features_positive))\n",
    "threshold_negative = int(threshold_factor * len(features_negative))\n",
    "\n",
    "# 提取特征\n",
    "features_train = features_positive[:threshold_positive] + features_negative[:threshold_negative]\n",
    "features_test = features_positive[threshold_positive:] + features_negative[threshold_negative:]  \n",
    "print(\"\\nNumber of training datapoints:\", len(features_train))\n",
    "print(\"Number of test datapoints:\", len(features_test))\n",
    "\n",
    "# Train a Naive Bayes classifier\n",
    "# 训练朴素贝叶斯分类器\n",
    "classifier = NaiveBayesClassifier.train(features_train)\n",
    "print(\"\\nAccuracy of the classifier:\", 100*nltk.classify.util.accuracy(classifier, features_test), '%')"
   ]
  },
  {
   "cell_type": "code",
   "execution_count": 0,
   "metadata": {
    "application/vnd.databricks.v1+cell": {
     "cellMetadata": {},
     "inputWidgets": {},
     "nuid": "a2a3d79b-892e-416d-8d1b-c2df9febb2d0",
     "showTitle": false,
     "title": ""
    }
   },
   "outputs": [
    {
     "data": {
      "text/plain": [
       "\n",
       "Top 10 most informative words:\n",
       "outstanding\n",
       "insulting\n",
       "vulnerable\n",
       "ludicrous\n",
       "uninvolving\n",
       "astounding\n",
       "avoids\n",
       "fascination\n",
       "affecting\n",
       "animators\n"
      ]
     },
     "metadata": {
      "application/vnd.databricks.v1+output": {
       "addedWidgets": {},
       "arguments": {},
       "data": "\nTop 10 most informative words:\noutstanding\ninsulting\nvulnerable\nludicrous\nuninvolving\nastounding\navoids\nfascination\naffecting\nanimators\n",
       "datasetInfos": [],
       "metadata": {},
       "removedWidgets": [],
       "type": "ansi"
      }
     },
     "output_type": "display_data"
    }
   ],
   "source": [
    "# 分类器对象包含分析过程中获得的最有信息量的单词\n",
    "# 据此来判定哪些归类为积极评论，哪些为消极评论\n",
    "print(\"\\nTop 10 most informative words:\")\n",
    "for item in classifier.most_informative_features()[:10]:\n",
    "    print(item[0])\n"
   ]
  },
  {
   "cell_type": "code",
   "execution_count": 0,
   "metadata": {
    "application/vnd.databricks.v1+cell": {
     "cellMetadata": {},
     "inputWidgets": {},
     "nuid": "02199806-0401-465f-932a-ad9eb53fbc3e",
     "showTitle": false,
     "title": ""
    }
   },
   "outputs": [
    {
     "data": {
      "text/plain": [
       "\n",
       "Predictions:\n",
       "\n",
       "Review: It is an amazing movie\n",
       "Predicted sentiment: Positive\n",
       "Probability: 0.61\n",
       "\n",
       "Review: This is a dull movie. I would never recommend it to anyone.\n",
       "Predicted sentiment: Negative\n",
       "Probability: 0.77\n",
       "\n",
       "Review: The cinematography is pretty great in this movie\n",
       "Predicted sentiment: Positive\n",
       "Probability: 0.67\n",
       "\n",
       "Review: The direction was terrible and the story was all over the place\n",
       "Predicted sentiment: Negative\n",
       "Probability: 0.63\n"
      ]
     },
     "metadata": {
      "application/vnd.databricks.v1+output": {
       "addedWidgets": {},
       "arguments": {},
       "data": "\nPredictions:\n\nReview: It is an amazing movie\nPredicted sentiment: Positive\nProbability: 0.61\n\nReview: This is a dull movie. I would never recommend it to anyone.\nPredicted sentiment: Negative\nProbability: 0.77\n\nReview: The cinematography is pretty great in this movie\nPredicted sentiment: Positive\nProbability: 0.67\n\nReview: The direction was terrible and the story was all over the place\nPredicted sentiment: Negative\nProbability: 0.63\n",
       "datasetInfos": [],
       "metadata": {},
       "removedWidgets": [],
       "type": "ansi"
      }
     },
     "output_type": "display_data"
    }
   ],
   "source": [
    "# Sample input reviews\n",
    "# 生成一些随机输入的句子\n",
    "input_reviews = [\n",
    "    \"It is an amazing movie\", \n",
    "    \"This is a dull movie. I would never recommend it to anyone.\",\n",
    "    \"The cinematography is pretty great in this movie\", \n",
    "    \"The direction was terrible and the story was all over the place\" \n",
    "]\n",
    "\n",
    "# 在输入句子上运行分类器，获得预测结果\n",
    "print(\"\\nPredictions:\")\n",
    "for review in input_reviews:\n",
    "    print(\"\\nReview:\", review)\n",
    "    probdist = classifier.prob_classify(extract_features(review.split()))\n",
    "    pred_sentiment = probdist.max()\n",
    "    \n",
    "    # 打印输出\n",
    "    print(\"Predicted sentiment:\", pred_sentiment )\n",
    "    print(\"Probability:\", round(probdist.prob(pred_sentiment), 2))"
   ]
  },
  {
   "cell_type": "code",
   "execution_count": 0,
   "metadata": {
    "application/vnd.databricks.v1+cell": {
     "cellMetadata": {},
     "inputWidgets": {},
     "nuid": "1d960a21-634e-4c1d-9092-ff5441df8b74",
     "showTitle": false,
     "title": ""
    }
   },
   "outputs": [],
   "source": [
    "# 实例工作原理\n",
    "# 用NLTK的朴素贝叶斯分类器进行分类\n",
    "# 特征提取中，基本上提取了所有的唯一单词。NLTK分类器需要字典格式存放输入数据\n",
    "# 训练分类器，以便将句子分为积极和消极\n",
    "# 查看最有信息量的单词。如'outstanding'表示积极评论，'insulting'表示消极评论。因此通过某些单词来表示情绪"
   ]
  },
  {
   "cell_type": "markdown",
   "metadata": {
    "application/vnd.databricks.v1+cell": {
     "cellMetadata": {},
     "inputWidgets": {},
     "nuid": "7bde581b-e33e-41cc-82f2-7985e9ec60ef",
     "showTitle": false,
     "title": ""
    }
   },
   "source": [
    "#### 用主题建模识别文本的模式\n",
    "- 主题建模，识别文本数据隐藏模式的过程，目的是发现一组文档的隐藏主题结构。主题建模可以更好地组织文档，以便对文档进行分类\n",
    "- LDA介绍\n",
    "  - http://www.cs.columbia.edu/~blei/topicmodeling.html\n",
    "- Gensim介绍 \n",
    "  - https://radimrehurek.com/gensim/install.html\n",
    "- LDA拓展资料：\n",
    "  - http://blog.echen.me/2011/08/22/introduction-to-latent-dirichlet-allocation/"
   ]
  },
  {
   "cell_type": "code",
   "execution_count": 0,
   "metadata": {
    "application/vnd.databricks.v1+cell": {
     "cellMetadata": {},
     "inputWidgets": {},
     "nuid": "107155ff-edb0-4db9-8826-c132915ab357",
     "showTitle": false,
     "title": ""
    }
   },
   "outputs": [
    {
     "data": {
      "text/plain": [
       "Collecting gensim\r\n",
       "  Downloading gensim-4.2.0-cp38-cp38-manylinux_2_12_x86_64.manylinux2010_x86_64.whl (24.1 MB)\r\n",
       "\u001b[?25l\r",
       "\u001b[K     |                                | 10 kB 21.8 MB/s eta 0:00:02\r",
       "\u001b[K     |                                | 20 kB 23.4 MB/s eta 0:00:02\r",
       "\u001b[K     |                                | 30 kB 12.2 MB/s eta 0:00:02\r",
       "\u001b[K     |                                | 40 kB 7.0 MB/s eta 0:00:04\r",
       "\u001b[K     |                                | 51 kB 6.6 MB/s eta 0:00:04\r",
       "\u001b[K     |                                | 61 kB 7.6 MB/s eta 0:00:04\r",
       "\u001b[K     |                                | 71 kB 7.7 MB/s eta 0:00:04\r",
       "\u001b[K     |                                | 81 kB 8.6 MB/s eta 0:00:03\r",
       "\u001b[K     |▏                               | 92 kB 7.3 MB/s eta 0:00:04\r",
       "\u001b[K     |▏                               | 102 kB 7.4 MB/s eta 0:00:04\r",
       "\u001b[K     |▏                               | 112 kB 7.4 MB/s eta 0:00:04\r",
       "\u001b[K     |▏                               | 122 kB 7.4 MB/s eta 0:00:04\r",
       "\u001b[K     |▏                               | 133 kB 7.4 MB/s eta 0:00:04\r",
       "\u001b[K     |▏                               | 143 kB 7.4 MB/s eta 0:00:04\r",
       "\u001b[K     |▏                               | 153 kB 7.4 MB/s eta 0:00:04\r",
       "\u001b[K     |▏                               | 163 kB 7.4 MB/s eta 0:00:04\r",
       "\u001b[K     |▎                               | 174 kB 7.4 MB/s eta 0:00:04\r",
       "\u001b[K     |▎                               | 184 kB 7.4 MB/s eta 0:00:04\r",
       "\u001b[K     |▎                               | 194 kB 7.4 MB/s eta 0:00:04\r",
       "\u001b[K     |▎                               | 204 kB 7.4 MB/s eta 0:00:04\r",
       "\u001b[K     |▎                               | 215 kB 7.4 MB/s eta 0:00:04\r",
       "\u001b[K     |▎                               | 225 kB 7.4 MB/s eta 0:00:04\r",
       "\u001b[K     |▎                               | 235 kB 7.4 MB/s eta 0:00:04\r",
       "\u001b[K     |▎                               | 245 kB 7.4 MB/s eta 0:00:04\r",
       "\u001b[K     |▍                               | 256 kB 7.4 MB/s eta 0:00:04\r",
       "\u001b[K     |▍                               | 266 kB 7.4 MB/s eta 0:00:04\r",
       "\u001b[K     |▍                               | 276 kB 7.4 MB/s eta 0:00:04\r",
       "\u001b[K     |▍                               | 286 kB 7.4 MB/s eta 0:00:04\r",
       "\u001b[K     |▍                               | 296 kB 7.4 MB/s eta 0:00:04\r",
       "\u001b[K     |▍                               | 307 kB 7.4 MB/s eta 0:00:04\r",
       "\u001b[K     |▍                               | 317 kB 7.4 MB/s eta 0:00:04\r",
       "\u001b[K     |▍                               | 327 kB 7.4 MB/s eta 0:00:04\r",
       "\u001b[K     |▌                               | 337 kB 7.4 MB/s eta 0:00:04\r",
       "\u001b[K     |▌                               | 348 kB 7.4 MB/s eta 0:00:04\r",
       "\u001b[K     |▌                               | 358 kB 7.4 MB/s eta 0:00:04\r",
       "\u001b[K     |▌                               | 368 kB 7.4 MB/s eta 0:00:04\r",
       "\u001b[K     |▌                               | 378 kB 7.4 MB/s eta 0:00:04\r",
       "\u001b[K     |▌                               | 389 kB 7.4 MB/s eta 0:00:04\r",
       "\u001b[K     |▌                               | 399 kB 7.4 MB/s eta 0:00:04\r",
       "\u001b[K     |▌                               | 409 kB 7.4 MB/s eta 0:00:04\r",
       "\u001b[K     |▋                               | 419 kB 7.4 MB/s eta 0:00:04\r",
       "\u001b[K     |▋                               | 430 kB 7.4 MB/s eta 0:00:04\r",
       "\u001b[K     |▋                               | 440 kB 7.4 MB/s eta 0:00:04\r",
       "\u001b[K     |▋                               | 450 kB 7.4 MB/s eta 0:00:04\r",
       "\u001b[K     |▋                               | 460 kB 7.4 MB/s eta 0:00:04\r",
       "\u001b[K     |▋                               | 471 kB 7.4 MB/s eta 0:00:04\r",
       "\u001b[K     |▋                               | 481 kB 7.4 MB/s eta 0:00:04\r",
       "\u001b[K     |▋                               | 491 kB 7.4 MB/s eta 0:00:04\r",
       "\u001b[K     |▋                               | 501 kB 7.4 MB/s eta 0:00:04\r",
       "\u001b[K     |▊                               | 512 kB 7.4 MB/s eta 0:00:04\r",
       "\u001b[K     |▊                               | 522 kB 7.4 MB/s eta 0:00:04\r",
       "\u001b[K     |▊                               | 532 kB 7.4 MB/s eta 0:00:04\r",
       "\u001b[K     |▊                               | 542 kB 7.4 MB/s eta 0:00:04\r",
       "\u001b[K     |▊                               | 552 kB 7.4 MB/s eta 0:00:04\r",
       "\u001b[K     |▊                               | 563 kB 7.4 MB/s eta 0:00:04\r",
       "\u001b[K     |▊                               | 573 kB 7.4 MB/s eta 0:00:04\r",
       "\u001b[K     |▊                               | 583 kB 7.4 MB/s eta 0:00:04\r",
       "\u001b[K     |▉                               | 593 kB 7.4 MB/s eta 0:00:04\r",
       "\u001b[K     |▉                               | 604 kB 7.4 MB/s eta 0:00:04\r",
       "\u001b[K     |▉                               | 614 kB 7.4 MB/s eta 0:00:04\r",
       "\u001b[K     |▉                               | 624 kB 7.4 MB/s eta 0:00:04\r",
       "\u001b[K     |▉                               | 634 kB 7.4 MB/s eta 0:00:04\r",
       "\u001b[K     |▉                               | 645 kB 7.4 MB/s eta 0:00:04\r",
       "\u001b[K     |▉                               | 655 kB 7.4 MB/s eta 0:00:04\r",
       "\u001b[K     |▉                               | 665 kB 7.4 MB/s eta 0:00:04\r",
       "\u001b[K     |█                               | 675 kB 7.4 MB/s eta 0:00:04\r",
       "\u001b[K     |█                               | 686 kB 7.4 MB/s eta 0:00:04\r",
       "\u001b[K     |█                               | 696 kB 7.4 MB/s eta 0:00:04\r",
       "\u001b[K     |█                               | 706 kB 7.4 MB/s eta 0:00:04\r",
       "\u001b[K     |█                               | 716 kB 7.4 MB/s eta 0:00:04\r",
       "\u001b[K     |█                               | 727 kB 7.4 MB/s eta 0:00:04\r",
       "\u001b[K     |█                               | 737 kB 7.4 MB/s eta 0:00:04\r",
       "\u001b[K     |█                               | 747 kB 7.4 MB/s eta 0:00:04\r",
       "\u001b[K     |█                               | 757 kB 7.4 MB/s eta 0:00:04\r",
       "\u001b[K     |█                               | 768 kB 7.4 MB/s eta 0:00:04\r",
       "\u001b[K     |█                               | 778 kB 7.4 MB/s eta 0:00:04\r",
       "\u001b[K     |█                               | 788 kB 7.4 MB/s eta 0:00:04\r",
       "\u001b[K     |█                               | 798 kB 7.4 MB/s eta 0:00:04\r",
       "\u001b[K     |█                               | 808 kB 7.4 MB/s eta 0:00:04\r",
       "\u001b[K     |█                               | 819 kB 7.4 MB/s eta 0:00:04\r",
       "\u001b[K     |█                               | 829 kB 7.4 MB/s eta 0:00:04\r",
       "\u001b[K     |█▏                              | 839 kB 7.4 MB/s eta 0:00:04\r",
       "\u001b[K     |█▏                              | 849 kB 7.4 MB/s eta 0:00:04\r",
       "\u001b[K     |█▏                              | 860 kB 7.4 MB/s eta 0:00:04\r",
       "\u001b[K     |█▏                              | 870 kB 7.4 MB/s eta 0:00:04\r",
       "\u001b[K     |█▏                              | 880 kB 7.4 MB/s eta 0:00:04\r",
       "\u001b[K     |█▏                              | 890 kB 7.4 MB/s eta 0:00:04\r",
       "\u001b[K     |█▏                              | 901 kB 7.4 MB/s eta 0:00:04\r",
       "\u001b[K     |█▏                              | 911 kB 7.4 MB/s eta 0:00:04\r",
       "\u001b[K     |█▎                              | 921 kB 7.4 MB/s eta 0:00:04\r",
       "\u001b[K     |█▎                              | 931 kB 7.4 MB/s eta 0:00:04\r",
       "\u001b[K     |█▎                              | 942 kB 7.4 MB/s eta 0:00:04\r",
       "\u001b[K     |█▎                              | 952 kB 7.4 MB/s eta 0:00:04\r",
       "\u001b[K     |█▎                              | 962 kB 7.4 MB/s eta 0:00:04\r",
       "\u001b[K     |█▎                              | 972 kB 7.4 MB/s eta 0:00:04\r",
       "\u001b[K     |█▎                              | 983 kB 7.4 MB/s eta 0:00:04\r",
       "\u001b[K     |█▎                              | 993 kB 7.4 MB/s eta 0:00:04\r",
       "\u001b[K     |█▎                              | 1.0 MB 7.4 MB/s eta 0:00:04\r",
       "\u001b[K     |█▍                              | 1.0 MB 7.4 MB/s eta 0:00:04\r",
       "\u001b[K     |█▍                              | 1.0 MB 7.4 MB/s eta 0:00:04\r",
       "\u001b[K     |█▍                              | 1.0 MB 7.4 MB/s eta 0:00:04\r",
       "\u001b[K     |█▍                              | 1.0 MB 7.4 MB/s eta 0:00:04\r",
       "\u001b[K     |█▍                              | 1.1 MB 7.4 MB/s eta 0:00:04\r",
       "\u001b[K     |█▍                              | 1.1 MB 7.4 MB/s eta 0:00:04\r",
       "\u001b[K     |█▍                              | 1.1 MB 7.4 MB/s eta 0:00:04\r",
       "\u001b[K     |█▍                              | 1.1 MB 7.4 MB/s eta 0:00:04\r",
       "\u001b[K     |█▌                              | 1.1 MB 7.4 MB/s eta 0:00:04\r",
       "\u001b[K     |█▌                              | 1.1 MB 7.4 MB/s eta 0:00:04\r",
       "\u001b[K     |█▌                              | 1.1 MB 7.4 MB/s eta 0:00:04\r",
       "\u001b[K     |█▌                              | 1.1 MB 7.4 MB/s eta 0:00:04\r",
       "\u001b[K     |█▌                              | 1.1 MB 7.4 MB/s eta 0:00:04\r",
       "\u001b[K     |█▌                              | 1.1 MB 7.4 MB/s eta 0:00:04\r",
       "\u001b[K     |█▌                              | 1.2 MB 7.4 MB/s eta 0:00:04\r",
       "\u001b[K     |█▌                              | 1.2 MB 7.4 MB/s eta 0:00:04\r",
       "\u001b[K     |█▋                              | 1.2 MB 7.4 MB/s eta 0:00:04\r",
       "\u001b[K     |█▋                              | 1.2 MB 7.4 MB/s eta 0:00:04\r",
       "\u001b[K     |█▋                              | 1.2 MB 7.4 MB/s eta 0:00:04\r",
       "\u001b[K     |█▋                              | 1.2 MB 7.4 MB/s eta 0:00:04\r",
       "\u001b[K     |█▋                              | 1.2 MB 7.4 MB/s eta 0:00:04\r",
       "\u001b[K     |█▋                              | 1.2 MB 7.4 MB/s eta 0:00:04\r",
       "\u001b[K     |█▋                              | 1.2 MB 7.4 MB/s eta 0:00:04\r",
       "\u001b[K     |█▋                              | 1.2 MB 7.4 MB/s eta 0:00:04\r",
       "\u001b[K     |█▊                              | 1.3 MB 7.4 MB/s eta 0:00:04\r",
       "\u001b[K     |█▊                              | 1.3 MB 7.4 MB/s eta 0:00:04\r",
       "\u001b[K     |█▊                              | 1.3 MB 7.4 MB/s eta 0:00:04\r",
       "\u001b[K     |█▊                              | 1.3 MB 7.4 MB/s eta 0:00:04\r",
       "\u001b[K     |█▊                              | 1.3 MB 7.4 MB/s eta 0:00:04\r",
       "\u001b[K     |█▊                              | 1.3 MB 7.4 MB/s eta 0:00:04\r",
       "\u001b[K     |█▊                              | 1.3 MB 7.4 MB/s eta 0:00:04\r",
       "\u001b[K     |█▊                              | 1.3 MB 7.4 MB/s eta 0:00:04\r",
       "\u001b[K     |█▉                              | 1.3 MB 7.4 MB/s eta 0:00:04\r",
       "\u001b[K     |█▉                              | 1.4 MB 7.4 MB/s eta 0:00:04\r",
       "\u001b[K     |█▉                              | 1.4 MB 7.4 MB/s eta 0:00:04\r",
       "\u001b[K     |█▉                              | 1.4 MB 7.4 MB/s eta 0:00:04\r",
       "\u001b[K     |█▉                              | 1.4 MB 7.4 MB/s eta 0:00:04\r",
       "\u001b[K     |█▉                              | 1.4 MB 7.4 MB/s eta 0:00:04\r",
       "\u001b[K     |█▉                              | 1.4 MB 7.4 MB/s eta 0:00:04\r",
       "\u001b[K     |█▉                              | 1.4 MB 7.4 MB/s eta 0:00:04\r",
       "\u001b[K     |██                              | 1.4 MB 7.4 MB/s eta 0:00:04\r",
       "\u001b[K     |██                              | 1.4 MB 7.4 MB/s eta 0:00:04\r",
       "\u001b[K     |██                              | 1.4 MB 7.4 MB/s eta 0:00:04\r",
       "\u001b[K     |██                              | 1.5 MB 7.4 MB/s eta 0:00:04\r",
       "\u001b[K     |██                              | 1.5 MB 7.4 MB/s eta 0:00:04\r",
       "\u001b[K     |██                              | 1.5 MB 7.4 MB/s eta 0:00:04\r",
       "\u001b[K     |██                              | 1.5 MB 7.4 MB/s eta 0:00:04\r",
       "\u001b[K     |██                              | 1.5 MB 7.4 MB/s eta 0:00:04\r",
       "\u001b[K     |██                              | 1.5 MB 7.4 MB/s eta 0:00:04\r",
       "\u001b[K     |██                              | 1.5 MB 7.4 MB/s eta 0:00:04\r",
       "\u001b[K     |██                              | 1.5 MB 7.4 MB/s eta 0:00:04\r",
       "\u001b[K     |██                              | 1.5 MB 7.4 MB/s eta 0:00:04\r",
       "\u001b[K     |██                              | 1.5 MB 7.4 MB/s eta 0:00:04\r",
       "\u001b[K     |██                              | 1.6 MB 7.4 MB/s eta 0:00:04\r",
       "\u001b[K     |██                              | 1.6 MB 7.4 MB/s eta 0:00:04\r",
       "\u001b[K     |██                              | 1.6 MB 7.4 MB/s eta 0:00:04\r",
       "\u001b[K     |██                              | 1.6 MB 7.4 MB/s eta 0:00:04\r",
       "\u001b[K     |██▏                             | 1.6 MB 7.4 MB/s eta 0:00:04\r",
       "\u001b[K     |██▏                             | 1.6 MB 7.4 MB/s eta 0:00:04\r",
       "\u001b[K     |██▏                             | 1.6 MB 7.4 MB/s eta 0:00:04\r",
       "\u001b[K     |██▏                             | 1.6 MB 7.4 MB/s eta 0:00:04\r",
       "\u001b[K     |██▏                             | 1.6 MB 7.4 MB/s eta 0:00:04\r",
       "\u001b[K     |██▏                             | 1.6 MB 7.4 MB/s eta 0:00:04\r",
       "\u001b[K     |██▏                             | 1.7 MB 7.4 MB/s eta 0:00:04\r",
       "\u001b[K     |██▏                             | 1.7 MB 7.4 MB/s eta 0:00:04\r",
       "\u001b[K     |██▎                             | 1.7 MB 7.4 MB/s eta 0:00:04\r",
       "\u001b[K     |██▎                             | 1.7 MB 7.4 MB/s eta 0:00:04\r",
       "\u001b[K     |██▎                             | 1.7 MB 7.4 MB/s eta 0:00:04\r",
       "\u001b[K     |██▎                             | 1.7 MB 7.4 MB/s eta 0:00:04\r",
       "\u001b[K     |██▎                             | 1.7 MB 7.4 MB/s eta 0:00:04\r",
       "\u001b[K     |██▎                             | 1.7 MB 7.4 MB/s eta 0:00:04\r",
       "\u001b[K     |██▎                             | 1.7 MB 7.4 MB/s eta 0:00:04\r",
       "\u001b[K     |██▎                             | 1.8 MB 7.4 MB/s eta 0:00:04\r",
       "\u001b[K     |██▍                             | 1.8 MB 7.4 MB/s eta 0:00:04\r",
       "\u001b[K     |██▍                             | 1.8 MB 7.4 MB/s eta 0:00:04\r",
       "\u001b[K     |██▍                             | 1.8 MB 7.4 MB/s eta 0:00:04\r",
       "\u001b[K     |██▍                             | 1.8 MB 7.4 MB/s eta 0:00:04\r",
       "\u001b[K     |██▍                             | 1.8 MB 7.4 MB/s eta 0:00:04\r",
       "\u001b[K     |██▍                             | 1.8 MB 7.4 MB/s eta 0:00:04\r",
       "\u001b[K     |██▍                             | 1.8 MB 7.4 MB/s eta 0:00:04\r",
       "\u001b[K     |██▍                             | 1.8 MB 7.4 MB/s eta 0:00:04\r",
       "\u001b[K     |██▌                             | 1.8 MB 7.4 MB/s eta 0:00:04\r",
       "\u001b[K     |██▌                             | 1.9 MB 7.4 MB/s eta 0:00:03\r",
       "\u001b[K     |██▌                             | 1.9 MB 7.4 MB/s eta 0:00:03\r",
       "\u001b[K     |██▌                             | 1.9 MB 7.4 MB/s eta 0:00:03\r",
       "\u001b[K     |██▌                             | 1.9 MB 7.4 MB/s eta 0:00:03\r",
       "\u001b[K     |██▌                             | 1.9 MB 7.4 MB/s eta 0:00:03\r",
       "\u001b[K     |██▌                             | 1.9 MB 7.4 MB/s eta 0:00:03\r",
       "\u001b[K     |██▌                             | 1.9 MB 7.4 MB/s eta 0:00:03\r",
       "\u001b[K     |██▋                             | 1.9 MB 7.4 MB/s eta 0:00:03\r",
       "\u001b[K     |██▋                             | 1.9 MB 7.4 MB/s eta 0:00:03\r",
       "\u001b[K     |██▋                             | 1.9 MB 7.4 MB/s eta 0:00:03\r",
       "\u001b[K     |██▋                             | 2.0 MB 7.4 MB/s eta 0:00:03\r",
       "\u001b[K     |██▋                             | 2.0 MB 7.4 MB/s eta 0:00:03\r",
       "\u001b[K     |██▋                             | 2.0 MB 7.4 MB/s eta 0:00:03\r",
       "\u001b[K     |██▋                             | 2.0 MB 7.4 MB/s eta 0:00:03\r",
       "\u001b[K     |██▋                             | 2.0 MB 7.4 MB/s eta 0:00:03\r",
       "\u001b[K     |██▋                             | 2.0 MB 7.4 MB/s eta 0:00:03\r",
       "\u001b[K     |██▊                             | 2.0 MB 7.4 MB/s eta 0:00:03\r",
       "\u001b[K     |██▊                             | 2.0 MB 7.4 MB/s eta 0:00:03\r",
       "\u001b[K     |██▊                             | 2.0 MB 7.4 MB/s eta 0:00:03\r",
       "\u001b[K     |██▊                             | 2.0 MB 7.4 MB/s eta 0:00:03\r",
       "\u001b[K     |██▊                             | 2.1 MB 7.4 MB/s eta 0:00:03\r",
       "\u001b[K     |██▊                             | 2.1 MB 7.4 MB/s eta 0:00:03\r",
       "\u001b[K     |██▊                             | 2.1 MB 7.4 MB/s eta 0:00:03\r",
       "\u001b[K     |██▊                             | 2.1 MB 7.4 MB/s eta 0:00:03\r",
       "\u001b[K     |██▉                             | 2.1 MB 7.4 MB/s eta 0:00:03\r",
       "\u001b[K     |██▉                             | 2.1 MB 7.4 MB/s eta 0:00:03\r",
       "\u001b[K     |██▉                             | 2.1 MB 7.4 MB/s eta 0:00:03\r",
       "\u001b[K     |██▉                             | 2.1 MB 7.4 MB/s eta 0:00:03\r",
       "\u001b[K     |██▉                             | 2.1 MB 7.4 MB/s eta 0:00:03\r",
       "\u001b[K     |██▉                             | 2.2 MB 7.4 MB/s eta 0:00:03\r",
       "\u001b[K     |██▉                             | 2.2 MB 7.4 MB/s eta 0:00:03\r",
       "\u001b[K     |██▉                             | 2.2 MB 7.4 MB/s eta 0:00:03\r",
       "\u001b[K     |███                             | 2.2 MB 7.4 MB/s eta 0:00:03\r",
       "\u001b[K     |███                             | 2.2 MB 7.4 MB/s eta 0:00:03\r",
       "\u001b[K     |███                             | 2.2 MB 7.4 MB/s eta 0:00:03\r",
       "\u001b[K     |███                             | 2.2 MB 7.4 MB/s eta 0:00:03\r",
       "\u001b[K     |███                             | 2.2 MB 7.4 MB/s eta 0:00:03\r",
       "\u001b[K     |███                             | 2.2 MB 7.4 MB/s eta 0:00:03\r",
       "\u001b[K     |███                             | 2.2 MB 7.4 MB/s eta 0:00:03\r",
       "\u001b[K     |███                             | 2.3 MB 7.4 MB/s eta 0:00:03\r",
       "\u001b[K     |███                             | 2.3 MB 7.4 MB/s eta 0:00:03\r",
       "\u001b[K     |███                             | 2.3 MB 7.4 MB/s eta 0:00:03\r",
       "\u001b[K     |███                             | 2.3 MB 7.4 MB/s eta 0:00:03\r",
       "\u001b[K     |███                             | 2.3 MB 7.4 MB/s eta 0:00:03\r",
       "\u001b[K     |███                             | 2.3 MB 7.4 MB/s eta 0:00:03\r",
       "\u001b[K     |███                             | 2.3 MB 7.4 MB/s eta 0:00:03\r",
       "\u001b[K     |███                             | 2.3 MB 7.4 MB/s eta 0:00:03\r",
       "\u001b[K     |███                             | 2.3 MB 7.4 MB/s eta 0:00:03\r",
       "\u001b[K     |███▏                            | 2.3 MB 7.4 MB/s eta 0:00:03\r",
       "\u001b[K     |███▏                            | 2.4 MB 7.4 MB/s eta 0:00:03\r",
       "\u001b[K     |███▏                            | 2.4 MB 7.4 MB/s eta 0:00:03\r",
       "\u001b[K     |███▏                            | 2.4 MB 7.4 MB/s eta 0:00:03\r",
       "\u001b[K     |███▏                            | 2.4 MB 7.4 MB/s eta 0:00:03\r",
       "\u001b[K     |███▏                            | 2.4 MB 7.4 MB/s eta 0:00:03\r",
       "\u001b[K     |███▏                            | 2.4 MB 7.4 MB/s eta 0:00:03\r",
       "\u001b[K     |███▏                            | 2.4 MB 7.4 MB/s eta 0:00:03\r",
       "\u001b[K     |███▎                            | 2.4 MB 7.4 MB/s eta 0:00:03\r",
       "\u001b[K     |███▎                            | 2.4 MB 7.4 MB/s eta 0:00:03\r",
       "\u001b[K     |███▎                            | 2.4 MB 7.4 MB/s eta 0:00:03\r",
       "\u001b[K     |███▎                            | 2.5 MB 7.4 MB/s eta 0:00:03\r",
       "\u001b[K     |███▎                            | 2.5 MB 7.4 MB/s eta 0:00:03\r",
       "\u001b[K     |███▎                            | 2.5 MB 7.4 MB/s eta 0:00:03\r",
       "\u001b[K     |███▎                            | 2.5 MB 7.4 MB/s eta 0:00:03\r",
       "\u001b[K     |███▎                            | 2.5 MB 7.4 MB/s eta 0:00:03\r",
       "\u001b[K     |███▎                            | 2.5 MB 7.4 MB/s eta 0:00:03\r",
       "\u001b[K     |███▍                            | 2.5 MB 7.4 MB/s eta 0:00:03\r",
       "\u001b[K     |███▍                            | 2.5 MB 7.4 MB/s eta 0:00:03\r",
       "\u001b[K     |███▍                            | 2.5 MB 7.4 MB/s eta 0:00:03\r",
       "\u001b[K     |███▍                            | 2.5 MB 7.4 MB/s eta 0:00:03\r",
       "\u001b[K     |███▍                            | 2.6 MB 7.4 MB/s eta 0:00:03\r",
       "\u001b[K     |███▍                            | 2.6 MB 7.4 MB/s eta 0:00:03\r",
       "\u001b[K     |███▍                            | 2.6 MB 7.4 MB/s eta 0:00:03\r",
       "\u001b[K     |███▍                            | 2.6 MB 7.4 MB/s eta 0:00:03\r",
       "\u001b[K     |███▌                            | 2.6 MB 7.4 MB/s eta 0:00:03\r",
       "\u001b[K     |███▌                            | 2.6 MB 7.4 MB/s eta 0:00:03\r",
       "\u001b[K     |███▌                            | 2.6 MB 7.4 MB/s eta 0:00:03\r",
       "\u001b[K     |███▌                            | 2.6 MB 7.4 MB/s eta 0:00:03\r",
       "\u001b[K     |███▌                            | 2.6 MB 7.4 MB/s eta 0:00:03\r",
       "\u001b[K     |███▌                            | 2.7 MB 7.4 MB/s eta 0:00:03\r",
       "\u001b[K     |███▌                            | 2.7 MB 7.4 MB/s eta 0:00:03\r",
       "\u001b[K     |███▌                            | 2.7 MB 7.4 MB/s eta 0:00:03\r",
       "\u001b[K     |███▋                            | 2.7 MB 7.4 MB/s eta 0:00:03\r",
       "\u001b[K     |███▋                            | 2.7 MB 7.4 MB/s eta 0:00:03\r",
       "\u001b[K     |███▋                            | 2.7 MB 7.4 MB/s eta 0:00:03\r",
       "\u001b[K     |███▋                            | 2.7 MB 7.4 MB/s eta 0:00:03\r",
       "\u001b[K     |███▋                            | 2.7 MB 7.4 MB/s eta 0:00:03\r",
       "\u001b[K     |███▋                            | 2.7 MB 7.4 MB/s eta 0:00:03\r",
       "\u001b[K     |███▋                            | 2.7 MB 7.4 MB/s eta 0:00:03\r",
       "\u001b[K     |███▋                            | 2.8 MB 7.4 MB/s eta 0:00:03\r",
       "\u001b[K     |███▊                            | 2.8 MB 7.4 MB/s eta 0:00:03\r",
       "\u001b[K     |███▊                            | 2.8 MB 7.4 MB/s eta 0:00:03\r",
       "\u001b[K     |███▊                            | 2.8 MB 7.4 MB/s eta 0:00:03\r",
       "\u001b[K     |███▊                            | 2.8 MB 7.4 MB/s eta 0:00:03\r",
       "\u001b[K     |███▊                            | 2.8 MB 7.4 MB/s eta 0:00:03\r",
       "\u001b[K     |███▊                            | 2.8 MB 7.4 MB/s eta 0:00:03\r",
       "\u001b[K     |███▊                            | 2.8 MB 7.4 MB/s eta 0:00:03\r",
       "\u001b[K     |███▊                            | 2.8 MB 7.4 MB/s eta 0:00:03\r",
       "\u001b[K     |███▉                            | 2.8 MB 7.4 MB/s eta 0:00:03\r",
       "\u001b[K     |███▉                            | 2.9 MB 7.4 MB/s eta 0:00:03\r",
       "\u001b[K     |███▉                            | 2.9 MB 7.4 MB/s eta 0:00:03\r",
       "\u001b[K     |███▉                            | 2.9 MB 7.4 MB/s eta 0:00:03\r",
       "\u001b[K     |███▉                            | 2.9 MB 7.4 MB/s eta 0:00:03\r",
       "\u001b[K     |███▉                            | 2.9 MB 7.4 MB/s eta 0:00:03\r",
       "\u001b[K     |███▉                            | 2.9 MB 7.4 MB/s eta 0:00:03\r",
       "\u001b[K     |███▉                            | 2.9 MB 7.4 MB/s eta 0:00:03\r",
       "\u001b[K     |████                            | 2.9 MB 7.4 MB/s eta 0:00:03\r",
       "\u001b[K     |████                            | 2.9 MB 7.4 MB/s eta 0:00:03\r",
       "\u001b[K     |████                            | 2.9 MB 7.4 MB/s eta 0:00:03\r",
       "\u001b[K     |████                            | 3.0 MB 7.4 MB/s eta 0:00:03\r",
       "\u001b[K     |████                            | 3.0 MB 7.4 MB/s eta 0:00:03\r",
       "\u001b[K     |████                            | 3.0 MB 7.4 MB/s eta 0:00:03\r",
       "\u001b[K     |████                            | 3.0 MB 7.4 MB/s eta 0:00:03\r",
       "\u001b[K     |████                            | 3.0 MB 7.4 MB/s eta 0:00:03\r",
       "\u001b[K     |████                            | 3.0 MB 7.4 MB/s eta 0:00:03\r",
       "\u001b[K     |████                            | 3.0 MB 7.4 MB/s eta 0:00:03\r",
       "\u001b[K     |████                            | 3.0 MB 7.4 MB/s eta 0:00:03\r",
       "\u001b[K     |████                            | 3.0 MB 7.4 MB/s eta 0:00:03\r",
       "\u001b[K     |████                            | 3.1 MB 7.4 MB/s eta 0:00:03\r",
       "\u001b[K     |████                            | 3.1 MB 7.4 MB/s eta 0:00:03\r",
       "\u001b[K     |████                            | 3.1 MB 7.4 MB/s eta 0:00:03\r",
       "\u001b[K     |████                            | 3.1 MB 7.4 MB/s eta 0:00:03\r",
       "\u001b[K     |████                            | 3.1 MB 7.4 MB/s eta 0:00:03\r",
       "\u001b[K     |████▏                           | 3.1 MB 7.4 MB/s eta 0:00:03\r",
       "\u001b[K     |████▏                           | 3.1 MB 7.4 MB/s eta 0:00:03\r",
       "\u001b[K     |████▏                           | 3.1 MB 7.4 MB/s eta 0:00:03\r",
       "\u001b[K     |████▏                           | 3.1 MB 7.4 MB/s eta 0:00:03\r",
       "\u001b[K     |████▏                           | 3.1 MB 7.4 MB/s eta 0:00:03\r",
       "\u001b[K     |████▏                           | 3.2 MB 7.4 MB/s eta 0:00:03\r",
       "\u001b[K     |████▏                           | 3.2 MB 7.4 MB/s eta 0:00:03\r",
       "\u001b[K     |████▏                           | 3.2 MB 7.4 MB/s eta 0:00:03\r",
       "\u001b[K     |████▎                           | 3.2 MB 7.4 MB/s eta 0:00:03\r",
       "\u001b[K     |████▎                           | 3.2 MB 7.4 MB/s eta 0:00:03\r",
       "\u001b[K     |████▎                           | 3.2 MB 7.4 MB/s eta 0:00:03\r",
       "\u001b[K     |████▎                           | 3.2 MB 7.4 MB/s eta 0:00:03\r",
       "\u001b[K     |████▎                           | 3.2 MB 7.4 MB/s eta 0:00:03\r",
       "\u001b[K     |████▎                           | 3.2 MB 7.4 MB/s eta 0:00:03\r",
       "\u001b[K     |████▎                           | 3.2 MB 7.4 MB/s eta 0:00:03\r",
       "\u001b[K     |████▎                           | 3.3 MB 7.4 MB/s eta 0:00:03\r",
       "\u001b[K     |████▍                           | 3.3 MB 7.4 MB/s eta 0:00:03\r",
       "\u001b[K     |████▍                           | 3.3 MB 7.4 MB/s eta 0:00:03\r",
       "\u001b[K     |████▍                           | 3.3 MB 7.4 MB/s eta 0:00:03\r",
       "\u001b[K     |████▍                           | 3.3 MB 7.4 MB/s eta 0:00:03\r",
       "\u001b[K     |████▍                           | 3.3 MB 7.4 MB/s eta 0:00:03\r",
       "\u001b[K     |████▍                           | 3.3 MB 7.4 MB/s eta 0:00:03\r",
       "\u001b[K     |████▍                           | 3.3 MB 7.4 MB/s eta 0:00:03\r",
       "\u001b[K     |████▍                           | 3.3 MB 7.4 MB/s eta 0:00:03\r",
       "\u001b[K     |████▌                           | 3.3 MB 7.4 MB/s eta 0:00:03\r",
       "\u001b[K     |████▌                           | 3.4 MB 7.4 MB/s eta 0:00:03\r",
       "\u001b[K     |████▌                           | 3.4 MB 7.4 MB/s eta 0:00:03\r",
       "\u001b[K     |████▌                           | 3.4 MB 7.4 MB/s eta 0:00:03\r",
       "\u001b[K     |████▌                           | 3.4 MB 7.4 MB/s eta 0:00:03\r",
       "\u001b[K     |████▌                           | 3.4 MB 7.4 MB/s eta 0:00:03\r",
       "\u001b[K     |████▌                           | 3.4 MB 7.4 MB/s eta 0:00:03\r",
       "\u001b[K     |████▌                           | 3.4 MB 7.4 MB/s eta 0:00:03\r",
       "\u001b[K     |████▋                           | 3.4 MB 7.4 MB/s eta 0:00:03\r",
       "\u001b[K     |████▋                           | 3.4 MB 7.4 MB/s eta 0:00:03\r",
       "\u001b[K     |████▋                           | 3.5 MB 7.4 MB/s eta 0:00:03\r",
       "\u001b[K     |████▋                           | 3.5 MB 7.4 MB/s eta 0:00:03\r",
       "\u001b[K     |████▋                           | 3.5 MB 7.4 MB/s eta 0:00:03\r",
       "\u001b[K     |████▋                           | 3.5 MB 7.4 MB/s eta 0:00:03\r",
       "\u001b[K     |████▋                           | 3.5 MB 7.4 MB/s eta 0:00:03\r",
       "\u001b[K     |████▋                           | 3.5 MB 7.4 MB/s eta 0:00:03\r",
       "\u001b[K     |████▋                           | 3.5 MB 7.4 MB/s eta 0:00:03\r",
       "\u001b[K     |████▊                           | 3.5 MB 7.4 MB/s eta 0:00:03\r",
       "\u001b[K     |████▊                           | 3.5 MB 7.4 MB/s eta 0:00:03\r",
       "\u001b[K     |████▊                           | 3.5 MB 7.4 MB/s eta 0:00:03\r",
       "\u001b[K     |████▊                           | 3.6 MB 7.4 MB/s eta 0:00:03\r",
       "\u001b[K     |████▊                           | 3.6 MB 7.4 MB/s eta 0:00:03\r",
       "\u001b[K     |████▊                           | 3.6 MB 7.4 MB/s eta 0:00:03\r",
       "\u001b[K     |████▊                           | 3.6 MB 7.4 MB/s eta 0:00:03\r",
       "\u001b[K     |████▊                     \n",
       "\n",
       "*** WARNING: max output size exceeded, skipping output. ***\n",
       "\n",
       "████▌    | 20.7 MB 7.4 MB/s eta 0:00:01\r",
       "\u001b[K     |███████████████████████████▌    | 20.7 MB 7.4 MB/s eta 0:00:01\r",
       "\u001b[K     |███████████████████████████▌    | 20.7 MB 7.4 MB/s eta 0:00:01\r",
       "\u001b[K     |███████████████████████████▌    | 20.7 MB 7.4 MB/s eta 0:00:01\r",
       "\u001b[K     |███████████████████████████▌    | 20.7 MB 7.4 MB/s eta 0:00:01\r",
       "\u001b[K     |███████████████████████████▋    | 20.7 MB 7.4 MB/s eta 0:00:01\r",
       "\u001b[K     |███████████████████████████▋    | 20.8 MB 7.4 MB/s eta 0:00:01\r",
       "\u001b[K     |███████████████████████████▋    | 20.8 MB 7.4 MB/s eta 0:00:01\r",
       "\u001b[K     |███████████████████████████▋    | 20.8 MB 7.4 MB/s eta 0:00:01\r",
       "\u001b[K     |███████████████████████████▋    | 20.8 MB 7.4 MB/s eta 0:00:01\r",
       "\u001b[K     |███████████████████████████▋    | 20.8 MB 7.4 MB/s eta 0:00:01\r",
       "\u001b[K     |███████████████████████████▋    | 20.8 MB 7.4 MB/s eta 0:00:01\r",
       "\u001b[K     |███████████████████████████▋    | 20.8 MB 7.4 MB/s eta 0:00:01\r",
       "\u001b[K     |███████████████████████████▊    | 20.8 MB 7.4 MB/s eta 0:00:01\r",
       "\u001b[K     |███████████████████████████▊    | 20.8 MB 7.4 MB/s eta 0:00:01\r",
       "\u001b[K     |███████████████████████████▊    | 20.8 MB 7.4 MB/s eta 0:00:01\r",
       "\u001b[K     |███████████████████████████▊    | 20.9 MB 7.4 MB/s eta 0:00:01\r",
       "\u001b[K     |███████████████████████████▊    | 20.9 MB 7.4 MB/s eta 0:00:01\r",
       "\u001b[K     |███████████████████████████▊    | 20.9 MB 7.4 MB/s eta 0:00:01\r",
       "\u001b[K     |███████████████████████████▊    | 20.9 MB 7.4 MB/s eta 0:00:01\r",
       "\u001b[K     |███████████████████████████▊    | 20.9 MB 7.4 MB/s eta 0:00:01\r",
       "\u001b[K     |███████████████████████████▉    | 20.9 MB 7.4 MB/s eta 0:00:01\r",
       "\u001b[K     |███████████████████████████▉    | 20.9 MB 7.4 MB/s eta 0:00:01\r",
       "\u001b[K     |███████████████████████████▉    | 20.9 MB 7.4 MB/s eta 0:00:01\r",
       "\u001b[K     |███████████████████████████▉    | 20.9 MB 7.4 MB/s eta 0:00:01\r",
       "\u001b[K     |███████████████████████████▉    | 21.0 MB 7.4 MB/s eta 0:00:01\r",
       "\u001b[K     |███████████████████████████▉    | 21.0 MB 7.4 MB/s eta 0:00:01\r",
       "\u001b[K     |███████████████████████████▉    | 21.0 MB 7.4 MB/s eta 0:00:01\r",
       "\u001b[K     |███████████████████████████▉    | 21.0 MB 7.4 MB/s eta 0:00:01\r",
       "\u001b[K     |███████████████████████████▉    | 21.0 MB 7.4 MB/s eta 0:00:01\r",
       "\u001b[K     |████████████████████████████    | 21.0 MB 7.4 MB/s eta 0:00:01\r",
       "\u001b[K     |████████████████████████████    | 21.0 MB 7.4 MB/s eta 0:00:01\r",
       "\u001b[K     |████████████████████████████    | 21.0 MB 7.4 MB/s eta 0:00:01\r",
       "\u001b[K     |████████████████████████████    | 21.0 MB 7.4 MB/s eta 0:00:01\r",
       "\u001b[K     |████████████████████████████    | 21.0 MB 7.4 MB/s eta 0:00:01\r",
       "\u001b[K     |████████████████████████████    | 21.1 MB 7.4 MB/s eta 0:00:01\r",
       "\u001b[K     |████████████████████████████    | 21.1 MB 7.4 MB/s eta 0:00:01\r",
       "\u001b[K     |████████████████████████████    | 21.1 MB 7.4 MB/s eta 0:00:01\r",
       "\u001b[K     |████████████████████████████    | 21.1 MB 7.4 MB/s eta 0:00:01\r",
       "\u001b[K     |████████████████████████████    | 21.1 MB 7.4 MB/s eta 0:00:01\r",
       "\u001b[K     |████████████████████████████    | 21.1 MB 7.4 MB/s eta 0:00:01\r",
       "\u001b[K     |████████████████████████████    | 21.1 MB 7.4 MB/s eta 0:00:01\r",
       "\u001b[K     |████████████████████████████    | 21.1 MB 7.4 MB/s eta 0:00:01\r",
       "\u001b[K     |████████████████████████████    | 21.1 MB 7.4 MB/s eta 0:00:01\r",
       "\u001b[K     |████████████████████████████    | 21.1 MB 7.4 MB/s eta 0:00:01\r",
       "\u001b[K     |████████████████████████████    | 21.2 MB 7.4 MB/s eta 0:00:01\r",
       "\u001b[K     |████████████████████████████▏   | 21.2 MB 7.4 MB/s eta 0:00:01\r",
       "\u001b[K     |████████████████████████████▏   | 21.2 MB 7.4 MB/s eta 0:00:01\r",
       "\u001b[K     |████████████████████████████▏   | 21.2 MB 7.4 MB/s eta 0:00:01\r",
       "\u001b[K     |████████████████████████████▏   | 21.2 MB 7.4 MB/s eta 0:00:01\r",
       "\u001b[K     |████████████████████████████▏   | 21.2 MB 7.4 MB/s eta 0:00:01\r",
       "\u001b[K     |████████████████████████████▏   | 21.2 MB 7.4 MB/s eta 0:00:01\r",
       "\u001b[K     |████████████████████████████▏   | 21.2 MB 7.4 MB/s eta 0:00:01\r",
       "\u001b[K     |████████████████████████████▏   | 21.2 MB 7.4 MB/s eta 0:00:01\r",
       "\u001b[K     |████████████████████████████▎   | 21.2 MB 7.4 MB/s eta 0:00:01\r",
       "\u001b[K     |████████████████████████████▎   | 21.3 MB 7.4 MB/s eta 0:00:01\r",
       "\u001b[K     |████████████████████████████▎   | 21.3 MB 7.4 MB/s eta 0:00:01\r",
       "\u001b[K     |████████████████████████████▎   | 21.3 MB 7.4 MB/s eta 0:00:01\r",
       "\u001b[K     |████████████████████████████▎   | 21.3 MB 7.4 MB/s eta 0:00:01\r",
       "\u001b[K     |████████████████████████████▎   | 21.3 MB 7.4 MB/s eta 0:00:01\r",
       "\u001b[K     |████████████████████████████▎   | 21.3 MB 7.4 MB/s eta 0:00:01\r",
       "\u001b[K     |████████████████████████████▎   | 21.3 MB 7.4 MB/s eta 0:00:01\r",
       "\u001b[K     |████████████████████████████▍   | 21.3 MB 7.4 MB/s eta 0:00:01\r",
       "\u001b[K     |████████████████████████████▍   | 21.3 MB 7.4 MB/s eta 0:00:01\r",
       "\u001b[K     |████████████████████████████▍   | 21.4 MB 7.4 MB/s eta 0:00:01\r",
       "\u001b[K     |████████████████████████████▍   | 21.4 MB 7.4 MB/s eta 0:00:01\r",
       "\u001b[K     |████████████████████████████▍   | 21.4 MB 7.4 MB/s eta 0:00:01\r",
       "\u001b[K     |████████████████████████████▍   | 21.4 MB 7.4 MB/s eta 0:00:01\r",
       "\u001b[K     |████████████████████████████▍   | 21.4 MB 7.4 MB/s eta 0:00:01\r",
       "\u001b[K     |████████████████████████████▍   | 21.4 MB 7.4 MB/s eta 0:00:01\r",
       "\u001b[K     |████████████████████████████▌   | 21.4 MB 7.4 MB/s eta 0:00:01\r",
       "\u001b[K     |████████████████████████████▌   | 21.4 MB 7.4 MB/s eta 0:00:01\r",
       "\u001b[K     |████████████████████████████▌   | 21.4 MB 7.4 MB/s eta 0:00:01\r",
       "\u001b[K     |████████████████████████████▌   | 21.4 MB 7.4 MB/s eta 0:00:01\r",
       "\u001b[K     |████████████████████████████▌   | 21.5 MB 7.4 MB/s eta 0:00:01\r",
       "\u001b[K     |████████████████████████████▌   | 21.5 MB 7.4 MB/s eta 0:00:01\r",
       "\u001b[K     |████████████████████████████▌   | 21.5 MB 7.4 MB/s eta 0:00:01\r",
       "\u001b[K     |████████████████████████████▌   | 21.5 MB 7.4 MB/s eta 0:00:01\r",
       "\u001b[K     |████████████████████████████▌   | 21.5 MB 7.4 MB/s eta 0:00:01\r",
       "\u001b[K     |████████████████████████████▋   | 21.5 MB 7.4 MB/s eta 0:00:01\r",
       "\u001b[K     |████████████████████████████▋   | 21.5 MB 7.4 MB/s eta 0:00:01\r",
       "\u001b[K     |████████████████████████████▋   | 21.5 MB 7.4 MB/s eta 0:00:01\r",
       "\u001b[K     |████████████████████████████▋   | 21.5 MB 7.4 MB/s eta 0:00:01\r",
       "\u001b[K     |████████████████████████████▋   | 21.5 MB 7.4 MB/s eta 0:00:01\r",
       "\u001b[K     |████████████████████████████▋   | 21.6 MB 7.4 MB/s eta 0:00:01\r",
       "\u001b[K     |████████████████████████████▋   | 21.6 MB 7.4 MB/s eta 0:00:01\r",
       "\u001b[K     |████████████████████████████▋   | 21.6 MB 7.4 MB/s eta 0:00:01\r",
       "\u001b[K     |████████████████████████████▊   | 21.6 MB 7.4 MB/s eta 0:00:01\r",
       "\u001b[K     |████████████████████████████▊   | 21.6 MB 7.4 MB/s eta 0:00:01\r",
       "\u001b[K     |████████████████████████████▊   | 21.6 MB 7.4 MB/s eta 0:00:01\r",
       "\u001b[K     |████████████████████████████▊   | 21.6 MB 7.4 MB/s eta 0:00:01\r",
       "\u001b[K     |████████████████████████████▊   | 21.6 MB 7.4 MB/s eta 0:00:01\r",
       "\u001b[K     |████████████████████████████▊   | 21.6 MB 7.4 MB/s eta 0:00:01\r",
       "\u001b[K     |████████████████████████████▊   | 21.6 MB 7.4 MB/s eta 0:00:01\r",
       "\u001b[K     |████████████████████████████▊   | 21.7 MB 7.4 MB/s eta 0:00:01\r",
       "\u001b[K     |████████████████████████████▉   | 21.7 MB 7.4 MB/s eta 0:00:01\r",
       "\u001b[K     |████████████████████████████▉   | 21.7 MB 7.4 MB/s eta 0:00:01\r",
       "\u001b[K     |████████████████████████████▉   | 21.7 MB 7.4 MB/s eta 0:00:01\r",
       "\u001b[K     |████████████████████████████▉   | 21.7 MB 7.4 MB/s eta 0:00:01\r",
       "\u001b[K     |████████████████████████████▉   | 21.7 MB 7.4 MB/s eta 0:00:01\r",
       "\u001b[K     |████████████████████████████▉   | 21.7 MB 7.4 MB/s eta 0:00:01\r",
       "\u001b[K     |████████████████████████████▉   | 21.7 MB 7.4 MB/s eta 0:00:01\r",
       "\u001b[K     |████████████████████████████▉   | 21.7 MB 7.4 MB/s eta 0:00:01\r",
       "\u001b[K     |█████████████████████████████   | 21.7 MB 7.4 MB/s eta 0:00:01\r",
       "\u001b[K     |█████████████████████████████   | 21.8 MB 7.4 MB/s eta 0:00:01\r",
       "\u001b[K     |█████████████████████████████   | 21.8 MB 7.4 MB/s eta 0:00:01\r",
       "\u001b[K     |█████████████████████████████   | 21.8 MB 7.4 MB/s eta 0:00:01\r",
       "\u001b[K     |█████████████████████████████   | 21.8 MB 7.4 MB/s eta 0:00:01\r",
       "\u001b[K     |█████████████████████████████   | 21.8 MB 7.4 MB/s eta 0:00:01\r",
       "\u001b[K     |█████████████████████████████   | 21.8 MB 7.4 MB/s eta 0:00:01\r",
       "\u001b[K     |█████████████████████████████   | 21.8 MB 7.4 MB/s eta 0:00:01\r",
       "\u001b[K     |█████████████████████████████   | 21.8 MB 7.4 MB/s eta 0:00:01\r",
       "\u001b[K     |█████████████████████████████   | 21.8 MB 7.4 MB/s eta 0:00:01\r",
       "\u001b[K     |█████████████████████████████   | 21.9 MB 7.4 MB/s eta 0:00:01\r",
       "\u001b[K     |█████████████████████████████   | 21.9 MB 7.4 MB/s eta 0:00:01\r",
       "\u001b[K     |█████████████████████████████   | 21.9 MB 7.4 MB/s eta 0:00:01\r",
       "\u001b[K     |█████████████████████████████   | 21.9 MB 7.4 MB/s eta 0:00:01\r",
       "\u001b[K     |█████████████████████████████   | 21.9 MB 7.4 MB/s eta 0:00:01\r",
       "\u001b[K     |█████████████████████████████   | 21.9 MB 7.4 MB/s eta 0:00:01\r",
       "\u001b[K     |█████████████████████████████▏  | 21.9 MB 7.4 MB/s eta 0:00:01\r",
       "\u001b[K     |█████████████████████████████▏  | 21.9 MB 7.4 MB/s eta 0:00:01\r",
       "\u001b[K     |█████████████████████████████▏  | 21.9 MB 7.4 MB/s eta 0:00:01\r",
       "\u001b[K     |█████████████████████████████▏  | 21.9 MB 7.4 MB/s eta 0:00:01\r",
       "\u001b[K     |█████████████████████████████▏  | 22.0 MB 7.4 MB/s eta 0:00:01\r",
       "\u001b[K     |█████████████████████████████▏  | 22.0 MB 7.4 MB/s eta 0:00:01\r",
       "\u001b[K     |█████████████████████████████▏  | 22.0 MB 7.4 MB/s eta 0:00:01\r",
       "\u001b[K     |█████████████████████████████▏  | 22.0 MB 7.4 MB/s eta 0:00:01\r",
       "\u001b[K     |█████████████████████████████▏  | 22.0 MB 7.4 MB/s eta 0:00:01\r",
       "\u001b[K     |█████████████████████████████▎  | 22.0 MB 7.4 MB/s eta 0:00:01\r",
       "\u001b[K     |█████████████████████████████▎  | 22.0 MB 7.4 MB/s eta 0:00:01\r",
       "\u001b[K     |█████████████████████████████▎  | 22.0 MB 7.4 MB/s eta 0:00:01\r",
       "\u001b[K     |█████████████████████████████▎  | 22.0 MB 7.4 MB/s eta 0:00:01\r",
       "\u001b[K     |█████████████████████████████▎  | 22.0 MB 7.4 MB/s eta 0:00:01\r",
       "\u001b[K     |█████████████████████████████▎  | 22.1 MB 7.4 MB/s eta 0:00:01\r",
       "\u001b[K     |█████████████████████████████▎  | 22.1 MB 7.4 MB/s eta 0:00:01\r",
       "\u001b[K     |█████████████████████████████▎  | 22.1 MB 7.4 MB/s eta 0:00:01\r",
       "\u001b[K     |█████████████████████████████▍  | 22.1 MB 7.4 MB/s eta 0:00:01\r",
       "\u001b[K     |█████████████████████████████▍  | 22.1 MB 7.4 MB/s eta 0:00:01\r",
       "\u001b[K     |█████████████████████████████▍  | 22.1 MB 7.4 MB/s eta 0:00:01\r",
       "\u001b[K     |█████████████████████████████▍  | 22.1 MB 7.4 MB/s eta 0:00:01\r",
       "\u001b[K     |█████████████████████████████▍  | 22.1 MB 7.4 MB/s eta 0:00:01\r",
       "\u001b[K     |█████████████████████████████▍  | 22.1 MB 7.4 MB/s eta 0:00:01\r",
       "\u001b[K     |█████████████████████████████▍  | 22.1 MB 7.4 MB/s eta 0:00:01\r",
       "\u001b[K     |█████████████████████████████▍  | 22.2 MB 7.4 MB/s eta 0:00:01\r",
       "\u001b[K     |█████████████████████████████▌  | 22.2 MB 7.4 MB/s eta 0:00:01\r",
       "\u001b[K     |█████████████████████████████▌  | 22.2 MB 7.4 MB/s eta 0:00:01\r",
       "\u001b[K     |█████████████████████████████▌  | 22.2 MB 7.4 MB/s eta 0:00:01\r",
       "\u001b[K     |█████████████████████████████▌  | 22.2 MB 7.4 MB/s eta 0:00:01\r",
       "\u001b[K     |█████████████████████████████▌  | 22.2 MB 7.4 MB/s eta 0:00:01\r",
       "\u001b[K     |█████████████████████████████▌  | 22.2 MB 7.4 MB/s eta 0:00:01\r",
       "\u001b[K     |█████████████████████████████▌  | 22.2 MB 7.4 MB/s eta 0:00:01\r",
       "\u001b[K     |█████████████████████████████▌  | 22.2 MB 7.4 MB/s eta 0:00:01\r",
       "\u001b[K     |█████████████████████████████▋  | 22.3 MB 7.4 MB/s eta 0:00:01\r",
       "\u001b[K     |█████████████████████████████▋  | 22.3 MB 7.4 MB/s eta 0:00:01\r",
       "\u001b[K     |█████████████████████████████▋  | 22.3 MB 7.4 MB/s eta 0:00:01\r",
       "\u001b[K     |█████████████████████████████▋  | 22.3 MB 7.4 MB/s eta 0:00:01\r",
       "\u001b[K     |█████████████████████████████▋  | 22.3 MB 7.4 MB/s eta 0:00:01\r",
       "\u001b[K     |█████████████████████████████▋  | 22.3 MB 7.4 MB/s eta 0:00:01\r",
       "\u001b[K     |█████████████████████████████▋  | 22.3 MB 7.4 MB/s eta 0:00:01\r",
       "\u001b[K     |█████████████████████████████▋  | 22.3 MB 7.4 MB/s eta 0:00:01\r",
       "\u001b[K     |█████████████████████████████▊  | 22.3 MB 7.4 MB/s eta 0:00:01\r",
       "\u001b[K     |█████████████████████████████▊  | 22.3 MB 7.4 MB/s eta 0:00:01\r",
       "\u001b[K     |█████████████████████████████▊  | 22.4 MB 7.4 MB/s eta 0:00:01\r",
       "\u001b[K     |█████████████████████████████▊  | 22.4 MB 7.4 MB/s eta 0:00:01\r",
       "\u001b[K     |█████████████████████████████▊  | 22.4 MB 7.4 MB/s eta 0:00:01\r",
       "\u001b[K     |█████████████████████████████▊  | 22.4 MB 7.4 MB/s eta 0:00:01\r",
       "\u001b[K     |█████████████████████████████▊  | 22.4 MB 7.4 MB/s eta 0:00:01\r",
       "\u001b[K     |█████████████████████████████▊  | 22.4 MB 7.4 MB/s eta 0:00:01\r",
       "\u001b[K     |█████████████████████████████▉  | 22.4 MB 7.4 MB/s eta 0:00:01\r",
       "\u001b[K     |█████████████████████████████▉  | 22.4 MB 7.4 MB/s eta 0:00:01\r",
       "\u001b[K     |█████████████████████████████▉  | 22.4 MB 7.4 MB/s eta 0:00:01\r",
       "\u001b[K     |█████████████████████████████▉  | 22.4 MB 7.4 MB/s eta 0:00:01\r",
       "\u001b[K     |█████████████████████████████▉  | 22.5 MB 7.4 MB/s eta 0:00:01\r",
       "\u001b[K     |█████████████████████████████▉  | 22.5 MB 7.4 MB/s eta 0:00:01\r",
       "\u001b[K     |█████████████████████████████▉  | 22.5 MB 7.4 MB/s eta 0:00:01\r",
       "\u001b[K     |█████████████████████████████▉  | 22.5 MB 7.4 MB/s eta 0:00:01\r",
       "\u001b[K     |█████████████████████████████▉  | 22.5 MB 7.4 MB/s eta 0:00:01\r",
       "\u001b[K     |██████████████████████████████  | 22.5 MB 7.4 MB/s eta 0:00:01\r",
       "\u001b[K     |██████████████████████████████  | 22.5 MB 7.4 MB/s eta 0:00:01\r",
       "\u001b[K     |██████████████████████████████  | 22.5 MB 7.4 MB/s eta 0:00:01\r",
       "\u001b[K     |██████████████████████████████  | 22.5 MB 7.4 MB/s eta 0:00:01\r",
       "\u001b[K     |██████████████████████████████  | 22.5 MB 7.4 MB/s eta 0:00:01\r",
       "\u001b[K     |██████████████████████████████  | 22.6 MB 7.4 MB/s eta 0:00:01\r",
       "\u001b[K     |██████████████████████████████  | 22.6 MB 7.4 MB/s eta 0:00:01\r",
       "\u001b[K     |██████████████████████████████  | 22.6 MB 7.4 MB/s eta 0:00:01\r",
       "\u001b[K     |██████████████████████████████  | 22.6 MB 7.4 MB/s eta 0:00:01\r",
       "\u001b[K     |██████████████████████████████  | 22.6 MB 7.4 MB/s eta 0:00:01\r",
       "\u001b[K     |██████████████████████████████  | 22.6 MB 7.4 MB/s eta 0:00:01\r",
       "\u001b[K     |██████████████████████████████  | 22.6 MB 7.4 MB/s eta 0:00:01\r",
       "\u001b[K     |██████████████████████████████  | 22.6 MB 7.4 MB/s eta 0:00:01\r",
       "\u001b[K     |██████████████████████████████  | 22.6 MB 7.4 MB/s eta 0:00:01\r",
       "\u001b[K     |██████████████████████████████  | 22.7 MB 7.4 MB/s eta 0:00:01\r",
       "\u001b[K     |██████████████████████████████  | 22.7 MB 7.4 MB/s eta 0:00:01\r",
       "\u001b[K     |██████████████████████████████▏ | 22.7 MB 7.4 MB/s eta 0:00:01\r",
       "\u001b[K     |██████████████████████████████▏ | 22.7 MB 7.4 MB/s eta 0:00:01\r",
       "\u001b[K     |██████████████████████████████▏ | 22.7 MB 7.4 MB/s eta 0:00:01\r",
       "\u001b[K     |██████████████████████████████▏ | 22.7 MB 7.4 MB/s eta 0:00:01\r",
       "\u001b[K     |██████████████████████████████▏ | 22.7 MB 7.4 MB/s eta 0:00:01\r",
       "\u001b[K     |██████████████████████████████▏ | 22.7 MB 7.4 MB/s eta 0:00:01\r",
       "\u001b[K     |██████████████████████████████▏ | 22.7 MB 7.4 MB/s eta 0:00:01\r",
       "\u001b[K     |██████████████████████████████▏ | 22.7 MB 7.4 MB/s eta 0:00:01\r",
       "\u001b[K     |██████████████████████████████▎ | 22.8 MB 7.4 MB/s eta 0:00:01\r",
       "\u001b[K     |██████████████████████████████▎ | 22.8 MB 7.4 MB/s eta 0:00:01\r",
       "\u001b[K     |██████████████████████████████▎ | 22.8 MB 7.4 MB/s eta 0:00:01\r",
       "\u001b[K     |██████████████████████████████▎ | 22.8 MB 7.4 MB/s eta 0:00:01\r",
       "\u001b[K     |██████████████████████████████▎ | 22.8 MB 7.4 MB/s eta 0:00:01\r",
       "\u001b[K     |██████████████████████████████▎ | 22.8 MB 7.4 MB/s eta 0:00:01\r",
       "\u001b[K     |██████████████████████████████▎ | 22.8 MB 7.4 MB/s eta 0:00:01\r",
       "\u001b[K     |██████████████████████████████▎ | 22.8 MB 7.4 MB/s eta 0:00:01\r",
       "\u001b[K     |██████████████████████████████▍ | 22.8 MB 7.4 MB/s eta 0:00:01\r",
       "\u001b[K     |██████████████████████████████▍ | 22.8 MB 7.4 MB/s eta 0:00:01\r",
       "\u001b[K     |██████████████████████████████▍ | 22.9 MB 7.4 MB/s eta 0:00:01\r",
       "\u001b[K     |██████████████████████████████▍ | 22.9 MB 7.4 MB/s eta 0:00:01\r",
       "\u001b[K     |██████████████████████████████▍ | 22.9 MB 7.4 MB/s eta 0:00:01\r",
       "\u001b[K     |██████████████████████████████▍ | 22.9 MB 7.4 MB/s eta 0:00:01\r",
       "\u001b[K     |██████████████████████████████▍ | 22.9 MB 7.4 MB/s eta 0:00:01\r",
       "\u001b[K     |██████████████████████████████▍ | 22.9 MB 7.4 MB/s eta 0:00:01\r",
       "\u001b[K     |██████████████████████████████▌ | 22.9 MB 7.4 MB/s eta 0:00:01\r",
       "\u001b[K     |██████████████████████████████▌ | 22.9 MB 7.4 MB/s eta 0:00:01\r",
       "\u001b[K     |██████████████████████████████▌ | 22.9 MB 7.4 MB/s eta 0:00:01\r",
       "\u001b[K     |██████████████████████████████▌ | 22.9 MB 7.4 MB/s eta 0:00:01\r",
       "\u001b[K     |██████████████████████████████▌ | 23.0 MB 7.4 MB/s eta 0:00:01\r",
       "\u001b[K     |██████████████████████████████▌ | 23.0 MB 7.4 MB/s eta 0:00:01\r",
       "\u001b[K     |██████████████████████████████▌ | 23.0 MB 7.4 MB/s eta 0:00:01\r",
       "\u001b[K     |██████████████████████████████▌ | 23.0 MB 7.4 MB/s eta 0:00:01\r",
       "\u001b[K     |██████████████████████████████▌ | 23.0 MB 7.4 MB/s eta 0:00:01\r",
       "\u001b[K     |██████████████████████████████▋ | 23.0 MB 7.4 MB/s eta 0:00:01\r",
       "\u001b[K     |██████████████████████████████▋ | 23.0 MB 7.4 MB/s eta 0:00:01\r",
       "\u001b[K     |██████████████████████████████▋ | 23.0 MB 7.4 MB/s eta 0:00:01\r",
       "\u001b[K     |██████████████████████████████▋ | 23.0 MB 7.4 MB/s eta 0:00:01\r",
       "\u001b[K     |██████████████████████████████▋ | 23.1 MB 7.4 MB/s eta 0:00:01\r",
       "\u001b[K     |██████████████████████████████▋ | 23.1 MB 7.4 MB/s eta 0:00:01\r",
       "\u001b[K     |██████████████████████████████▋ | 23.1 MB 7.4 MB/s eta 0:00:01\r",
       "\u001b[K     |██████████████████████████████▋ | 23.1 MB 7.4 MB/s eta 0:00:01\r",
       "\u001b[K     |██████████████████████████████▊ | 23.1 MB 7.4 MB/s eta 0:00:01\r",
       "\u001b[K     |██████████████████████████████▊ | 23.1 MB 7.4 MB/s eta 0:00:01\r",
       "\u001b[K     |██████████████████████████████▊ | 23.1 MB 7.4 MB/s eta 0:00:01\r",
       "\u001b[K     |██████████████████████████████▊ | 23.1 MB 7.4 MB/s eta 0:00:01\r",
       "\u001b[K     |██████████████████████████████▊ | 23.1 MB 7.4 MB/s eta 0:00:01\r",
       "\u001b[K     |██████████████████████████████▊ | 23.1 MB 7.4 MB/s eta 0:00:01\r",
       "\u001b[K     |██████████████████████████████▊ | 23.2 MB 7.4 MB/s eta 0:00:01\r",
       "\u001b[K     |██████████████████████████████▊ | 23.2 MB 7.4 MB/s eta 0:00:01\r",
       "\u001b[K     |██████████████████████████████▉ | 23.2 MB 7.4 MB/s eta 0:00:01\r",
       "\u001b[K     |██████████████████████████████▉ | 23.2 MB 7.4 MB/s eta 0:00:01\r",
       "\u001b[K     |██████████████████████████████▉ | 23.2 MB 7.4 MB/s eta 0:00:01\r",
       "\u001b[K     |██████████████████████████████▉ | 23.2 MB 7.4 MB/s eta 0:00:01\r",
       "\u001b[K     |██████████████████████████████▉ | 23.2 MB 7.4 MB/s eta 0:00:01\r",
       "\u001b[K     |██████████████████████████████▉ | 23.2 MB 7.4 MB/s eta 0:00:01\r",
       "\u001b[K     |██████████████████████████████▉ | 23.2 MB 7.4 MB/s eta 0:00:01\r",
       "\u001b[K     |██████████████████████████████▉ | 23.2 MB 7.4 MB/s eta 0:00:01\r",
       "\u001b[K     |███████████████████████████████ | 23.3 MB 7.4 MB/s eta 0:00:01\r",
       "\u001b[K     |███████████████████████████████ | 23.3 MB 7.4 MB/s eta 0:00:01\r",
       "\u001b[K     |███████████████████████████████ | 23.3 MB 7.4 MB/s eta 0:00:01\r",
       "\u001b[K     |███████████████████████████████ | 23.3 MB 7.4 MB/s eta 0:00:01\r",
       "\u001b[K     |███████████████████████████████ | 23.3 MB 7.4 MB/s eta 0:00:01\r",
       "\u001b[K     |███████████████████████████████ | 23.3 MB 7.4 MB/s eta 0:00:01\r",
       "\u001b[K     |███████████████████████████████ | 23.3 MB 7.4 MB/s eta 0:00:01\r",
       "\u001b[K     |███████████████████████████████ | 23.3 MB 7.4 MB/s eta 0:00:01\r",
       "\u001b[K     |███████████████████████████████ | 23.3 MB 7.4 MB/s eta 0:00:01\r",
       "\u001b[K     |███████████████████████████████ | 23.3 MB 7.4 MB/s eta 0:00:01\r",
       "\u001b[K     |███████████████████████████████ | 23.4 MB 7.4 MB/s eta 0:00:01\r",
       "\u001b[K     |███████████████████████████████ | 23.4 MB 7.4 MB/s eta 0:00:01\r",
       "\u001b[K     |███████████████████████████████ | 23.4 MB 7.4 MB/s eta 0:00:01\r",
       "\u001b[K     |███████████████████████████████ | 23.4 MB 7.4 MB/s eta 0:00:01\r",
       "\u001b[K     |███████████████████████████████ | 23.4 MB 7.4 MB/s eta 0:00:01\r",
       "\u001b[K     |███████████████████████████████ | 23.4 MB 7.4 MB/s eta 0:00:01\r",
       "\u001b[K     |███████████████████████████████▏| 23.4 MB 7.4 MB/s eta 0:00:01\r",
       "\u001b[K     |███████████████████████████████▏| 23.4 MB 7.4 MB/s eta 0:00:01\r",
       "\u001b[K     |███████████████████████████████▏| 23.4 MB 7.4 MB/s eta 0:00:01\r",
       "\u001b[K     |███████████████████████████████▏| 23.4 MB 7.4 MB/s eta 0:00:01\r",
       "\u001b[K     |███████████████████████████████▏| 23.5 MB 7.4 MB/s eta 0:00:01\r",
       "\u001b[K     |███████████████████████████████▏| 23.5 MB 7.4 MB/s eta 0:00:01\r",
       "\u001b[K     |███████████████████████████████▏| 23.5 MB 7.4 MB/s eta 0:00:01\r",
       "\u001b[K     |███████████████████████████████▏| 23.5 MB 7.4 MB/s eta 0:00:01\r",
       "\u001b[K     |███████████████████████████████▏| 23.5 MB 7.4 MB/s eta 0:00:01\r",
       "\u001b[K     |███████████████████████████████▎| 23.5 MB 7.4 MB/s eta 0:00:01\r",
       "\u001b[K     |███████████████████████████████▎| 23.5 MB 7.4 MB/s eta 0:00:01\r",
       "\u001b[K     |███████████████████████████████▎| 23.5 MB 7.4 MB/s eta 0:00:01\r",
       "\u001b[K     |███████████████████████████████▎| 23.5 MB 7.4 MB/s eta 0:00:01\r",
       "\u001b[K     |███████████████████████████████▎| 23.6 MB 7.4 MB/s eta 0:00:01\r",
       "\u001b[K     |███████████████████████████████▎| 23.6 MB 7.4 MB/s eta 0:00:01\r",
       "\u001b[K     |███████████████████████████████▎| 23.6 MB 7.4 MB/s eta 0:00:01\r",
       "\u001b[K     |███████████████████████████████▎| 23.6 MB 7.4 MB/s eta 0:00:01\r",
       "\u001b[K     |███████████████████████████████▍| 23.6 MB 7.4 MB/s eta 0:00:01\r",
       "\u001b[K     |███████████████████████████████▍| 23.6 MB 7.4 MB/s eta 0:00:01\r",
       "\u001b[K     |███████████████████████████████▍| 23.6 MB 7.4 MB/s eta 0:00:01\r",
       "\u001b[K     |███████████████████████████████▍| 23.6 MB 7.4 MB/s eta 0:00:01\r",
       "\u001b[K     |███████████████████████████████▍| 23.6 MB 7.4 MB/s eta 0:00:01\r",
       "\u001b[K     |███████████████████████████████▍| 23.6 MB 7.4 MB/s eta 0:00:01\r",
       "\u001b[K     |███████████████████████████████▍| 23.7 MB 7.4 MB/s eta 0:00:01\r",
       "\u001b[K     |███████████████████████████████▍| 23.7 MB 7.4 MB/s eta 0:00:01\r",
       "\u001b[K     |███████████████████████████████▌| 23.7 MB 7.4 MB/s eta 0:00:01\r",
       "\u001b[K     |███████████████████████████████▌| 23.7 MB 7.4 MB/s eta 0:00:01\r",
       "\u001b[K     |███████████████████████████████▌| 23.7 MB 7.4 MB/s eta 0:00:01\r",
       "\u001b[K     |███████████████████████████████▌| 23.7 MB 7.4 MB/s eta 0:00:01\r",
       "\u001b[K     |███████████████████████████████▌| 23.7 MB 7.4 MB/s eta 0:00:01\r",
       "\u001b[K     |███████████████████████████████▌| 23.7 MB 7.4 MB/s eta 0:00:01\r",
       "\u001b[K     |███████████████████████████████▌| 23.7 MB 7.4 MB/s eta 0:00:01\r",
       "\u001b[K     |███████████████████████████████▌| 23.7 MB 7.4 MB/s eta 0:00:01\r",
       "\u001b[K     |███████████████████████████████▋| 23.8 MB 7.4 MB/s eta 0:00:01\r",
       "\u001b[K     |███████████████████████████████▋| 23.8 MB 7.4 MB/s eta 0:00:01\r",
       "\u001b[K     |███████████████████████████████▋| 23.8 MB 7.4 MB/s eta 0:00:01\r",
       "\u001b[K     |███████████████████████████████▋| 23.8 MB 7.4 MB/s eta 0:00:01\r",
       "\u001b[K     |███████████████████████████████▋| 23.8 MB 7.4 MB/s eta 0:00:01\r",
       "\u001b[K     |███████████████████████████████▋| 23.8 MB 7.4 MB/s eta 0:00:01\r",
       "\u001b[K     |███████████████████████████████▋| 23.8 MB 7.4 MB/s eta 0:00:01\r",
       "\u001b[K     |███████████████████████████████▋| 23.8 MB 7.4 MB/s eta 0:00:01\r",
       "\u001b[K     |███████████████████████████████▊| 23.8 MB 7.4 MB/s eta 0:00:01\r",
       "\u001b[K     |███████████████████████████████▊| 23.8 MB 7.4 MB/s eta 0:00:01\r",
       "\u001b[K     |███████████████████████████████▊| 23.9 MB 7.4 MB/s eta 0:00:01\r",
       "\u001b[K     |███████████████████████████████▊| 23.9 MB 7.4 MB/s eta 0:00:01\r",
       "\u001b[K     |███████████████████████████████▊| 23.9 MB 7.4 MB/s eta 0:00:01\r",
       "\u001b[K     |███████████████████████████████▊| 23.9 MB 7.4 MB/s eta 0:00:01\r",
       "\u001b[K     |███████████████████████████████▊| 23.9 MB 7.4 MB/s eta 0:00:01\r",
       "\u001b[K     |███████████████████████████████▊| 23.9 MB 7.4 MB/s eta 0:00:01\r",
       "\u001b[K     |███████████████████████████████▉| 23.9 MB 7.4 MB/s eta 0:00:01\r",
       "\u001b[K     |███████████████████████████████▉| 23.9 MB 7.4 MB/s eta 0:00:01\r",
       "\u001b[K     |███████████████████████████████▉| 23.9 MB 7.4 MB/s eta 0:00:01\r",
       "\u001b[K     |███████████████████████████████▉| 24.0 MB 7.4 MB/s eta 0:00:01\r",
       "\u001b[K     |███████████████████████████████▉| 24.0 MB 7.4 MB/s eta 0:00:01\r",
       "\u001b[K     |███████████████████████████████▉| 24.0 MB 7.4 MB/s eta 0:00:01\r",
       "\u001b[K     |███████████████████████████████▉| 24.0 MB 7.4 MB/s eta 0:00:01\r",
       "\u001b[K     |███████████████████████████████▉| 24.0 MB 7.4 MB/s eta 0:00:01\r",
       "\u001b[K     |███████████████████████████████▉| 24.0 MB 7.4 MB/s eta 0:00:01\r",
       "\u001b[K     |████████████████████████████████| 24.0 MB 7.4 MB/s eta 0:00:01\r",
       "\u001b[K     |████████████████████████████████| 24.0 MB 7.4 MB/s eta 0:00:01\r",
       "\u001b[K     |████████████████████████████████| 24.0 MB 7.4 MB/s eta 0:00:01\r",
       "\u001b[K     |████████████████████████████████| 24.0 MB 7.4 MB/s eta 0:00:01\r",
       "\u001b[K     |████████████████████████████████| 24.1 MB 7.4 MB/s eta 0:00:01\r",
       "\u001b[K     |████████████████████████████████| 24.1 MB 7.4 MB/s eta 0:00:01\r",
       "\u001b[K     |████████████████████████████████| 24.1 MB 7.4 MB/s eta 0:00:01\r",
       "\u001b[K     |████████████████████████████████| 24.1 MB 7.4 MB/s eta 0:00:01\r",
       "\u001b[K     |████████████████████████████████| 24.1 MB 7.4 MB/s \r\n",
       "\u001b[?25hRequirement already satisfied: scipy>=0.18.1 in /databricks/python3/lib/python3.8/site-packages (from gensim) (1.6.2)\r\n",
       "Requirement already satisfied: numpy>=1.17.0 in /databricks/python3/lib/python3.8/site-packages (from gensim) (1.20.1)\r\n",
       "Collecting smart-open>=1.8.1\r\n",
       "  Downloading smart_open-6.2.0-py3-none-any.whl (58 kB)\r\n",
       "\u001b[?25l\r",
       "\u001b[K     |█████▋                          | 10 kB 34.5 MB/s eta 0:00:01\r",
       "\u001b[K     |███████████▏                    | 20 kB 38.1 MB/s eta 0:00:01\r",
       "\u001b[K     |████████████████▊               | 30 kB 44.4 MB/s eta 0:00:01\r",
       "\u001b[K     |██████████████████████▍         | 40 kB 46.8 MB/s eta 0:00:01\r",
       "\u001b[K     |████████████████████████████    | 51 kB 48.3 MB/s eta 0:00:01\r",
       "\u001b[K     |████████████████████████████████| 58 kB 9.7 MB/s \r\n",
       "\u001b[?25hInstalling collected packages: smart-open, gensim\r\n",
       "Successfully installed gensim-4.2.0 smart-open-6.2.0\r\n",
       "\u001b[33mWARNING: You are using pip version 21.0.1; however, version 22.3.1 is available.\r\n",
       "You should consider upgrading via the '/databricks/python3/bin/python -m pip install --upgrade pip' command.\u001b[0m\r\n"
      ]
     },
     "metadata": {
      "application/vnd.databricks.v1+output": {
       "addedWidgets": {},
       "arguments": {},
       "data": "Collecting gensim\r\n  Downloading gensim-4.2.0-cp38-cp38-manylinux_2_12_x86_64.manylinux2010_x86_64.whl (24.1 MB)\r\n\u001b[?25l\r\u001b[K     |                                | 10 kB 21.8 MB/s eta 0:00:02\r\u001b[K     |                                | 20 kB 23.4 MB/s eta 0:00:02\r\u001b[K     |                                | 30 kB 12.2 MB/s eta 0:00:02\r\u001b[K     |                                | 40 kB 7.0 MB/s eta 0:00:04\r\u001b[K     |                                | 51 kB 6.6 MB/s eta 0:00:04\r\u001b[K     |                                | 61 kB 7.6 MB/s eta 0:00:04\r\u001b[K     |                                | 71 kB 7.7 MB/s eta 0:00:04\r\u001b[K     |                                | 81 kB 8.6 MB/s eta 0:00:03\r\u001b[K     |▏                               | 92 kB 7.3 MB/s eta 0:00:04\r\u001b[K     |▏                               | 102 kB 7.4 MB/s eta 0:00:04\r\u001b[K     |▏                               | 112 kB 7.4 MB/s eta 0:00:04\r\u001b[K     |▏                               | 122 kB 7.4 MB/s eta 0:00:04\r\u001b[K     |▏                               | 133 kB 7.4 MB/s eta 0:00:04\r\u001b[K     |▏                               | 143 kB 7.4 MB/s eta 0:00:04\r\u001b[K     |▏                               | 153 kB 7.4 MB/s eta 0:00:04\r\u001b[K     |▏                               | 163 kB 7.4 MB/s eta 0:00:04\r\u001b[K     |▎                               | 174 kB 7.4 MB/s eta 0:00:04\r\u001b[K     |▎                               | 184 kB 7.4 MB/s eta 0:00:04\r\u001b[K     |▎                               | 194 kB 7.4 MB/s eta 0:00:04\r\u001b[K     |▎                               | 204 kB 7.4 MB/s eta 0:00:04\r\u001b[K     |▎                               | 215 kB 7.4 MB/s eta 0:00:04\r\u001b[K     |▎                               | 225 kB 7.4 MB/s eta 0:00:04\r\u001b[K     |▎                               | 235 kB 7.4 MB/s eta 0:00:04\r\u001b[K     |▎                               | 245 kB 7.4 MB/s eta 0:00:04\r\u001b[K     |▍                               | 256 kB 7.4 MB/s eta 0:00:04\r\u001b[K     |▍                               | 266 kB 7.4 MB/s eta 0:00:04\r\u001b[K     |▍                               | 276 kB 7.4 MB/s eta 0:00:04\r\u001b[K     |▍                               | 286 kB 7.4 MB/s eta 0:00:04\r\u001b[K     |▍                               | 296 kB 7.4 MB/s eta 0:00:04\r\u001b[K     |▍                               | 307 kB 7.4 MB/s eta 0:00:04\r\u001b[K     |▍                               | 317 kB 7.4 MB/s eta 0:00:04\r\u001b[K     |▍                               | 327 kB 7.4 MB/s eta 0:00:04\r\u001b[K     |▌                               | 337 kB 7.4 MB/s eta 0:00:04\r\u001b[K     |▌                               | 348 kB 7.4 MB/s eta 0:00:04\r\u001b[K     |▌                               | 358 kB 7.4 MB/s eta 0:00:04\r\u001b[K     |▌                               | 368 kB 7.4 MB/s eta 0:00:04\r\u001b[K     |▌                               | 378 kB 7.4 MB/s eta 0:00:04\r\u001b[K     |▌                               | 389 kB 7.4 MB/s eta 0:00:04\r\u001b[K     |▌                               | 399 kB 7.4 MB/s eta 0:00:04\r\u001b[K     |▌                               | 409 kB 7.4 MB/s eta 0:00:04\r\u001b[K     |▋                               | 419 kB 7.4 MB/s eta 0:00:04\r\u001b[K     |▋                               | 430 kB 7.4 MB/s eta 0:00:04\r\u001b[K     |▋                               | 440 kB 7.4 MB/s eta 0:00:04\r\u001b[K     |▋                               | 450 kB 7.4 MB/s eta 0:00:04\r\u001b[K     |▋                               | 460 kB 7.4 MB/s eta 0:00:04\r\u001b[K     |▋                               | 471 kB 7.4 MB/s eta 0:00:04\r\u001b[K     |▋                               | 481 kB 7.4 MB/s eta 0:00:04\r\u001b[K     |▋                               | 491 kB 7.4 MB/s eta 0:00:04\r\u001b[K     |▋                               | 501 kB 7.4 MB/s eta 0:00:04\r\u001b[K     |▊                               | 512 kB 7.4 MB/s eta 0:00:04\r\u001b[K     |▊                               | 522 kB 7.4 MB/s eta 0:00:04\r\u001b[K     |▊                               | 532 kB 7.4 MB/s eta 0:00:04\r\u001b[K     |▊                               | 542 kB 7.4 MB/s eta 0:00:04\r\u001b[K     |▊                               | 552 kB 7.4 MB/s eta 0:00:04\r\u001b[K     |▊                               | 563 kB 7.4 MB/s eta 0:00:04\r\u001b[K     |▊                               | 573 kB 7.4 MB/s eta 0:00:04\r\u001b[K     |▊                               | 583 kB 7.4 MB/s eta 0:00:04\r\u001b[K     |▉                               | 593 kB 7.4 MB/s eta 0:00:04\r\u001b[K     |▉                               | 604 kB 7.4 MB/s eta 0:00:04\r\u001b[K     |▉                               | 614 kB 7.4 MB/s eta 0:00:04\r\u001b[K     |▉                               | 624 kB 7.4 MB/s eta 0:00:04\r\u001b[K     |▉                               | 634 kB 7.4 MB/s eta 0:00:04\r\u001b[K     |▉                               | 645 kB 7.4 MB/s eta 0:00:04\r\u001b[K     |▉                               | 655 kB 7.4 MB/s eta 0:00:04\r\u001b[K     |▉                               | 665 kB 7.4 MB/s eta 0:00:04\r\u001b[K     |█                               | 675 kB 7.4 MB/s eta 0:00:04\r\u001b[K     |█                               | 686 kB 7.4 MB/s eta 0:00:04\r\u001b[K     |█                               | 696 kB 7.4 MB/s eta 0:00:04\r\u001b[K     |█                               | 706 kB 7.4 MB/s eta 0:00:04\r\u001b[K     |█                               | 716 kB 7.4 MB/s eta 0:00:04\r\u001b[K     |█                               | 727 kB 7.4 MB/s eta 0:00:04\r\u001b[K     |█                               | 737 kB 7.4 MB/s eta 0:00:04\r\u001b[K     |█                               | 747 kB 7.4 MB/s eta 0:00:04\r\u001b[K     |█                               | 757 kB 7.4 MB/s eta 0:00:04\r\u001b[K     |█                               | 768 kB 7.4 MB/s eta 0:00:04\r\u001b[K     |█                               | 778 kB 7.4 MB/s eta 0:00:04\r\u001b[K     |█                               | 788 kB 7.4 MB/s eta 0:00:04\r\u001b[K     |█                               | 798 kB 7.4 MB/s eta 0:00:04\r\u001b[K     |█                               | 808 kB 7.4 MB/s eta 0:00:04\r\u001b[K     |█                               | 819 kB 7.4 MB/s eta 0:00:04\r\u001b[K     |█                               | 829 kB 7.4 MB/s eta 0:00:04\r\u001b[K     |█▏                              | 839 kB 7.4 MB/s eta 0:00:04\r\u001b[K     |█▏                              | 849 kB 7.4 MB/s eta 0:00:04\r\u001b[K     |█▏                              | 860 kB 7.4 MB/s eta 0:00:04\r\u001b[K     |█▏                              | 870 kB 7.4 MB/s eta 0:00:04\r\u001b[K     |█▏                              | 880 kB 7.4 MB/s eta 0:00:04\r\u001b[K     |█▏                              | 890 kB 7.4 MB/s eta 0:00:04\r\u001b[K     |█▏                              | 901 kB 7.4 MB/s eta 0:00:04\r\u001b[K     |█▏                              | 911 kB 7.4 MB/s eta 0:00:04\r\u001b[K     |█▎                              | 921 kB 7.4 MB/s eta 0:00:04\r\u001b[K     |█▎                              | 931 kB 7.4 MB/s eta 0:00:04\r\u001b[K     |█▎                              | 942 kB 7.4 MB/s eta 0:00:04\r\u001b[K     |█▎                              | 952 kB 7.4 MB/s eta 0:00:04\r\u001b[K     |█▎                              | 962 kB 7.4 MB/s eta 0:00:04\r\u001b[K     |█▎                              | 972 kB 7.4 MB/s eta 0:00:04\r\u001b[K     |█▎                              | 983 kB 7.4 MB/s eta 0:00:04\r\u001b[K     |█▎                              | 993 kB 7.4 MB/s eta 0:00:04\r\u001b[K     |█▎                              | 1.0 MB 7.4 MB/s eta 0:00:04\r\u001b[K     |█▍                              | 1.0 MB 7.4 MB/s eta 0:00:04\r\u001b[K     |█▍                              | 1.0 MB 7.4 MB/s eta 0:00:04\r\u001b[K     |█▍                              | 1.0 MB 7.4 MB/s eta 0:00:04\r\u001b[K     |█▍                              | 1.0 MB 7.4 MB/s eta 0:00:04\r\u001b[K     |█▍                              | 1.1 MB 7.4 MB/s eta 0:00:04\r\u001b[K     |█▍                              | 1.1 MB 7.4 MB/s eta 0:00:04\r\u001b[K     |█▍                              | 1.1 MB 7.4 MB/s eta 0:00:04\r\u001b[K     |█▍                              | 1.1 MB 7.4 MB/s eta 0:00:04\r\u001b[K     |█▌                              | 1.1 MB 7.4 MB/s eta 0:00:04\r\u001b[K     |█▌                              | 1.1 MB 7.4 MB/s eta 0:00:04\r\u001b[K     |█▌                              | 1.1 MB 7.4 MB/s eta 0:00:04\r\u001b[K     |█▌                              | 1.1 MB 7.4 MB/s eta 0:00:04\r\u001b[K     |█▌                              | 1.1 MB 7.4 MB/s eta 0:00:04\r\u001b[K     |█▌                              | 1.1 MB 7.4 MB/s eta 0:00:04\r\u001b[K     |█▌                              | 1.2 MB 7.4 MB/s eta 0:00:04\r\u001b[K     |█▌                              | 1.2 MB 7.4 MB/s eta 0:00:04\r\u001b[K     |█▋                              | 1.2 MB 7.4 MB/s eta 0:00:04\r\u001b[K     |█▋                              | 1.2 MB 7.4 MB/s eta 0:00:04\r\u001b[K     |█▋                              | 1.2 MB 7.4 MB/s eta 0:00:04\r\u001b[K     |█▋                              | 1.2 MB 7.4 MB/s eta 0:00:04\r\u001b[K     |█▋                              | 1.2 MB 7.4 MB/s eta 0:00:04\r\u001b[K     |█▋                              | 1.2 MB 7.4 MB/s eta 0:00:04\r\u001b[K     |█▋                              | 1.2 MB 7.4 MB/s eta 0:00:04\r\u001b[K     |█▋                              | 1.2 MB 7.4 MB/s eta 0:00:04\r\u001b[K     |█▊                              | 1.3 MB 7.4 MB/s eta 0:00:04\r\u001b[K     |█▊                              | 1.3 MB 7.4 MB/s eta 0:00:04\r\u001b[K     |█▊                              | 1.3 MB 7.4 MB/s eta 0:00:04\r\u001b[K     |█▊                              | 1.3 MB 7.4 MB/s eta 0:00:04\r\u001b[K     |█▊                              | 1.3 MB 7.4 MB/s eta 0:00:04\r\u001b[K     |█▊                              | 1.3 MB 7.4 MB/s eta 0:00:04\r\u001b[K     |█▊                              | 1.3 MB 7.4 MB/s eta 0:00:04\r\u001b[K     |█▊                              | 1.3 MB 7.4 MB/s eta 0:00:04\r\u001b[K     |█▉                              | 1.3 MB 7.4 MB/s eta 0:00:04\r\u001b[K     |█▉                              | 1.4 MB 7.4 MB/s eta 0:00:04\r\u001b[K     |█▉                              | 1.4 MB 7.4 MB/s eta 0:00:04\r\u001b[K     |█▉                              | 1.4 MB 7.4 MB/s eta 0:00:04\r\u001b[K     |█▉                              | 1.4 MB 7.4 MB/s eta 0:00:04\r\u001b[K     |█▉                              | 1.4 MB 7.4 MB/s eta 0:00:04\r\u001b[K     |█▉                              | 1.4 MB 7.4 MB/s eta 0:00:04\r\u001b[K     |█▉                              | 1.4 MB 7.4 MB/s eta 0:00:04\r\u001b[K     |██                              | 1.4 MB 7.4 MB/s eta 0:00:04\r\u001b[K     |██                              | 1.4 MB 7.4 MB/s eta 0:00:04\r\u001b[K     |██                              | 1.4 MB 7.4 MB/s eta 0:00:04\r\u001b[K     |██                              | 1.5 MB 7.4 MB/s eta 0:00:04\r\u001b[K     |██                              | 1.5 MB 7.4 MB/s eta 0:00:04\r\u001b[K     |██                              | 1.5 MB 7.4 MB/s eta 0:00:04\r\u001b[K     |██                              | 1.5 MB 7.4 MB/s eta 0:00:04\r\u001b[K     |██                              | 1.5 MB 7.4 MB/s eta 0:00:04\r\u001b[K     |██                              | 1.5 MB 7.4 MB/s eta 0:00:04\r\u001b[K     |██                              | 1.5 MB 7.4 MB/s eta 0:00:04\r\u001b[K     |██                              | 1.5 MB 7.4 MB/s eta 0:00:04\r\u001b[K     |██                              | 1.5 MB 7.4 MB/s eta 0:00:04\r\u001b[K     |██                              | 1.5 MB 7.4 MB/s eta 0:00:04\r\u001b[K     |██                              | 1.6 MB 7.4 MB/s eta 0:00:04\r\u001b[K     |██                              | 1.6 MB 7.4 MB/s eta 0:00:04\r\u001b[K     |██                              | 1.6 MB 7.4 MB/s eta 0:00:04\r\u001b[K     |██                              | 1.6 MB 7.4 MB/s eta 0:00:04\r\u001b[K     |██▏                             | 1.6 MB 7.4 MB/s eta 0:00:04\r\u001b[K     |██▏                             | 1.6 MB 7.4 MB/s eta 0:00:04\r\u001b[K     |██▏                             | 1.6 MB 7.4 MB/s eta 0:00:04\r\u001b[K     |██▏                             | 1.6 MB 7.4 MB/s eta 0:00:04\r\u001b[K     |██▏                             | 1.6 MB 7.4 MB/s eta 0:00:04\r\u001b[K     |██▏                             | 1.6 MB 7.4 MB/s eta 0:00:04\r\u001b[K     |██▏                             | 1.7 MB 7.4 MB/s eta 0:00:04\r\u001b[K     |██▏                             | 1.7 MB 7.4 MB/s eta 0:00:04\r\u001b[K     |██▎                             | 1.7 MB 7.4 MB/s eta 0:00:04\r\u001b[K     |██▎                             | 1.7 MB 7.4 MB/s eta 0:00:04\r\u001b[K     |██▎                             | 1.7 MB 7.4 MB/s eta 0:00:04\r\u001b[K     |██▎                             | 1.7 MB 7.4 MB/s eta 0:00:04\r\u001b[K     |██▎                             | 1.7 MB 7.4 MB/s eta 0:00:04\r\u001b[K     |██▎                             | 1.7 MB 7.4 MB/s eta 0:00:04\r\u001b[K     |██▎                             | 1.7 MB 7.4 MB/s eta 0:00:04\r\u001b[K     |██▎                             | 1.8 MB 7.4 MB/s eta 0:00:04\r\u001b[K     |██▍                             | 1.8 MB 7.4 MB/s eta 0:00:04\r\u001b[K     |██▍                             | 1.8 MB 7.4 MB/s eta 0:00:04\r\u001b[K     |██▍                             | 1.8 MB 7.4 MB/s eta 0:00:04\r\u001b[K     |██▍                             | 1.8 MB 7.4 MB/s eta 0:00:04\r\u001b[K     |██▍                             | 1.8 MB 7.4 MB/s eta 0:00:04\r\u001b[K     |██▍                             | 1.8 MB 7.4 MB/s eta 0:00:04\r\u001b[K     |██▍                             | 1.8 MB 7.4 MB/s eta 0:00:04\r\u001b[K     |██▍                             | 1.8 MB 7.4 MB/s eta 0:00:04\r\u001b[K     |██▌                             | 1.8 MB 7.4 MB/s eta 0:00:04\r\u001b[K     |██▌                             | 1.9 MB 7.4 MB/s eta 0:00:03\r\u001b[K     |██▌                             | 1.9 MB 7.4 MB/s eta 0:00:03\r\u001b[K     |██▌                             | 1.9 MB 7.4 MB/s eta 0:00:03\r\u001b[K     |██▌                             | 1.9 MB 7.4 MB/s eta 0:00:03\r\u001b[K     |██▌                             | 1.9 MB 7.4 MB/s eta 0:00:03\r\u001b[K     |██▌                             | 1.9 MB 7.4 MB/s eta 0:00:03\r\u001b[K     |██▌                             | 1.9 MB 7.4 MB/s eta 0:00:03\r\u001b[K     |██▋                             | 1.9 MB 7.4 MB/s eta 0:00:03\r\u001b[K     |██▋                             | 1.9 MB 7.4 MB/s eta 0:00:03\r\u001b[K     |██▋                             | 1.9 MB 7.4 MB/s eta 0:00:03\r\u001b[K     |██▋                             | 2.0 MB 7.4 MB/s eta 0:00:03\r\u001b[K     |██▋                             | 2.0 MB 7.4 MB/s eta 0:00:03\r\u001b[K     |██▋                             | 2.0 MB 7.4 MB/s eta 0:00:03\r\u001b[K     |██▋                             | 2.0 MB 7.4 MB/s eta 0:00:03\r\u001b[K     |██▋                             | 2.0 MB 7.4 MB/s eta 0:00:03\r\u001b[K     |██▋                             | 2.0 MB 7.4 MB/s eta 0:00:03\r\u001b[K     |██▊                             | 2.0 MB 7.4 MB/s eta 0:00:03\r\u001b[K     |██▊                             | 2.0 MB 7.4 MB/s eta 0:00:03\r\u001b[K     |██▊                             | 2.0 MB 7.4 MB/s eta 0:00:03\r\u001b[K     |██▊                             | 2.0 MB 7.4 MB/s eta 0:00:03\r\u001b[K     |██▊                             | 2.1 MB 7.4 MB/s eta 0:00:03\r\u001b[K     |██▊                             | 2.1 MB 7.4 MB/s eta 0:00:03\r\u001b[K     |██▊                             | 2.1 MB 7.4 MB/s eta 0:00:03\r\u001b[K     |██▊                             | 2.1 MB 7.4 MB/s eta 0:00:03\r\u001b[K     |██▉                             | 2.1 MB 7.4 MB/s eta 0:00:03\r\u001b[K     |██▉                             | 2.1 MB 7.4 MB/s eta 0:00:03\r\u001b[K     |██▉                             | 2.1 MB 7.4 MB/s eta 0:00:03\r\u001b[K     |██▉                             | 2.1 MB 7.4 MB/s eta 0:00:03\r\u001b[K     |██▉                             | 2.1 MB 7.4 MB/s eta 0:00:03\r\u001b[K     |██▉                             | 2.2 MB 7.4 MB/s eta 0:00:03\r\u001b[K     |██▉                             | 2.2 MB 7.4 MB/s eta 0:00:03\r\u001b[K     |██▉                             | 2.2 MB 7.4 MB/s eta 0:00:03\r\u001b[K     |███                             | 2.2 MB 7.4 MB/s eta 0:00:03\r\u001b[K     |███                             | 2.2 MB 7.4 MB/s eta 0:00:03\r\u001b[K     |███                             | 2.2 MB 7.4 MB/s eta 0:00:03\r\u001b[K     |███                             | 2.2 MB 7.4 MB/s eta 0:00:03\r\u001b[K     |███                             | 2.2 MB 7.4 MB/s eta 0:00:03\r\u001b[K     |███                             | 2.2 MB 7.4 MB/s eta 0:00:03\r\u001b[K     |███                             | 2.2 MB 7.4 MB/s eta 0:00:03\r\u001b[K     |███                             | 2.3 MB 7.4 MB/s eta 0:00:03\r\u001b[K     |███                             | 2.3 MB 7.4 MB/s eta 0:00:03\r\u001b[K     |███                             | 2.3 MB 7.4 MB/s eta 0:00:03\r\u001b[K     |███                             | 2.3 MB 7.4 MB/s eta 0:00:03\r\u001b[K     |███                             | 2.3 MB 7.4 MB/s eta 0:00:03\r\u001b[K     |███                             | 2.3 MB 7.4 MB/s eta 0:00:03\r\u001b[K     |███                             | 2.3 MB 7.4 MB/s eta 0:00:03\r\u001b[K     |███                             | 2.3 MB 7.4 MB/s eta 0:00:03\r\u001b[K     |███                             | 2.3 MB 7.4 MB/s eta 0:00:03\r\u001b[K     |███▏                            | 2.3 MB 7.4 MB/s eta 0:00:03\r\u001b[K     |███▏                            | 2.4 MB 7.4 MB/s eta 0:00:03\r\u001b[K     |███▏                            | 2.4 MB 7.4 MB/s eta 0:00:03\r\u001b[K     |███▏                            | 2.4 MB 7.4 MB/s eta 0:00:03\r\u001b[K     |███▏                            | 2.4 MB 7.4 MB/s eta 0:00:03\r\u001b[K     |███▏                            | 2.4 MB 7.4 MB/s eta 0:00:03\r\u001b[K     |███▏                            | 2.4 MB 7.4 MB/s eta 0:00:03\r\u001b[K     |███▏                            | 2.4 MB 7.4 MB/s eta 0:00:03\r\u001b[K     |███▎                            | 2.4 MB 7.4 MB/s eta 0:00:03\r\u001b[K     |███▎                            | 2.4 MB 7.4 MB/s eta 0:00:03\r\u001b[K     |███▎                            | 2.4 MB 7.4 MB/s eta 0:00:03\r\u001b[K     |███▎                            | 2.5 MB 7.4 MB/s eta 0:00:03\r\u001b[K     |███▎                            | 2.5 MB 7.4 MB/s eta 0:00:03\r\u001b[K     |███▎                            | 2.5 MB 7.4 MB/s eta 0:00:03\r\u001b[K     |███▎                            | 2.5 MB 7.4 MB/s eta 0:00:03\r\u001b[K     |███▎                            | 2.5 MB 7.4 MB/s eta 0:00:03\r\u001b[K     |███▎                            | 2.5 MB 7.4 MB/s eta 0:00:03\r\u001b[K     |███▍                            | 2.5 MB 7.4 MB/s eta 0:00:03\r\u001b[K     |███▍                            | 2.5 MB 7.4 MB/s eta 0:00:03\r\u001b[K     |███▍                            | 2.5 MB 7.4 MB/s eta 0:00:03\r\u001b[K     |███▍                            | 2.5 MB 7.4 MB/s eta 0:00:03\r\u001b[K     |███▍                            | 2.6 MB 7.4 MB/s eta 0:00:03\r\u001b[K     |███▍                            | 2.6 MB 7.4 MB/s eta 0:00:03\r\u001b[K     |███▍                            | 2.6 MB 7.4 MB/s eta 0:00:03\r\u001b[K     |███▍                            | 2.6 MB 7.4 MB/s eta 0:00:03\r\u001b[K     |███▌                            | 2.6 MB 7.4 MB/s eta 0:00:03\r\u001b[K     |███▌                            | 2.6 MB 7.4 MB/s eta 0:00:03\r\u001b[K     |███▌                            | 2.6 MB 7.4 MB/s eta 0:00:03\r\u001b[K     |███▌                            | 2.6 MB 7.4 MB/s eta 0:00:03\r\u001b[K     |███▌                            | 2.6 MB 7.4 MB/s eta 0:00:03\r\u001b[K     |███▌                            | 2.7 MB 7.4 MB/s eta 0:00:03\r\u001b[K     |███▌                            | 2.7 MB 7.4 MB/s eta 0:00:03\r\u001b[K     |███▌                            | 2.7 MB 7.4 MB/s eta 0:00:03\r\u001b[K     |███▋                            | 2.7 MB 7.4 MB/s eta 0:00:03\r\u001b[K     |███▋                            | 2.7 MB 7.4 MB/s eta 0:00:03\r\u001b[K     |███▋                            | 2.7 MB 7.4 MB/s eta 0:00:03\r\u001b[K     |███▋                            | 2.7 MB 7.4 MB/s eta 0:00:03\r\u001b[K     |███▋                            | 2.7 MB 7.4 MB/s eta 0:00:03\r\u001b[K     |███▋                            | 2.7 MB 7.4 MB/s eta 0:00:03\r\u001b[K     |███▋                            | 2.7 MB 7.4 MB/s eta 0:00:03\r\u001b[K     |███▋                            | 2.8 MB 7.4 MB/s eta 0:00:03\r\u001b[K     |███▊                            | 2.8 MB 7.4 MB/s eta 0:00:03\r\u001b[K     |███▊                            | 2.8 MB 7.4 MB/s eta 0:00:03\r\u001b[K     |███▊                            | 2.8 MB 7.4 MB/s eta 0:00:03\r\u001b[K     |███▊                            | 2.8 MB 7.4 MB/s eta 0:00:03\r\u001b[K     |███▊                            | 2.8 MB 7.4 MB/s eta 0:00:03\r\u001b[K     |███▊                            | 2.8 MB 7.4 MB/s eta 0:00:03\r\u001b[K     |███▊                            | 2.8 MB 7.4 MB/s eta 0:00:03\r\u001b[K     |███▊                            | 2.8 MB 7.4 MB/s eta 0:00:03\r\u001b[K     |███▉                            | 2.8 MB 7.4 MB/s eta 0:00:03\r\u001b[K     |███▉                            | 2.9 MB 7.4 MB/s eta 0:00:03\r\u001b[K     |███▉                            | 2.9 MB 7.4 MB/s eta 0:00:03\r\u001b[K     |███▉                            | 2.9 MB 7.4 MB/s eta 0:00:03\r\u001b[K     |███▉                            | 2.9 MB 7.4 MB/s eta 0:00:03\r\u001b[K     |███▉                            | 2.9 MB 7.4 MB/s eta 0:00:03\r\u001b[K     |███▉                            | 2.9 MB 7.4 MB/s eta 0:00:03\r\u001b[K     |███▉                            | 2.9 MB 7.4 MB/s eta 0:00:03\r\u001b[K     |████                            | 2.9 MB 7.4 MB/s eta 0:00:03\r\u001b[K     |████                            | 2.9 MB 7.4 MB/s eta 0:00:03\r\u001b[K     |████                            | 2.9 MB 7.4 MB/s eta 0:00:03\r\u001b[K     |████                            | 3.0 MB 7.4 MB/s eta 0:00:03\r\u001b[K     |████                            | 3.0 MB 7.4 MB/s eta 0:00:03\r\u001b[K     |████                            | 3.0 MB 7.4 MB/s eta 0:00:03\r\u001b[K     |████                            | 3.0 MB 7.4 MB/s eta 0:00:03\r\u001b[K     |████                            | 3.0 MB 7.4 MB/s eta 0:00:03\r\u001b[K     |████                            | 3.0 MB 7.4 MB/s eta 0:00:03\r\u001b[K     |████                            | 3.0 MB 7.4 MB/s eta 0:00:03\r\u001b[K     |████                            | 3.0 MB 7.4 MB/s eta 0:00:03\r\u001b[K     |████                            | 3.0 MB 7.4 MB/s eta 0:00:03\r\u001b[K     |████                            | 3.1 MB 7.4 MB/s eta 0:00:03\r\u001b[K     |████                            | 3.1 MB 7.4 MB/s eta 0:00:03\r\u001b[K     |████                            | 3.1 MB 7.4 MB/s eta 0:00:03\r\u001b[K     |████                            | 3.1 MB 7.4 MB/s eta 0:00:03\r\u001b[K     |████                            | 3.1 MB 7.4 MB/s eta 0:00:03\r\u001b[K     |████▏                           | 3.1 MB 7.4 MB/s eta 0:00:03\r\u001b[K     |████▏                           | 3.1 MB 7.4 MB/s eta 0:00:03\r\u001b[K     |████▏                           | 3.1 MB 7.4 MB/s eta 0:00:03\r\u001b[K     |████▏                           | 3.1 MB 7.4 MB/s eta 0:00:03\r\u001b[K     |████▏                           | 3.1 MB 7.4 MB/s eta 0:00:03\r\u001b[K     |████▏                           | 3.2 MB 7.4 MB/s eta 0:00:03\r\u001b[K     |████▏                           | 3.2 MB 7.4 MB/s eta 0:00:03\r\u001b[K     |████▏                           | 3.2 MB 7.4 MB/s eta 0:00:03\r\u001b[K     |████▎                           | 3.2 MB 7.4 MB/s eta 0:00:03\r\u001b[K     |████▎                           | 3.2 MB 7.4 MB/s eta 0:00:03\r\u001b[K     |████▎                           | 3.2 MB 7.4 MB/s eta 0:00:03\r\u001b[K     |████▎                           | 3.2 MB 7.4 MB/s eta 0:00:03\r\u001b[K     |████▎                           | 3.2 MB 7.4 MB/s eta 0:00:03\r\u001b[K     |████▎                           | 3.2 MB 7.4 MB/s eta 0:00:03\r\u001b[K     |████▎                           | 3.2 MB 7.4 MB/s eta 0:00:03\r\u001b[K     |████▎                           | 3.3 MB 7.4 MB/s eta 0:00:03\r\u001b[K     |████▍                           | 3.3 MB 7.4 MB/s eta 0:00:03\r\u001b[K     |████▍                           | 3.3 MB 7.4 MB/s eta 0:00:03\r\u001b[K     |████▍                           | 3.3 MB 7.4 MB/s eta 0:00:03\r\u001b[K     |████▍                           | 3.3 MB 7.4 MB/s eta 0:00:03\r\u001b[K     |████▍                           | 3.3 MB 7.4 MB/s eta 0:00:03\r\u001b[K     |████▍                           | 3.3 MB 7.4 MB/s eta 0:00:03\r\u001b[K     |████▍                           | 3.3 MB 7.4 MB/s eta 0:00:03\r\u001b[K     |████▍                           | 3.3 MB 7.4 MB/s eta 0:00:03\r\u001b[K     |████▌                           | 3.3 MB 7.4 MB/s eta 0:00:03\r\u001b[K     |████▌                           | 3.4 MB 7.4 MB/s eta 0:00:03\r\u001b[K     |████▌                           | 3.4 MB 7.4 MB/s eta 0:00:03\r\u001b[K     |████▌                           | 3.4 MB 7.4 MB/s eta 0:00:03\r\u001b[K     |████▌                           | 3.4 MB 7.4 MB/s eta 0:00:03\r\u001b[K     |████▌                           | 3.4 MB 7.4 MB/s eta 0:00:03\r\u001b[K     |████▌                           | 3.4 MB 7.4 MB/s eta 0:00:03\r\u001b[K     |████▌                           | 3.4 MB 7.4 MB/s eta 0:00:03\r\u001b[K     |████▋                           | 3.4 MB 7.4 MB/s eta 0:00:03\r\u001b[K     |████▋                           | 3.4 MB 7.4 MB/s eta 0:00:03\r\u001b[K     |████▋                           | 3.5 MB 7.4 MB/s eta 0:00:03\r\u001b[K     |████▋                           | 3.5 MB 7.4 MB/s eta 0:00:03\r\u001b[K     |████▋                           | 3.5 MB 7.4 MB/s eta 0:00:03\r\u001b[K     |████▋                           | 3.5 MB 7.4 MB/s eta 0:00:03\r\u001b[K     |████▋                           | 3.5 MB 7.4 MB/s eta 0:00:03\r\u001b[K     |████▋                           | 3.5 MB 7.4 MB/s eta 0:00:03\r\u001b[K     |████▋                           | 3.5 MB 7.4 MB/s eta 0:00:03\r\u001b[K     |████▊                           | 3.5 MB 7.4 MB/s eta 0:00:03\r\u001b[K     |████▊                           | 3.5 MB 7.4 MB/s eta 0:00:03\r\u001b[K     |████▊                           | 3.5 MB 7.4 MB/s eta 0:00:03\r\u001b[K     |████▊                           | 3.6 MB 7.4 MB/s eta 0:00:03\r\u001b[K     |████▊                           | 3.6 MB 7.4 MB/s eta 0:00:03\r\u001b[K     |████▊                           | 3.6 MB 7.4 MB/s eta 0:00:03\r\u001b[K     |████▊                           | 3.6 MB 7.4 MB/s eta 0:00:03\r\u001b[K     |████▊                     \n\n*** WARNING: max output size exceeded, skipping output. ***\n\n████▌    | 20.7 MB 7.4 MB/s eta 0:00:01\r\u001b[K     |███████████████████████████▌    | 20.7 MB 7.4 MB/s eta 0:00:01\r\u001b[K     |███████████████████████████▌    | 20.7 MB 7.4 MB/s eta 0:00:01\r\u001b[K     |███████████████████████████▌    | 20.7 MB 7.4 MB/s eta 0:00:01\r\u001b[K     |███████████████████████████▌    | 20.7 MB 7.4 MB/s eta 0:00:01\r\u001b[K     |███████████████████████████▋    | 20.7 MB 7.4 MB/s eta 0:00:01\r\u001b[K     |███████████████████████████▋    | 20.8 MB 7.4 MB/s eta 0:00:01\r\u001b[K     |███████████████████████████▋    | 20.8 MB 7.4 MB/s eta 0:00:01\r\u001b[K     |███████████████████████████▋    | 20.8 MB 7.4 MB/s eta 0:00:01\r\u001b[K     |███████████████████████████▋    | 20.8 MB 7.4 MB/s eta 0:00:01\r\u001b[K     |███████████████████████████▋    | 20.8 MB 7.4 MB/s eta 0:00:01\r\u001b[K     |███████████████████████████▋    | 20.8 MB 7.4 MB/s eta 0:00:01\r\u001b[K     |███████████████████████████▋    | 20.8 MB 7.4 MB/s eta 0:00:01\r\u001b[K     |███████████████████████████▊    | 20.8 MB 7.4 MB/s eta 0:00:01\r\u001b[K     |███████████████████████████▊    | 20.8 MB 7.4 MB/s eta 0:00:01\r\u001b[K     |███████████████████████████▊    | 20.8 MB 7.4 MB/s eta 0:00:01\r\u001b[K     |███████████████████████████▊    | 20.9 MB 7.4 MB/s eta 0:00:01\r\u001b[K     |███████████████████████████▊    | 20.9 MB 7.4 MB/s eta 0:00:01\r\u001b[K     |███████████████████████████▊    | 20.9 MB 7.4 MB/s eta 0:00:01\r\u001b[K     |███████████████████████████▊    | 20.9 MB 7.4 MB/s eta 0:00:01\r\u001b[K     |███████████████████████████▊    | 20.9 MB 7.4 MB/s eta 0:00:01\r\u001b[K     |███████████████████████████▉    | 20.9 MB 7.4 MB/s eta 0:00:01\r\u001b[K     |███████████████████████████▉    | 20.9 MB 7.4 MB/s eta 0:00:01\r\u001b[K     |███████████████████████████▉    | 20.9 MB 7.4 MB/s eta 0:00:01\r\u001b[K     |███████████████████████████▉    | 20.9 MB 7.4 MB/s eta 0:00:01\r\u001b[K     |███████████████████████████▉    | 21.0 MB 7.4 MB/s eta 0:00:01\r\u001b[K     |███████████████████████████▉    | 21.0 MB 7.4 MB/s eta 0:00:01\r\u001b[K     |███████████████████████████▉    | 21.0 MB 7.4 MB/s eta 0:00:01\r\u001b[K     |███████████████████████████▉    | 21.0 MB 7.4 MB/s eta 0:00:01\r\u001b[K     |███████████████████████████▉    | 21.0 MB 7.4 MB/s eta 0:00:01\r\u001b[K     |████████████████████████████    | 21.0 MB 7.4 MB/s eta 0:00:01\r\u001b[K     |████████████████████████████    | 21.0 MB 7.4 MB/s eta 0:00:01\r\u001b[K     |████████████████████████████    | 21.0 MB 7.4 MB/s eta 0:00:01\r\u001b[K     |████████████████████████████    | 21.0 MB 7.4 MB/s eta 0:00:01\r\u001b[K     |████████████████████████████    | 21.0 MB 7.4 MB/s eta 0:00:01\r\u001b[K     |████████████████████████████    | 21.1 MB 7.4 MB/s eta 0:00:01\r\u001b[K     |████████████████████████████    | 21.1 MB 7.4 MB/s eta 0:00:01\r\u001b[K     |████████████████████████████    | 21.1 MB 7.4 MB/s eta 0:00:01\r\u001b[K     |████████████████████████████    | 21.1 MB 7.4 MB/s eta 0:00:01\r\u001b[K     |████████████████████████████    | 21.1 MB 7.4 MB/s eta 0:00:01\r\u001b[K     |████████████████████████████    | 21.1 MB 7.4 MB/s eta 0:00:01\r\u001b[K     |████████████████████████████    | 21.1 MB 7.4 MB/s eta 0:00:01\r\u001b[K     |████████████████████████████    | 21.1 MB 7.4 MB/s eta 0:00:01\r\u001b[K     |████████████████████████████    | 21.1 MB 7.4 MB/s eta 0:00:01\r\u001b[K     |████████████████████████████    | 21.1 MB 7.4 MB/s eta 0:00:01\r\u001b[K     |████████████████████████████    | 21.2 MB 7.4 MB/s eta 0:00:01\r\u001b[K     |████████████████████████████▏   | 21.2 MB 7.4 MB/s eta 0:00:01\r\u001b[K     |████████████████████████████▏   | 21.2 MB 7.4 MB/s eta 0:00:01\r\u001b[K     |████████████████████████████▏   | 21.2 MB 7.4 MB/s eta 0:00:01\r\u001b[K     |████████████████████████████▏   | 21.2 MB 7.4 MB/s eta 0:00:01\r\u001b[K     |████████████████████████████▏   | 21.2 MB 7.4 MB/s eta 0:00:01\r\u001b[K     |████████████████████████████▏   | 21.2 MB 7.4 MB/s eta 0:00:01\r\u001b[K     |████████████████████████████▏   | 21.2 MB 7.4 MB/s eta 0:00:01\r\u001b[K     |████████████████████████████▏   | 21.2 MB 7.4 MB/s eta 0:00:01\r\u001b[K     |████████████████████████████▎   | 21.2 MB 7.4 MB/s eta 0:00:01\r\u001b[K     |████████████████████████████▎   | 21.3 MB 7.4 MB/s eta 0:00:01\r\u001b[K     |████████████████████████████▎   | 21.3 MB 7.4 MB/s eta 0:00:01\r\u001b[K     |████████████████████████████▎   | 21.3 MB 7.4 MB/s eta 0:00:01\r\u001b[K     |████████████████████████████▎   | 21.3 MB 7.4 MB/s eta 0:00:01\r\u001b[K     |████████████████████████████▎   | 21.3 MB 7.4 MB/s eta 0:00:01\r\u001b[K     |████████████████████████████▎   | 21.3 MB 7.4 MB/s eta 0:00:01\r\u001b[K     |████████████████████████████▎   | 21.3 MB 7.4 MB/s eta 0:00:01\r\u001b[K     |████████████████████████████▍   | 21.3 MB 7.4 MB/s eta 0:00:01\r\u001b[K     |████████████████████████████▍   | 21.3 MB 7.4 MB/s eta 0:00:01\r\u001b[K     |████████████████████████████▍   | 21.4 MB 7.4 MB/s eta 0:00:01\r\u001b[K     |████████████████████████████▍   | 21.4 MB 7.4 MB/s eta 0:00:01\r\u001b[K     |████████████████████████████▍   | 21.4 MB 7.4 MB/s eta 0:00:01\r\u001b[K     |████████████████████████████▍   | 21.4 MB 7.4 MB/s eta 0:00:01\r\u001b[K     |████████████████████████████▍   | 21.4 MB 7.4 MB/s eta 0:00:01\r\u001b[K     |████████████████████████████▍   | 21.4 MB 7.4 MB/s eta 0:00:01\r\u001b[K     |████████████████████████████▌   | 21.4 MB 7.4 MB/s eta 0:00:01\r\u001b[K     |████████████████████████████▌   | 21.4 MB 7.4 MB/s eta 0:00:01\r\u001b[K     |████████████████████████████▌   | 21.4 MB 7.4 MB/s eta 0:00:01\r\u001b[K     |████████████████████████████▌   | 21.4 MB 7.4 MB/s eta 0:00:01\r\u001b[K     |████████████████████████████▌   | 21.5 MB 7.4 MB/s eta 0:00:01\r\u001b[K     |████████████████████████████▌   | 21.5 MB 7.4 MB/s eta 0:00:01\r\u001b[K     |████████████████████████████▌   | 21.5 MB 7.4 MB/s eta 0:00:01\r\u001b[K     |████████████████████████████▌   | 21.5 MB 7.4 MB/s eta 0:00:01\r\u001b[K     |████████████████████████████▌   | 21.5 MB 7.4 MB/s eta 0:00:01\r\u001b[K     |████████████████████████████▋   | 21.5 MB 7.4 MB/s eta 0:00:01\r\u001b[K     |████████████████████████████▋   | 21.5 MB 7.4 MB/s eta 0:00:01\r\u001b[K     |████████████████████████████▋   | 21.5 MB 7.4 MB/s eta 0:00:01\r\u001b[K     |████████████████████████████▋   | 21.5 MB 7.4 MB/s eta 0:00:01\r\u001b[K     |████████████████████████████▋   | 21.5 MB 7.4 MB/s eta 0:00:01\r\u001b[K     |████████████████████████████▋   | 21.6 MB 7.4 MB/s eta 0:00:01\r\u001b[K     |████████████████████████████▋   | 21.6 MB 7.4 MB/s eta 0:00:01\r\u001b[K     |████████████████████████████▋   | 21.6 MB 7.4 MB/s eta 0:00:01\r\u001b[K     |████████████████████████████▊   | 21.6 MB 7.4 MB/s eta 0:00:01\r\u001b[K     |████████████████████████████▊   | 21.6 MB 7.4 MB/s eta 0:00:01\r\u001b[K     |████████████████████████████▊   | 21.6 MB 7.4 MB/s eta 0:00:01\r\u001b[K     |████████████████████████████▊   | 21.6 MB 7.4 MB/s eta 0:00:01\r\u001b[K     |████████████████████████████▊   | 21.6 MB 7.4 MB/s eta 0:00:01\r\u001b[K     |████████████████████████████▊   | 21.6 MB 7.4 MB/s eta 0:00:01\r\u001b[K     |████████████████████████████▊   | 21.6 MB 7.4 MB/s eta 0:00:01\r\u001b[K     |████████████████████████████▊   | 21.7 MB 7.4 MB/s eta 0:00:01\r\u001b[K     |████████████████████████████▉   | 21.7 MB 7.4 MB/s eta 0:00:01\r\u001b[K     |████████████████████████████▉   | 21.7 MB 7.4 MB/s eta 0:00:01\r\u001b[K     |████████████████████████████▉   | 21.7 MB 7.4 MB/s eta 0:00:01\r\u001b[K     |████████████████████████████▉   | 21.7 MB 7.4 MB/s eta 0:00:01\r\u001b[K     |████████████████████████████▉   | 21.7 MB 7.4 MB/s eta 0:00:01\r\u001b[K     |████████████████████████████▉   | 21.7 MB 7.4 MB/s eta 0:00:01\r\u001b[K     |████████████████████████████▉   | 21.7 MB 7.4 MB/s eta 0:00:01\r\u001b[K     |████████████████████████████▉   | 21.7 MB 7.4 MB/s eta 0:00:01\r\u001b[K     |█████████████████████████████   | 21.7 MB 7.4 MB/s eta 0:00:01\r\u001b[K     |█████████████████████████████   | 21.8 MB 7.4 MB/s eta 0:00:01\r\u001b[K     |█████████████████████████████   | 21.8 MB 7.4 MB/s eta 0:00:01\r\u001b[K     |█████████████████████████████   | 21.8 MB 7.4 MB/s eta 0:00:01\r\u001b[K     |█████████████████████████████   | 21.8 MB 7.4 MB/s eta 0:00:01\r\u001b[K     |█████████████████████████████   | 21.8 MB 7.4 MB/s eta 0:00:01\r\u001b[K     |█████████████████████████████   | 21.8 MB 7.4 MB/s eta 0:00:01\r\u001b[K     |█████████████████████████████   | 21.8 MB 7.4 MB/s eta 0:00:01\r\u001b[K     |█████████████████████████████   | 21.8 MB 7.4 MB/s eta 0:00:01\r\u001b[K     |█████████████████████████████   | 21.8 MB 7.4 MB/s eta 0:00:01\r\u001b[K     |█████████████████████████████   | 21.9 MB 7.4 MB/s eta 0:00:01\r\u001b[K     |█████████████████████████████   | 21.9 MB 7.4 MB/s eta 0:00:01\r\u001b[K     |█████████████████████████████   | 21.9 MB 7.4 MB/s eta 0:00:01\r\u001b[K     |█████████████████████████████   | 21.9 MB 7.4 MB/s eta 0:00:01\r\u001b[K     |█████████████████████████████   | 21.9 MB 7.4 MB/s eta 0:00:01\r\u001b[K     |█████████████████████████████   | 21.9 MB 7.4 MB/s eta 0:00:01\r\u001b[K     |█████████████████████████████▏  | 21.9 MB 7.4 MB/s eta 0:00:01\r\u001b[K     |█████████████████████████████▏  | 21.9 MB 7.4 MB/s eta 0:00:01\r\u001b[K     |█████████████████████████████▏  | 21.9 MB 7.4 MB/s eta 0:00:01\r\u001b[K     |█████████████████████████████▏  | 21.9 MB 7.4 MB/s eta 0:00:01\r\u001b[K     |█████████████████████████████▏  | 22.0 MB 7.4 MB/s eta 0:00:01\r\u001b[K     |█████████████████████████████▏  | 22.0 MB 7.4 MB/s eta 0:00:01\r\u001b[K     |█████████████████████████████▏  | 22.0 MB 7.4 MB/s eta 0:00:01\r\u001b[K     |█████████████████████████████▏  | 22.0 MB 7.4 MB/s eta 0:00:01\r\u001b[K     |█████████████████████████████▏  | 22.0 MB 7.4 MB/s eta 0:00:01\r\u001b[K     |█████████████████████████████▎  | 22.0 MB 7.4 MB/s eta 0:00:01\r\u001b[K     |█████████████████████████████▎  | 22.0 MB 7.4 MB/s eta 0:00:01\r\u001b[K     |█████████████████████████████▎  | 22.0 MB 7.4 MB/s eta 0:00:01\r\u001b[K     |█████████████████████████████▎  | 22.0 MB 7.4 MB/s eta 0:00:01\r\u001b[K     |█████████████████████████████▎  | 22.0 MB 7.4 MB/s eta 0:00:01\r\u001b[K     |█████████████████████████████▎  | 22.1 MB 7.4 MB/s eta 0:00:01\r\u001b[K     |█████████████████████████████▎  | 22.1 MB 7.4 MB/s eta 0:00:01\r\u001b[K     |█████████████████████████████▎  | 22.1 MB 7.4 MB/s eta 0:00:01\r\u001b[K     |█████████████████████████████▍  | 22.1 MB 7.4 MB/s eta 0:00:01\r\u001b[K     |█████████████████████████████▍  | 22.1 MB 7.4 MB/s eta 0:00:01\r\u001b[K     |█████████████████████████████▍  | 22.1 MB 7.4 MB/s eta 0:00:01\r\u001b[K     |█████████████████████████████▍  | 22.1 MB 7.4 MB/s eta 0:00:01\r\u001b[K     |█████████████████████████████▍  | 22.1 MB 7.4 MB/s eta 0:00:01\r\u001b[K     |█████████████████████████████▍  | 22.1 MB 7.4 MB/s eta 0:00:01\r\u001b[K     |█████████████████████████████▍  | 22.1 MB 7.4 MB/s eta 0:00:01\r\u001b[K     |█████████████████████████████▍  | 22.2 MB 7.4 MB/s eta 0:00:01\r\u001b[K     |█████████████████████████████▌  | 22.2 MB 7.4 MB/s eta 0:00:01\r\u001b[K     |█████████████████████████████▌  | 22.2 MB 7.4 MB/s eta 0:00:01\r\u001b[K     |█████████████████████████████▌  | 22.2 MB 7.4 MB/s eta 0:00:01\r\u001b[K     |█████████████████████████████▌  | 22.2 MB 7.4 MB/s eta 0:00:01\r\u001b[K     |█████████████████████████████▌  | 22.2 MB 7.4 MB/s eta 0:00:01\r\u001b[K     |█████████████████████████████▌  | 22.2 MB 7.4 MB/s eta 0:00:01\r\u001b[K     |█████████████████████████████▌  | 22.2 MB 7.4 MB/s eta 0:00:01\r\u001b[K     |█████████████████████████████▌  | 22.2 MB 7.4 MB/s eta 0:00:01\r\u001b[K     |█████████████████████████████▋  | 22.3 MB 7.4 MB/s eta 0:00:01\r\u001b[K     |█████████████████████████████▋  | 22.3 MB 7.4 MB/s eta 0:00:01\r\u001b[K     |█████████████████████████████▋  | 22.3 MB 7.4 MB/s eta 0:00:01\r\u001b[K     |█████████████████████████████▋  | 22.3 MB 7.4 MB/s eta 0:00:01\r\u001b[K     |█████████████████████████████▋  | 22.3 MB 7.4 MB/s eta 0:00:01\r\u001b[K     |█████████████████████████████▋  | 22.3 MB 7.4 MB/s eta 0:00:01\r\u001b[K     |█████████████████████████████▋  | 22.3 MB 7.4 MB/s eta 0:00:01\r\u001b[K     |█████████████████████████████▋  | 22.3 MB 7.4 MB/s eta 0:00:01\r\u001b[K     |█████████████████████████████▊  | 22.3 MB 7.4 MB/s eta 0:00:01\r\u001b[K     |█████████████████████████████▊  | 22.3 MB 7.4 MB/s eta 0:00:01\r\u001b[K     |█████████████████████████████▊  | 22.4 MB 7.4 MB/s eta 0:00:01\r\u001b[K     |█████████████████████████████▊  | 22.4 MB 7.4 MB/s eta 0:00:01\r\u001b[K     |█████████████████████████████▊  | 22.4 MB 7.4 MB/s eta 0:00:01\r\u001b[K     |█████████████████████████████▊  | 22.4 MB 7.4 MB/s eta 0:00:01\r\u001b[K     |█████████████████████████████▊  | 22.4 MB 7.4 MB/s eta 0:00:01\r\u001b[K     |█████████████████████████████▊  | 22.4 MB 7.4 MB/s eta 0:00:01\r\u001b[K     |█████████████████████████████▉  | 22.4 MB 7.4 MB/s eta 0:00:01\r\u001b[K     |█████████████████████████████▉  | 22.4 MB 7.4 MB/s eta 0:00:01\r\u001b[K     |█████████████████████████████▉  | 22.4 MB 7.4 MB/s eta 0:00:01\r\u001b[K     |█████████████████████████████▉  | 22.4 MB 7.4 MB/s eta 0:00:01\r\u001b[K     |█████████████████████████████▉  | 22.5 MB 7.4 MB/s eta 0:00:01\r\u001b[K     |█████████████████████████████▉  | 22.5 MB 7.4 MB/s eta 0:00:01\r\u001b[K     |█████████████████████████████▉  | 22.5 MB 7.4 MB/s eta 0:00:01\r\u001b[K     |█████████████████████████████▉  | 22.5 MB 7.4 MB/s eta 0:00:01\r\u001b[K     |█████████████████████████████▉  | 22.5 MB 7.4 MB/s eta 0:00:01\r\u001b[K     |██████████████████████████████  | 22.5 MB 7.4 MB/s eta 0:00:01\r\u001b[K     |██████████████████████████████  | 22.5 MB 7.4 MB/s eta 0:00:01\r\u001b[K     |██████████████████████████████  | 22.5 MB 7.4 MB/s eta 0:00:01\r\u001b[K     |██████████████████████████████  | 22.5 MB 7.4 MB/s eta 0:00:01\r\u001b[K     |██████████████████████████████  | 22.5 MB 7.4 MB/s eta 0:00:01\r\u001b[K     |██████████████████████████████  | 22.6 MB 7.4 MB/s eta 0:00:01\r\u001b[K     |██████████████████████████████  | 22.6 MB 7.4 MB/s eta 0:00:01\r\u001b[K     |██████████████████████████████  | 22.6 MB 7.4 MB/s eta 0:00:01\r\u001b[K     |██████████████████████████████  | 22.6 MB 7.4 MB/s eta 0:00:01\r\u001b[K     |██████████████████████████████  | 22.6 MB 7.4 MB/s eta 0:00:01\r\u001b[K     |██████████████████████████████  | 22.6 MB 7.4 MB/s eta 0:00:01\r\u001b[K     |██████████████████████████████  | 22.6 MB 7.4 MB/s eta 0:00:01\r\u001b[K     |██████████████████████████████  | 22.6 MB 7.4 MB/s eta 0:00:01\r\u001b[K     |██████████████████████████████  | 22.6 MB 7.4 MB/s eta 0:00:01\r\u001b[K     |██████████████████████████████  | 22.7 MB 7.4 MB/s eta 0:00:01\r\u001b[K     |██████████████████████████████  | 22.7 MB 7.4 MB/s eta 0:00:01\r\u001b[K     |██████████████████████████████▏ | 22.7 MB 7.4 MB/s eta 0:00:01\r\u001b[K     |██████████████████████████████▏ | 22.7 MB 7.4 MB/s eta 0:00:01\r\u001b[K     |██████████████████████████████▏ | 22.7 MB 7.4 MB/s eta 0:00:01\r\u001b[K     |██████████████████████████████▏ | 22.7 MB 7.4 MB/s eta 0:00:01\r\u001b[K     |██████████████████████████████▏ | 22.7 MB 7.4 MB/s eta 0:00:01\r\u001b[K     |██████████████████████████████▏ | 22.7 MB 7.4 MB/s eta 0:00:01\r\u001b[K     |██████████████████████████████▏ | 22.7 MB 7.4 MB/s eta 0:00:01\r\u001b[K     |██████████████████████████████▏ | 22.7 MB 7.4 MB/s eta 0:00:01\r\u001b[K     |██████████████████████████████▎ | 22.8 MB 7.4 MB/s eta 0:00:01\r\u001b[K     |██████████████████████████████▎ | 22.8 MB 7.4 MB/s eta 0:00:01\r\u001b[K     |██████████████████████████████▎ | 22.8 MB 7.4 MB/s eta 0:00:01\r\u001b[K     |██████████████████████████████▎ | 22.8 MB 7.4 MB/s eta 0:00:01\r\u001b[K     |██████████████████████████████▎ | 22.8 MB 7.4 MB/s eta 0:00:01\r\u001b[K     |██████████████████████████████▎ | 22.8 MB 7.4 MB/s eta 0:00:01\r\u001b[K     |██████████████████████████████▎ | 22.8 MB 7.4 MB/s eta 0:00:01\r\u001b[K     |██████████████████████████████▎ | 22.8 MB 7.4 MB/s eta 0:00:01\r\u001b[K     |██████████████████████████████▍ | 22.8 MB 7.4 MB/s eta 0:00:01\r\u001b[K     |██████████████████████████████▍ | 22.8 MB 7.4 MB/s eta 0:00:01\r\u001b[K     |██████████████████████████████▍ | 22.9 MB 7.4 MB/s eta 0:00:01\r\u001b[K     |██████████████████████████████▍ | 22.9 MB 7.4 MB/s eta 0:00:01\r\u001b[K     |██████████████████████████████▍ | 22.9 MB 7.4 MB/s eta 0:00:01\r\u001b[K     |██████████████████████████████▍ | 22.9 MB 7.4 MB/s eta 0:00:01\r\u001b[K     |██████████████████████████████▍ | 22.9 MB 7.4 MB/s eta 0:00:01\r\u001b[K     |██████████████████████████████▍ | 22.9 MB 7.4 MB/s eta 0:00:01\r\u001b[K     |██████████████████████████████▌ | 22.9 MB 7.4 MB/s eta 0:00:01\r\u001b[K     |██████████████████████████████▌ | 22.9 MB 7.4 MB/s eta 0:00:01\r\u001b[K     |██████████████████████████████▌ | 22.9 MB 7.4 MB/s eta 0:00:01\r\u001b[K     |██████████████████████████████▌ | 22.9 MB 7.4 MB/s eta 0:00:01\r\u001b[K     |██████████████████████████████▌ | 23.0 MB 7.4 MB/s eta 0:00:01\r\u001b[K     |██████████████████████████████▌ | 23.0 MB 7.4 MB/s eta 0:00:01\r\u001b[K     |██████████████████████████████▌ | 23.0 MB 7.4 MB/s eta 0:00:01\r\u001b[K     |██████████████████████████████▌ | 23.0 MB 7.4 MB/s eta 0:00:01\r\u001b[K     |██████████████████████████████▌ | 23.0 MB 7.4 MB/s eta 0:00:01\r\u001b[K     |██████████████████████████████▋ | 23.0 MB 7.4 MB/s eta 0:00:01\r\u001b[K     |██████████████████████████████▋ | 23.0 MB 7.4 MB/s eta 0:00:01\r\u001b[K     |██████████████████████████████▋ | 23.0 MB 7.4 MB/s eta 0:00:01\r\u001b[K     |██████████████████████████████▋ | 23.0 MB 7.4 MB/s eta 0:00:01\r\u001b[K     |██████████████████████████████▋ | 23.1 MB 7.4 MB/s eta 0:00:01\r\u001b[K     |██████████████████████████████▋ | 23.1 MB 7.4 MB/s eta 0:00:01\r\u001b[K     |██████████████████████████████▋ | 23.1 MB 7.4 MB/s eta 0:00:01\r\u001b[K     |██████████████████████████████▋ | 23.1 MB 7.4 MB/s eta 0:00:01\r\u001b[K     |██████████████████████████████▊ | 23.1 MB 7.4 MB/s eta 0:00:01\r\u001b[K     |██████████████████████████████▊ | 23.1 MB 7.4 MB/s eta 0:00:01\r\u001b[K     |██████████████████████████████▊ | 23.1 MB 7.4 MB/s eta 0:00:01\r\u001b[K     |██████████████████████████████▊ | 23.1 MB 7.4 MB/s eta 0:00:01\r\u001b[K     |██████████████████████████████▊ | 23.1 MB 7.4 MB/s eta 0:00:01\r\u001b[K     |██████████████████████████████▊ | 23.1 MB 7.4 MB/s eta 0:00:01\r\u001b[K     |██████████████████████████████▊ | 23.2 MB 7.4 MB/s eta 0:00:01\r\u001b[K     |██████████████████████████████▊ | 23.2 MB 7.4 MB/s eta 0:00:01\r\u001b[K     |██████████████████████████████▉ | 23.2 MB 7.4 MB/s eta 0:00:01\r\u001b[K     |██████████████████████████████▉ | 23.2 MB 7.4 MB/s eta 0:00:01\r\u001b[K     |██████████████████████████████▉ | 23.2 MB 7.4 MB/s eta 0:00:01\r\u001b[K     |██████████████████████████████▉ | 23.2 MB 7.4 MB/s eta 0:00:01\r\u001b[K     |██████████████████████████████▉ | 23.2 MB 7.4 MB/s eta 0:00:01\r\u001b[K     |██████████████████████████████▉ | 23.2 MB 7.4 MB/s eta 0:00:01\r\u001b[K     |██████████████████████████████▉ | 23.2 MB 7.4 MB/s eta 0:00:01\r\u001b[K     |██████████████████████████████▉ | 23.2 MB 7.4 MB/s eta 0:00:01\r\u001b[K     |███████████████████████████████ | 23.3 MB 7.4 MB/s eta 0:00:01\r\u001b[K     |███████████████████████████████ | 23.3 MB 7.4 MB/s eta 0:00:01\r\u001b[K     |███████████████████████████████ | 23.3 MB 7.4 MB/s eta 0:00:01\r\u001b[K     |███████████████████████████████ | 23.3 MB 7.4 MB/s eta 0:00:01\r\u001b[K     |███████████████████████████████ | 23.3 MB 7.4 MB/s eta 0:00:01\r\u001b[K     |███████████████████████████████ | 23.3 MB 7.4 MB/s eta 0:00:01\r\u001b[K     |███████████████████████████████ | 23.3 MB 7.4 MB/s eta 0:00:01\r\u001b[K     |███████████████████████████████ | 23.3 MB 7.4 MB/s eta 0:00:01\r\u001b[K     |███████████████████████████████ | 23.3 MB 7.4 MB/s eta 0:00:01\r\u001b[K     |███████████████████████████████ | 23.3 MB 7.4 MB/s eta 0:00:01\r\u001b[K     |███████████████████████████████ | 23.4 MB 7.4 MB/s eta 0:00:01\r\u001b[K     |███████████████████████████████ | 23.4 MB 7.4 MB/s eta 0:00:01\r\u001b[K     |███████████████████████████████ | 23.4 MB 7.4 MB/s eta 0:00:01\r\u001b[K     |███████████████████████████████ | 23.4 MB 7.4 MB/s eta 0:00:01\r\u001b[K     |███████████████████████████████ | 23.4 MB 7.4 MB/s eta 0:00:01\r\u001b[K     |███████████████████████████████ | 23.4 MB 7.4 MB/s eta 0:00:01\r\u001b[K     |███████████████████████████████▏| 23.4 MB 7.4 MB/s eta 0:00:01\r\u001b[K     |███████████████████████████████▏| 23.4 MB 7.4 MB/s eta 0:00:01\r\u001b[K     |███████████████████████████████▏| 23.4 MB 7.4 MB/s eta 0:00:01\r\u001b[K     |███████████████████████████████▏| 23.4 MB 7.4 MB/s eta 0:00:01\r\u001b[K     |███████████████████████████████▏| 23.5 MB 7.4 MB/s eta 0:00:01\r\u001b[K     |███████████████████████████████▏| 23.5 MB 7.4 MB/s eta 0:00:01\r\u001b[K     |███████████████████████████████▏| 23.5 MB 7.4 MB/s eta 0:00:01\r\u001b[K     |███████████████████████████████▏| 23.5 MB 7.4 MB/s eta 0:00:01\r\u001b[K     |███████████████████████████████▏| 23.5 MB 7.4 MB/s eta 0:00:01\r\u001b[K     |███████████████████████████████▎| 23.5 MB 7.4 MB/s eta 0:00:01\r\u001b[K     |███████████████████████████████▎| 23.5 MB 7.4 MB/s eta 0:00:01\r\u001b[K     |███████████████████████████████▎| 23.5 MB 7.4 MB/s eta 0:00:01\r\u001b[K     |███████████████████████████████▎| 23.5 MB 7.4 MB/s eta 0:00:01\r\u001b[K     |███████████████████████████████▎| 23.6 MB 7.4 MB/s eta 0:00:01\r\u001b[K     |███████████████████████████████▎| 23.6 MB 7.4 MB/s eta 0:00:01\r\u001b[K     |███████████████████████████████▎| 23.6 MB 7.4 MB/s eta 0:00:01\r\u001b[K     |███████████████████████████████▎| 23.6 MB 7.4 MB/s eta 0:00:01\r\u001b[K     |███████████████████████████████▍| 23.6 MB 7.4 MB/s eta 0:00:01\r\u001b[K     |███████████████████████████████▍| 23.6 MB 7.4 MB/s eta 0:00:01\r\u001b[K     |███████████████████████████████▍| 23.6 MB 7.4 MB/s eta 0:00:01\r\u001b[K     |███████████████████████████████▍| 23.6 MB 7.4 MB/s eta 0:00:01\r\u001b[K     |███████████████████████████████▍| 23.6 MB 7.4 MB/s eta 0:00:01\r\u001b[K     |███████████████████████████████▍| 23.6 MB 7.4 MB/s eta 0:00:01\r\u001b[K     |███████████████████████████████▍| 23.7 MB 7.4 MB/s eta 0:00:01\r\u001b[K     |███████████████████████████████▍| 23.7 MB 7.4 MB/s eta 0:00:01\r\u001b[K     |███████████████████████████████▌| 23.7 MB 7.4 MB/s eta 0:00:01\r\u001b[K     |███████████████████████████████▌| 23.7 MB 7.4 MB/s eta 0:00:01\r\u001b[K     |███████████████████████████████▌| 23.7 MB 7.4 MB/s eta 0:00:01\r\u001b[K     |███████████████████████████████▌| 23.7 MB 7.4 MB/s eta 0:00:01\r\u001b[K     |███████████████████████████████▌| 23.7 MB 7.4 MB/s eta 0:00:01\r\u001b[K     |███████████████████████████████▌| 23.7 MB 7.4 MB/s eta 0:00:01\r\u001b[K     |███████████████████████████████▌| 23.7 MB 7.4 MB/s eta 0:00:01\r\u001b[K     |███████████████████████████████▌| 23.7 MB 7.4 MB/s eta 0:00:01\r\u001b[K     |███████████████████████████████▋| 23.8 MB 7.4 MB/s eta 0:00:01\r\u001b[K     |███████████████████████████████▋| 23.8 MB 7.4 MB/s eta 0:00:01\r\u001b[K     |███████████████████████████████▋| 23.8 MB 7.4 MB/s eta 0:00:01\r\u001b[K     |███████████████████████████████▋| 23.8 MB 7.4 MB/s eta 0:00:01\r\u001b[K     |███████████████████████████████▋| 23.8 MB 7.4 MB/s eta 0:00:01\r\u001b[K     |███████████████████████████████▋| 23.8 MB 7.4 MB/s eta 0:00:01\r\u001b[K     |███████████████████████████████▋| 23.8 MB 7.4 MB/s eta 0:00:01\r\u001b[K     |███████████████████████████████▋| 23.8 MB 7.4 MB/s eta 0:00:01\r\u001b[K     |███████████████████████████████▊| 23.8 MB 7.4 MB/s eta 0:00:01\r\u001b[K     |███████████████████████████████▊| 23.8 MB 7.4 MB/s eta 0:00:01\r\u001b[K     |███████████████████████████████▊| 23.9 MB 7.4 MB/s eta 0:00:01\r\u001b[K     |███████████████████████████████▊| 23.9 MB 7.4 MB/s eta 0:00:01\r\u001b[K     |███████████████████████████████▊| 23.9 MB 7.4 MB/s eta 0:00:01\r\u001b[K     |███████████████████████████████▊| 23.9 MB 7.4 MB/s eta 0:00:01\r\u001b[K     |███████████████████████████████▊| 23.9 MB 7.4 MB/s eta 0:00:01\r\u001b[K     |███████████████████████████████▊| 23.9 MB 7.4 MB/s eta 0:00:01\r\u001b[K     |███████████████████████████████▉| 23.9 MB 7.4 MB/s eta 0:00:01\r\u001b[K     |███████████████████████████████▉| 23.9 MB 7.4 MB/s eta 0:00:01\r\u001b[K     |███████████████████████████████▉| 23.9 MB 7.4 MB/s eta 0:00:01\r\u001b[K     |███████████████████████████████▉| 24.0 MB 7.4 MB/s eta 0:00:01\r\u001b[K     |███████████████████████████████▉| 24.0 MB 7.4 MB/s eta 0:00:01\r\u001b[K     |███████████████████████████████▉| 24.0 MB 7.4 MB/s eta 0:00:01\r\u001b[K     |███████████████████████████████▉| 24.0 MB 7.4 MB/s eta 0:00:01\r\u001b[K     |███████████████████████████████▉| 24.0 MB 7.4 MB/s eta 0:00:01\r\u001b[K     |███████████████████████████████▉| 24.0 MB 7.4 MB/s eta 0:00:01\r\u001b[K     |████████████████████████████████| 24.0 MB 7.4 MB/s eta 0:00:01\r\u001b[K     |████████████████████████████████| 24.0 MB 7.4 MB/s eta 0:00:01\r\u001b[K     |████████████████████████████████| 24.0 MB 7.4 MB/s eta 0:00:01\r\u001b[K     |████████████████████████████████| 24.0 MB 7.4 MB/s eta 0:00:01\r\u001b[K     |████████████████████████████████| 24.1 MB 7.4 MB/s eta 0:00:01\r\u001b[K     |████████████████████████████████| 24.1 MB 7.4 MB/s eta 0:00:01\r\u001b[K     |████████████████████████████████| 24.1 MB 7.4 MB/s eta 0:00:01\r\u001b[K     |████████████████████████████████| 24.1 MB 7.4 MB/s eta 0:00:01\r\u001b[K     |████████████████████████████████| 24.1 MB 7.4 MB/s \r\n\u001b[?25hRequirement already satisfied: scipy>=0.18.1 in /databricks/python3/lib/python3.8/site-packages (from gensim) (1.6.2)\r\nRequirement already satisfied: numpy>=1.17.0 in /databricks/python3/lib/python3.8/site-packages (from gensim) (1.20.1)\r\nCollecting smart-open>=1.8.1\r\n  Downloading smart_open-6.2.0-py3-none-any.whl (58 kB)\r\n\u001b[?25l\r\u001b[K     |█████▋                          | 10 kB 34.5 MB/s eta 0:00:01\r\u001b[K     |███████████▏                    | 20 kB 38.1 MB/s eta 0:00:01\r\u001b[K     |████████████████▊               | 30 kB 44.4 MB/s eta 0:00:01\r\u001b[K     |██████████████████████▍         | 40 kB 46.8 MB/s eta 0:00:01\r\u001b[K     |████████████████████████████    | 51 kB 48.3 MB/s eta 0:00:01\r\u001b[K     |████████████████████████████████| 58 kB 9.7 MB/s \r\n\u001b[?25hInstalling collected packages: smart-open, gensim\r\nSuccessfully installed gensim-4.2.0 smart-open-6.2.0\r\n\u001b[33mWARNING: You are using pip version 21.0.1; however, version 22.3.1 is available.\r\nYou should consider upgrading via the '/databricks/python3/bin/python -m pip install --upgrade pip' command.\u001b[0m\r\n",
       "datasetInfos": [],
       "metadata": {},
       "removedWidgets": [],
       "type": "ansi"
      }
     },
     "output_type": "display_data"
    }
   ],
   "source": [
    "!pip install gensim"
   ]
  },
  {
   "cell_type": "code",
   "execution_count": 0,
   "metadata": {
    "application/vnd.databricks.v1+cell": {
     "cellMetadata": {},
     "inputWidgets": {},
     "nuid": "5c5afb00-6d3f-43de-941a-30ace739d33d",
     "showTitle": false,
     "title": ""
    }
   },
   "outputs": [
    {
     "data": {
      "text/plain": [
       "[nltk_data] Downloading package stopwords to /root/nltk_data...\n",
       "[nltk_data]   Unzipping corpora/stopwords.zip.\n",
       "Out[54]: True"
      ]
     },
     "metadata": {
      "application/vnd.databricks.v1+output": {
       "addedWidgets": {},
       "arguments": {},
       "data": "[nltk_data] Downloading package stopwords to /root/nltk_data...\n[nltk_data]   Unzipping corpora/stopwords.zip.\nOut[54]: True",
       "datasetInfos": [],
       "metadata": {},
       "removedWidgets": [],
       "type": "ansi"
      }
     },
     "output_type": "display_data"
    }
   ],
   "source": [
    "from nltk.tokenize import RegexpTokenizer  \n",
    "from nltk.stem.snowball import SnowballStemmer\n",
    "from gensim import models, corpora\n",
    "from nltk.corpus import stopwords\n",
    "nltk.download('stopwords')"
   ]
  },
  {
   "cell_type": "code",
   "execution_count": 0,
   "metadata": {
    "application/vnd.databricks.v1+cell": {
     "cellMetadata": {},
     "inputWidgets": {},
     "nuid": "2215c21e-8a62-4624-a4ec-2aede5a28525",
     "showTitle": false,
     "title": ""
    }
   },
   "outputs": [
    {
     "data": {
      "text/plain": [
       "Out[95]: ['He spent a lot of time studying cryptography. ',\n",
       " 'You need to have a very good understanding of modern encryption systems in order to work there.',\n",
       " \"If their team doesn't win this match, they will be out of the competition.\",\n",
       " 'Those codes are generated by a specialized machine. ',\n",
       " 'The club needs to develop a policy of training and promoting younger talent. ',\n",
       " 'His movement off the ball is really great. ',\n",
       " 'In order to evade the defenders, he needs to move swiftly.',\n",
       " 'We need to make sure only the authorized parties can read the message. ']"
      ]
     },
     "metadata": {
      "application/vnd.databricks.v1+output": {
       "addedWidgets": {},
       "arguments": {},
       "data": "Out[95]: ['He spent a lot of time studying cryptography. ',\n 'You need to have a very good understanding of modern encryption systems in order to work there.',\n \"If their team doesn't win this match, they will be out of the competition.\",\n 'Those codes are generated by a specialized machine. ',\n 'The club needs to develop a policy of training and promoting younger talent. ',\n 'His movement off the ball is really great. ',\n 'In order to evade the defenders, he needs to move swiftly.',\n 'We need to make sure only the authorized parties can read the message. ']",
       "datasetInfos": [],
       "metadata": {},
       "removedWidgets": [],
       "type": "ansi"
      }
     },
     "output_type": "display_data"
    }
   ],
   "source": [
    "# 导入训练数据\n",
    "\n",
    "# spark读取DBFS中txt文件\n",
    "df = spark.read.text('/FileStore/tables/data_topic_modeling.txt')\n",
    "\n",
    "# txt文件中所有数据会自动到dataframe中的一列\n",
    "df1 = df.toPandas()\n",
    "df1\n",
    "\n",
    "# # 将txt中文本格式的数据，通过逗号来拆分开，并保留为string格式\n",
    "# expand_df = df1['value'].str.split(',', expand=True)\n",
    "\n",
    "# # 暴力字典法 - 批量遍历修改数据集的列名\n",
    "# new_dict = {key:'col'+'_'+str(i) for i, key in enumerate(expand_df.columns)}\n",
    "# expand_df.rename(columns=new_dict, inplace=True)\n",
    "\n",
    "# # str类型数据转化为numeric\n",
    "# lst_to_num = ['col_0', 'col_1', 'col_2']\n",
    "# for i in lst_to_num:\n",
    "#     expand_df[i] = pd.to_numeric(expand_df[i])\n",
    "    \n",
    "# expand_df\n",
    "\n",
    "# print(expand_df.head())\n",
    "\n",
    "input_ = []\n",
    "for i in range(len(df1)):\n",
    "    input_.append(df1.iloc[i,0])\n",
    "\n",
    "input_"
   ]
  },
  {
   "cell_type": "code",
   "execution_count": 0,
   "metadata": {
    "application/vnd.databricks.v1+cell": {
     "cellMetadata": {},
     "inputWidgets": {},
     "nuid": "080565cd-faee-40e8-a935-3d75e4ab917a",
     "showTitle": false,
     "title": ""
    }
   },
   "outputs": [],
   "source": []
  },
  {
   "cell_type": "code",
   "execution_count": 0,
   "metadata": {
    "application/vnd.databricks.v1+cell": {
     "cellMetadata": {},
     "inputWidgets": {},
     "nuid": "0b19628c-79b8-48bd-bd77-86ff3a7d46ca",
     "showTitle": false,
     "title": ""
    }
   },
   "outputs": [
    {
     "data": {
      "text/plain": [
       "\n",
       "Most contributing words to the topics:\n",
       "\n",
       "Topic 0 ==> 0.051*\"need\" + 0.031*\"talent\" + 0.031*\"club\" + 0.031*\"younger\"\n",
       "\n",
       "Topic 1 ==> 0.063*\"need\" + 0.038*\"order\" + 0.037*\"work\" + 0.037*\"good\"\n"
      ]
     },
     "metadata": {
      "application/vnd.databricks.v1+output": {
       "addedWidgets": {},
       "arguments": {},
       "data": "\nMost contributing words to the topics:\n\nTopic 0 ==> 0.051*\"need\" + 0.031*\"talent\" + 0.031*\"club\" + 0.031*\"younger\"\n\nTopic 1 ==> 0.063*\"need\" + 0.038*\"order\" + 0.037*\"work\" + 0.037*\"good\"\n",
       "datasetInfos": [],
       "metadata": {},
       "removedWidgets": [],
       "type": "ansi"
      }
     },
     "output_type": "display_data"
    }
   ],
   "source": [
    "# Class to preprocess text\n",
    "# 定义一个预处理文本的类。这个预处理器处理相应的对象，并从输入文本中提取相关的特征\n",
    "class Preprocessor(object):\n",
    "    # Initialize various operators 初始化\n",
    "    def __init__(self):\n",
    "        # Create a regular expression tokenizer 创建正则表达式解析器\n",
    "        self.tokenizer = RegexpTokenizer(r'\\w+')\n",
    "\n",
    "        # get the list of stop words 获取停用词表，在分析过程中将停用词排除\n",
    "        self.stop_words_english = stopwords.words('english')\n",
    "\n",
    "        # Create a Snowball stemmer 创建一个Snowball词干提取器\n",
    "        self.stemmer = SnowballStemmer('english')\n",
    "        \n",
    "    # Tokenizing, stop word removal, and stemming 标记解析、移除停用词、词干提取\n",
    "    def process(self, input_text):\n",
    "        \n",
    "        # Tokenize the string 标记解析\n",
    "        tokens = self.tokenizer.tokenize(input_text.lower())\n",
    "\n",
    "        # Remove the stop words 移除停用词\n",
    "        tokens_stopwords = [x for x in tokens if not x in self.stop_words_english]\n",
    "        \n",
    "        # Perform stemming on the tokens 对标记做词干提取\n",
    "        tokens_stemmed = [self.stemmer.stem(x) for x in tokens_stopwords]\n",
    "        \n",
    "        # 返回处理后的标记\n",
    "        return tokens_stemmed\n",
    "    \n",
    "    \n",
    "    \n",
    "\n",
    "data = input_.copy()\n",
    "\n",
    "\n",
    "# Create a preprocessor object 创建预处理对象\n",
    "preprocessor = Preprocessor()\n",
    "\n",
    "# Create a list for processed documents 创建一组经过预处理的文档\n",
    "processed_tokens = [preprocessor.process(x) for x in data]\n",
    "\n",
    "# Create a dictionary based on the tokenized documents 创建基于标记文档的词典\n",
    "dict_tokens = corpora.Dictionary(processed_tokens)\n",
    "\n",
    "# Create a document-term matrix 创建文档-词矩阵\n",
    "corpus = [dict_tokens.doc2bow(text) for text in processed_tokens]\n",
    "\n",
    "# Generate the LDA model based on the corpus we just created 用隐含狄利克雷分布(LDA - Latent Dirichlet Allocation)做主题建模。定义相关参数并初始化LDA模型对象。\n",
    "num_topics = 2\n",
    "num_words = 4\n",
    "ldamodel = models.ldamodel.LdaModel(corpus, num_topics=num_topics, id2word=dict_tokens, passes=25)\n",
    "\n",
    "# 识别两个主题后，将两个主题分开来看\n",
    "print(\"\\nMost contributing words to the topics:\")\n",
    "for item in ldamodel.print_topics(num_topics=num_topics, num_words=num_words):\n",
    "    print(\"\\nTopic\", item[0], \"==>\", item[1])\n",
    "\n"
   ]
  },
  {
   "cell_type": "code",
   "execution_count": 0,
   "metadata": {
    "application/vnd.databricks.v1+cell": {
     "cellMetadata": {},
     "inputWidgets": {},
     "nuid": "ac0529f8-20de-4dda-abd6-d63936d32829",
     "showTitle": false,
     "title": ""
    }
   },
   "outputs": [],
   "source": [
    "# LDA工作原理\n",
    "# 主题建模通过识别文档中最有意义，最能表征主题的词来实现主题分类\n",
    "# 使用正则表达式(regular regression)标记器，因为只需要那些没有标点或其他标点的单词\n",
    "# 停用词去除是另一个更重要的步骤，可以减小一些常用词的噪声干扰\n",
    "# 之后需要对单词做词干提取，以获得其原型\n",
    "# LDA构建主题模型。结果分布将文档表示成不同主题的混合，这些主题可以“吐出”单词，有一定的概率。LDA分布的目标是找到这些主题，本质是一个生成主题的模型，该模型试图找到所有主题，所有主题又负责生成给定主题的文档。小样本输出的主题结果，有些词看起来不那么相关；用更大的数据集来运行程序，精确度会更高。"
   ]
  }
 ],
 "metadata": {
  "application/vnd.databricks.v1+notebook": {
   "dashboards": [],
   "language": "python",
   "notebookMetadata": {
    "pythonIndentUnit": 4
   },
   "notebookName": "Chapter6-NLP文本数据处理, 词形还原, 词袋模型, 文本分类器, 主题识别",
   "notebookOrigID": 1687204842806670,
   "widgets": {}
  },
  "kernelspec": {
   "display_name": "Python 3 (ipykernel)",
   "language": "python",
   "name": "python3"
  },
  "language_info": {
   "codemirror_mode": {
    "name": "ipython",
    "version": 3
   },
   "file_extension": ".py",
   "mimetype": "text/x-python",
   "name": "python",
   "nbconvert_exporter": "python",
   "pygments_lexer": "ipython3",
   "version": "3.10.0"
  }
 },
 "nbformat": 4,
 "nbformat_minor": 1
}
