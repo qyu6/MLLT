{
 "cells": [
  {
   "cell_type": "markdown",
   "metadata": {
    "application/vnd.databricks.v1+cell": {
     "cellMetadata": {},
     "inputWidgets": {},
     "nuid": "5eb98e70-5fa8-4bf0-9980-3d131e3fca9d",
     "showTitle": false,
     "title": ""
    }
   },
   "source": [
    "Agenda:\n",
    "- 读取和绘制音频数据\n",
    "- 将音频信号转化为频域\n",
    "- 自定义参数生成音频信号\n",
    "- 合成音乐\n",
    "- 提取频域特征\n",
    "- 创建隐马尔可夫模型\n",
    "- 创建一个语音识别器"
   ]
  },
  {
   "cell_type": "markdown",
   "metadata": {
    "application/vnd.databricks.v1+cell": {
     "cellMetadata": {},
     "inputWidgets": {},
     "nuid": "9bcf8f01-3721-4f23-87ac-8fe339161642",
     "showTitle": false,
     "title": ""
    }
   },
   "source": [
    "语音识别是识别和理解口语的过程。处理音频数据，提取有用信息，并应用到声音控制设备、将语音转换成单词、安全系统等\n",
    "\n",
    "语音中有很多不同的元素，如语言、情绪、语调、噪声、口音等，很难定义一组构成语音的规则。\n",
    "\n",
    "过去几十年李，研究者们研究了语音的各个方面，如识别说话者、理解单词、识别口音、翻译语言等。所有的这些任务中，自动语音识别成为很多研究者重点关注的方向"
   ]
  },
  {
   "cell_type": "code",
   "execution_count": 0,
   "metadata": {
    "application/vnd.databricks.v1+cell": {
     "cellMetadata": {},
     "inputWidgets": {},
     "nuid": "8f04dcca-3622-4c2a-80cf-465e2cbc3e80",
     "showTitle": false,
     "title": ""
    }
   },
   "outputs": [],
   "source": [
    "# <This chapter use local jupyter for experiment.>"
   ]
  }
 ],
 "metadata": {
  "application/vnd.databricks.v1+notebook": {
   "dashboards": [],
   "language": "python",
   "notebookMetadata": {
    "pythonIndentUnit": 4
   },
   "notebookName": "Chapter7-语音识别",
   "notebookOrigID": 2266949914556493,
   "widgets": {}
  },
  "kernelspec": {
   "display_name": "Python 3 (ipykernel)",
   "language": "python",
   "name": "python3"
  },
  "language_info": {
   "codemirror_mode": {
    "name": "ipython",
    "version": 3
   },
   "file_extension": ".py",
   "mimetype": "text/x-python",
   "name": "python",
   "nbconvert_exporter": "python",
   "pygments_lexer": "ipython3",
   "version": "3.10.0"
  }
 },
 "nbformat": 4,
 "nbformat_minor": 1
}
