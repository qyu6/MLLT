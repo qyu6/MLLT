{
 "cells": [
  {
   "cell_type": "markdown",
   "id": "9ecf85c3",
   "metadata": {},
   "source": [
    "图像识别，Computer Vision\n",
    "- 用openCV操作图像\n",
    "- 检测边\n",
    "- 直方图均衡化\n",
    "- 检测棱角\n",
    "- 检测SIFT特征点\n",
    "- 创建Star特征检测器\n",
    "- 利用视觉单词码本和向量量化创建特征\n",
    "- 用极端随机森林训练图像分类器\n",
    "- 创建一个对象识别器"
   ]
  },
  {
   "cell_type": "markdown",
   "id": "732b5a83",
   "metadata": {},
   "source": [
    "图像处理是在像素级别对图像进行变换。图像处理系统的输入和输出都是图像，常用处理方法：有变检测、直方图均衡化、图像压缩。\n",
    "- OpenCV是最受欢迎的计算机视觉库，为各种不同平台进行了高度优化\n",
    "- https://opencv.org/"
   ]
  },
  {
   "cell_type": "markdown",
   "id": "e4eee26d",
   "metadata": {},
   "source": [
    "- 用OpenCV操作图像：展示图像，剪裁、调整大小、保存图像到文件中"
   ]
  },
  {
   "cell_type": "code",
   "execution_count": 7,
   "id": "f1c89515",
   "metadata": {},
   "outputs": [],
   "source": [
    "%run operating_on_images.py"
   ]
  },
  {
   "cell_type": "markdown",
   "id": "5041026e",
   "metadata": {},
   "source": [
    "边检测是计算机视觉中最常用到的图像预处理技术之一\n",
    "- 如何用不同的边检测器检测输入图像的边(线条)\n",
    "- 索贝尔滤波器(Sobel Filter)是一种边检测器，使用的是3 * 3内核来检测水平边和垂直边： https://www.tutorialspoint.com/dip/sobel_operator.htm\n",
    "- 拉普拉斯边检测器(Laplacian edge detector)可以检测两个方向上的边： https://homepages.inf.ed.ac.uk/rbf/HIPR2/log.htm\n",
    "- Canny边检测器（Canny edge detector）在解决噪声方面由于拉普拉斯边检测器和索贝尔边检测器。Canny边检测器是一个分阶段的处理过程，用到了迟滞性来做边数据清理： https://homepages.inf.ed.ac.uk/rbf/HIPR2/canny.htm"
   ]
  },
  {
   "cell_type": "code",
   "execution_count": 8,
   "id": "19000e62",
   "metadata": {},
   "outputs": [],
   "source": [
    "%run edge_detector.py"
   ]
  },
  {
   "cell_type": "markdown",
   "id": "e9819007",
   "metadata": {},
   "source": [
    "直方图均衡化\n",
    "- 修改图像的像素以增强图像的对比强度的过程\n",
    "- 直方图均衡化不同于彩色图像的灰度化过程\n",
    "- 为了均衡彩色图像的直方图，需要用到不同于以上的步骤。直方图均衡化仅适用于亮度通道。一个RGB图像由3个颜色通道组成，因此不能对这些通道单独地做直方图均衡化，需要将强度信息从颜色信息中分离出来。\n",
    "    - 将其转换到YUV色彩空间，均衡Y通道，然后将其转换回RGB并得到输出\n",
    "    - 关于YUV色彩空间的介绍： https://softpixel.com/~cwright/programming/colorspace/yuv\n",
    "    - OpenCV默认用BGR格式加载图像，因此需要先将其从BGR转化为YUV"
   ]
  },
  {
   "cell_type": "code",
   "execution_count": 10,
   "id": "aaa7933d",
   "metadata": {},
   "outputs": [],
   "source": [
    "%run histogram_equalizer.py"
   ]
  },
  {
   "cell_type": "markdown",
   "id": "1c801562",
   "metadata": {},
   "source": [
    "检测棱角\n",
    "- 帮助识别图像中突起的点\n",
    "- 用于开发图像分析系统中最早期的特征提取技术之一\n",
    "- 哈里斯角检测器（Harris corner detector）函数： https://docs.opencv.org/3.0-beta/doc/py_tutorials/py_feature2d/py_features_harris/py_features_harris.html"
   ]
  },
  {
   "cell_type": "code",
   "execution_count": 11,
   "id": "17d9a22c",
   "metadata": {},
   "outputs": [],
   "source": [
    "%run corner_detector.py"
   ]
  },
  {
   "cell_type": "markdown",
   "id": "a72f2416",
   "metadata": {},
   "source": [
    "检测SIFT特征点\n",
    "- 尺度不变特征变换(SIFT-Scale Invariant Feature Transform), 是计算机视觉领域最常用的特征之一\n",
    "- https://www.cs.ubc.ca/~lowe/papers/ijcv04.pdf\n",
    "- SIFT是图像识别和图像内容分析领域最有效的特征之一，它在大小、方向、对比度等方面具有较强的健壮性。也是目标检测系统的基础。"
   ]
  },
  {
   "cell_type": "code",
   "execution_count": 12,
   "id": "7bdb46d0",
   "metadata": {},
   "outputs": [],
   "source": [
    "%run feature_detector.py"
   ]
  },
  {
   "cell_type": "markdown",
   "id": "49a7c835",
   "metadata": {},
   "source": [
    "创建Star特征检测器\n",
    "- 对于目标识别系统，在SIFT检测特征之前，需要用到一个不同的特征检测器，使得能够通过灵活地层叠不同的模块来获得最佳的性能\n",
    "- Star特征检测器（Star feature detector）"
   ]
  },
  {
   "cell_type": "code",
   "execution_count": 13,
   "id": "c198e4ba",
   "metadata": {},
   "outputs": [
    {
     "ename": "AttributeError",
     "evalue": "module 'cv2' has no attribute 'StarDetector_create'",
     "output_type": "error",
     "traceback": [
      "\u001b[1;31m---------------------------------------------------------------------------\u001b[0m",
      "\u001b[1;31mAttributeError\u001b[0m                            Traceback (most recent call last)",
      "File \u001b[1;32m~\\Downloads\\Github-MLLT\\MLLT\\009_Machine_Learning\\001_python机器学习经典实例\\c9\\star_detector.py:22\u001b[0m, in \u001b[0;36m<module>\u001b[1;34m\u001b[0m\n\u001b[0;32m     19\u001b[0m img_gray \u001b[38;5;241m=\u001b[39m cv2\u001b[38;5;241m.\u001b[39mcvtColor(input_img, cv2\u001b[38;5;241m.\u001b[39mCOLOR_BGR2GRAY)\n\u001b[0;32m     21\u001b[0m \u001b[38;5;66;03m# Detect features using Star feature detector\u001b[39;00m\n\u001b[1;32m---> 22\u001b[0m keypoints \u001b[38;5;241m=\u001b[39m \u001b[43mStarFeatureDetector\u001b[49m\u001b[43m(\u001b[49m\u001b[43m)\u001b[49m\u001b[38;5;241m.\u001b[39mdetect(input_img)\n\u001b[0;32m     24\u001b[0m \u001b[38;5;66;03m# Draw keypoints and display the image\u001b[39;00m\n\u001b[0;32m     25\u001b[0m cv2\u001b[38;5;241m.\u001b[39mdrawKeypoints(input_img, keypoints, input_img, \n\u001b[0;32m     26\u001b[0m         flags\u001b[38;5;241m=\u001b[39mcv2\u001b[38;5;241m.\u001b[39mDRAW_MATCHES_FLAGS_DRAW_RICH_KEYPOINTS)\n",
      "File \u001b[1;32m~\\Downloads\\Github-MLLT\\MLLT\\009_Machine_Learning\\001_python机器学习经典实例\\c9\\star_detector.py:8\u001b[0m, in \u001b[0;36mStarFeatureDetector.__init__\u001b[1;34m(self)\u001b[0m\n\u001b[0;32m      6\u001b[0m \u001b[38;5;28;01mdef\u001b[39;00m \u001b[38;5;21m__init__\u001b[39m(\u001b[38;5;28mself\u001b[39m):\n\u001b[0;32m      7\u001b[0m     \u001b[38;5;66;03m# self.detector = cv2.xfeatures2d.StarDetector_create()\u001b[39;00m\n\u001b[1;32m----> 8\u001b[0m     \u001b[38;5;28mself\u001b[39m\u001b[38;5;241m.\u001b[39mdetector \u001b[38;5;241m=\u001b[39m \u001b[43mcv2\u001b[49m\u001b[38;5;241;43m.\u001b[39;49m\u001b[43mStarDetector_create\u001b[49m()\n",
      "\u001b[1;31mAttributeError\u001b[0m: module 'cv2' has no attribute 'StarDetector_create'"
     ]
    }
   ],
   "source": [
    "%run star_detector.py\n",
    "# module 'cv2' has no attribute 'StarDetector_create'"
   ]
  },
  {
   "cell_type": "markdown",
   "id": "d988f99e",
   "metadata": {},
   "source": [
    "利用视觉码本和向量量化创建特征\n",
    "- 创建一个目标识别系统，需要从每张图中提取特征向量。每个图像要有个识别标志，用于匹配。\n",
    "- 用'视觉码本'来创建图像识别标识。在训练数据集中，码本就像是个字典，用于提出关于图像的描述。\n",
    "- 向量量化方法将很多特征点进行聚类并得出中心点，这些中心点将作为视觉码本的元素 http://mi.eng.cam.ac.uk/~cipolla/lectures/PartIB/old/IB-visualcodebook.pdf\n",
    "- 示例包括三个类的示例训练数据集，每一类包含20辐图片，下载地址： http://www.vision.caltech.edu/html-files/archive.html\n",
    "- 为创建一个健壮的目标识别系统，需要数万辐图像。有个著名的数据集Caltech256，包括256类图像，每类包含上千幅示例图像。下载地址： http://www.vision.caltech.edu/Image_Datasets/Caltech256"
   ]
  },
  {
   "cell_type": "code",
   "execution_count": 31,
   "id": "237a930b",
   "metadata": {},
   "outputs": [
    {
     "name": "stdout",
     "output_type": "stream",
     "text": [
      "====== Building visual codebook ======\n"
     ]
    },
    {
     "ename": "AttributeError",
     "evalue": "module 'cv2' has no attribute 'StarDetector_create'",
     "output_type": "error",
     "traceback": [
      "\u001b[1;31m---------------------------------------------------------------------------\u001b[0m",
      "\u001b[1;31mAttributeError\u001b[0m                            Traceback (most recent call last)",
      "File \u001b[1;32m~\\Downloads\\Github-MLLT\\MLLT\\009_Machine_Learning\\001_python机器学习经典实例\\c9\\build_features.py:184\u001b[0m, in \u001b[0;36m<module>\u001b[1;34m\u001b[0m\n\u001b[0;32m    182\u001b[0m \u001b[38;5;66;03m# Build the visual codebook\u001b[39;00m\n\u001b[0;32m    183\u001b[0m \u001b[38;5;28mprint\u001b[39m (\u001b[38;5;124m\"\u001b[39m\u001b[38;5;124m====== Building visual codebook ======\u001b[39m\u001b[38;5;124m\"\u001b[39m)\n\u001b[1;32m--> 184\u001b[0m kmeans, centroids \u001b[38;5;241m=\u001b[39m \u001b[43mFeatureBuilder\u001b[49m\u001b[43m(\u001b[49m\u001b[43m)\u001b[49m\u001b[38;5;241;43m.\u001b[39;49m\u001b[43mget_codewords\u001b[49m\u001b[43m(\u001b[49m\u001b[43mtraining_data\u001b[49m\u001b[43m,\u001b[49m\u001b[43m \u001b[49m\u001b[43mscaling_size\u001b[49m\u001b[43m)\u001b[49m\n\u001b[0;32m    185\u001b[0m \u001b[38;5;28;01mif\u001b[39;00m args\u001b[38;5;241m.\u001b[39mcodebook_file:\n\u001b[0;32m    186\u001b[0m     \u001b[38;5;28;01mwith\u001b[39;00m \u001b[38;5;28mopen\u001b[39m(args\u001b[38;5;241m.\u001b[39mcodebook_file, \u001b[38;5;124m'\u001b[39m\u001b[38;5;124mw\u001b[39m\u001b[38;5;124m'\u001b[39m) \u001b[38;5;28;01mas\u001b[39;00m f:\n",
      "File \u001b[1;32m~\\Downloads\\Github-MLLT\\MLLT\\009_Machine_Learning\\001_python机器学习经典实例\\c9\\build_features.py:83\u001b[0m, in \u001b[0;36mFeatureBuilder.get_codewords\u001b[1;34m(self, input_map, scaling_size, max_samples)\u001b[0m\n\u001b[0;32m     81\u001b[0m     \u001b[38;5;66;03m# 设置维度数为128并提取特征\u001b[39;00m\n\u001b[0;32m     82\u001b[0m     num_dims \u001b[38;5;241m=\u001b[39m \u001b[38;5;241m128\u001b[39m\n\u001b[1;32m---> 83\u001b[0m     feature_vectors \u001b[38;5;241m=\u001b[39m \u001b[38;5;28;43mself\u001b[39;49m\u001b[38;5;241;43m.\u001b[39;49m\u001b[43mextract_features\u001b[49m\u001b[43m(\u001b[49m\u001b[43mimg\u001b[49m\u001b[43m)\u001b[49m\n\u001b[0;32m     84\u001b[0m     keypoints_all\u001b[38;5;241m.\u001b[39mextend(feature_vectors) \n\u001b[0;32m     86\u001b[0m \u001b[38;5;66;03m# 用向量量化来量化特征点。向量量化是一个N维的'四舍五入',更多介绍 http://www.data-compression.com/vq.shtml\u001b[39;00m\n",
      "File \u001b[1;32m~\\Downloads\\Github-MLLT\\MLLT\\009_Machine_Learning\\001_python机器学习经典实例\\c9\\build_features.py:49\u001b[0m, in \u001b[0;36mFeatureBuilder.extract_features\u001b[1;34m(self, img)\u001b[0m\n\u001b[0;32m     48\u001b[0m \u001b[38;5;28;01mdef\u001b[39;00m \u001b[38;5;21mextract_features\u001b[39m(\u001b[38;5;28mself\u001b[39m, img):\n\u001b[1;32m---> 49\u001b[0m     keypoints \u001b[38;5;241m=\u001b[39m \u001b[43mStarFeatureDetector\u001b[49m\u001b[43m(\u001b[49m\u001b[43m)\u001b[49m\u001b[38;5;241m.\u001b[39mdetect(img)\n\u001b[0;32m     50\u001b[0m     keypoints, feature_vectors \u001b[38;5;241m=\u001b[39m compute_sift_features(img, keypoints)\n\u001b[0;32m     51\u001b[0m     \u001b[38;5;28;01mreturn\u001b[39;00m feature_vectors\n",
      "File \u001b[1;32m~\\Downloads\\Github-MLLT\\MLLT\\009_Machine_Learning\\001_python机器学习经典实例\\c9\\star_detector.py:8\u001b[0m, in \u001b[0;36mStarFeatureDetector.__init__\u001b[1;34m(self)\u001b[0m\n\u001b[0;32m      6\u001b[0m \u001b[38;5;28;01mdef\u001b[39;00m \u001b[38;5;21m__init__\u001b[39m(\u001b[38;5;28mself\u001b[39m):\n\u001b[0;32m      7\u001b[0m     \u001b[38;5;66;03m# self.detector = cv2.xfeatures2d.StarDetector_create()\u001b[39;00m\n\u001b[1;32m----> 8\u001b[0m     \u001b[38;5;28mself\u001b[39m\u001b[38;5;241m.\u001b[39mdetector \u001b[38;5;241m=\u001b[39m \u001b[43mcv2\u001b[49m\u001b[38;5;241;43m.\u001b[39;49m\u001b[43mStarDetector_create\u001b[49m()\n",
      "\u001b[1;31mAttributeError\u001b[0m: module 'cv2' has no attribute 'StarDetector_create'"
     ]
    }
   ],
   "source": [
    "%run build_features.py --data-folder ./training_images/ --codebook-file codebook.pkl --feature-map-file feature_map.pkl"
   ]
  },
  {
   "cell_type": "markdown",
   "id": "31c53d3c",
   "metadata": {},
   "source": [
    "用极端随机森林训练图像分类器\n",
    "- ERF(Extremely random forests),ERF具有较快的速度和比较精确的准确度。基于图像特征构建一组决策树，并通过训练这个森林实现正确决策\n",
    "- 关于随机森林：https://www.stat.berkeley.edu/~breiman/RandomForests/cc_home.htm\n",
    "- 关于ERF：https://people.montefiore.uliege.be/ernst/uploads/news/id63/extremely-randomized-trees.pdf"
   ]
  },
  {
   "cell_type": "code",
   "execution_count": null,
   "id": "27bc4839",
   "metadata": {},
   "outputs": [],
   "source": [
    "%run trainer.py"
   ]
  },
  {
   "cell_type": "markdown",
   "id": "932202c7",
   "metadata": {},
   "source": [
    "创建一个对象识别器\n",
    "- 训练好一个ERF模型后，接下来创建一个目标识别器，用以识别未知图像的内容"
   ]
  },
  {
   "cell_type": "code",
   "execution_count": null,
   "id": "f7468b3c",
   "metadata": {},
   "outputs": [],
   "source": [
    "%run object_recognizer.py"
   ]
  },
  {
   "cell_type": "code",
   "execution_count": null,
   "id": "7b283506",
   "metadata": {},
   "outputs": [],
   "source": []
  },
  {
   "cell_type": "code",
   "execution_count": null,
   "id": "9aeff1a8",
   "metadata": {},
   "outputs": [],
   "source": []
  },
  {
   "cell_type": "code",
   "execution_count": null,
   "id": "b20e7b17",
   "metadata": {},
   "outputs": [],
   "source": []
  },
  {
   "cell_type": "code",
   "execution_count": null,
   "id": "ec89ea18",
   "metadata": {},
   "outputs": [],
   "source": []
  },
  {
   "cell_type": "code",
   "execution_count": null,
   "id": "6640cfdb",
   "metadata": {},
   "outputs": [],
   "source": []
  },
  {
   "cell_type": "code",
   "execution_count": null,
   "id": "71336ce8",
   "metadata": {},
   "outputs": [],
   "source": []
  },
  {
   "cell_type": "code",
   "execution_count": null,
   "id": "ff876a27",
   "metadata": {},
   "outputs": [],
   "source": []
  },
  {
   "cell_type": "code",
   "execution_count": null,
   "id": "f2465f62",
   "metadata": {},
   "outputs": [],
   "source": []
  }
 ],
 "metadata": {
  "kernelspec": {
   "display_name": "Python 3 (ipykernel)",
   "language": "python",
   "name": "python3"
  },
  "language_info": {
   "codemirror_mode": {
    "name": "ipython",
    "version": 3
   },
   "file_extension": ".py",
   "mimetype": "text/x-python",
   "name": "python",
   "nbconvert_exporter": "python",
   "pygments_lexer": "ipython3",
   "version": "3.10.0"
  }
 },
 "nbformat": 4,
 "nbformat_minor": 5
}
